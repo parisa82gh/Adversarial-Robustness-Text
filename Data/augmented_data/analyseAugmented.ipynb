{
 "cells": [
  {
   "cell_type": "code",
   "execution_count": 111,
   "metadata": {},
   "outputs": [
    {
     "name": "stderr",
     "output_type": "stream",
     "text": [
      "[nltk_data] Downloading package punkt to /Users/parisa/nltk_data...\n",
      "[nltk_data]   Package punkt is already up-to-date!\n"
     ]
    },
    {
     "data": {
      "text/plain": [
       "True"
      ]
     },
     "execution_count": 111,
     "metadata": {},
     "output_type": "execute_result"
    }
   ],
   "source": [
    "import pandas as pd\n",
    "import nltk\n",
    "import numpy as np\n",
    "nltk.download('punkt')"
   ]
  },
  {
   "cell_type": "code",
   "execution_count": 113,
   "metadata": {},
   "outputs": [],
   "source": [
    "t = pd.read_csv ('real_aug_phish.csv')"
   ]
  },
  {
   "cell_type": "code",
   "execution_count": 7,
   "metadata": {},
   "outputs": [],
   "source": [
    "df_1 = pd.read_csv ('aug_1.csv')"
   ]
  },
  {
   "cell_type": "code",
   "execution_count": 8,
   "metadata": {},
   "outputs": [
    {
     "data": {
      "text/plain": [
       "(454, 5)"
      ]
     },
     "execution_count": 8,
     "metadata": {},
     "output_type": "execute_result"
    }
   ],
   "source": [
    "df_1.shape"
   ]
  },
  {
   "cell_type": "code",
   "execution_count": 9,
   "metadata": {},
   "outputs": [
    {
     "data": {
      "text/html": [
       "<div>\n",
       "<style scoped>\n",
       "    .dataframe tbody tr th:only-of-type {\n",
       "        vertical-align: middle;\n",
       "    }\n",
       "\n",
       "    .dataframe tbody tr th {\n",
       "        vertical-align: top;\n",
       "    }\n",
       "\n",
       "    .dataframe thead th {\n",
       "        text-align: right;\n",
       "    }\n",
       "</style>\n",
       "<table border=\"1\" class=\"dataframe\">\n",
       "  <thead>\n",
       "    <tr style=\"text-align: right;\">\n",
       "      <th></th>\n",
       "      <th>greedy</th>\n",
       "      <th>beam</th>\n",
       "      <th>top_k</th>\n",
       "      <th>top_p</th>\n",
       "      <th>top_k_p</th>\n",
       "    </tr>\n",
       "  </thead>\n",
       "  <tbody>\n",
       "    <tr>\n",
       "      <th>0</th>\n",
       "      <td>Dear Webmail User, Your access to the informat...</td>\n",
       "      <td>Dear Webmail User, You are receiving this mess...</td>\n",
       "      <td>Dear Webmail User, We are writing to inform yo...</td>\n",
       "      <td>Dear Webmail User, Your Admin Admin Rights are...</td>\n",
       "      <td>['Dear Webmail User, You are required to sign ...</td>\n",
       "    </tr>\n",
       "    <tr>\n",
       "      <th>1</th>\n",
       "      <td>Our record shows that your Mailbox is Out-date...</td>\n",
       "      <td>Our record shows that your Mailbox is Out-date...</td>\n",
       "      <td>Our record shows that Fidelity Funding Group i...</td>\n",
       "      <td>Our record shows that your Mailbox is Out-date...</td>\n",
       "      <td>['Our record shows that your Mailbox is Out-da...</td>\n",
       "    </tr>\n",
       "    <tr>\n",
       "      <th>2</th>\n",
       "      <td>ABSA takes stringent steps to ensure that only...</td>\n",
       "      <td>ABSA takes stringent steps to ensure that only...</td>\n",
       "      <td>ABSA takes stringent additional steps to imple...</td>\n",
       "      <td>ABSA takes stringent steps to ensure the authe...</td>\n",
       "      <td>[\"ABSA takes stringent steps to secure your ac...</td>\n",
       "    </tr>\n",
       "    <tr>\n",
       "      <th>3</th>\n",
       "      <td>Dear user@domain, We received a request from y...</td>\n",
       "      <td>Dear user@domain, We received your request to ...</td>\n",
       "      <td>Dear user@domain, We received a task on your W...</td>\n",
       "      <td>Dear user@domain, We received your instruction...</td>\n",
       "      <td>[\"Dear user@domain, We're shutting down invali...</td>\n",
       "    </tr>\n",
       "    <tr>\n",
       "      <th>4</th>\n",
       "      <td>Dear organization Staff/Student, Your student ...</td>\n",
       "      <td>Dear organization Staff/Student, We received a...</td>\n",
       "      <td>Dear organization Staff/Student/Employee, I am...</td>\n",
       "      <td>Dear organization Staff/Student, We received y...</td>\n",
       "      <td>['Dear organization Staff/Student/Employee, We...</td>\n",
       "    </tr>\n",
       "  </tbody>\n",
       "</table>\n",
       "</div>"
      ],
      "text/plain": [
       "                                              greedy  \\\n",
       "0  Dear Webmail User, Your access to the informat...   \n",
       "1  Our record shows that your Mailbox is Out-date...   \n",
       "2  ABSA takes stringent steps to ensure that only...   \n",
       "3  Dear user@domain, We received a request from y...   \n",
       "4  Dear organization Staff/Student, Your student ...   \n",
       "\n",
       "                                                beam  \\\n",
       "0  Dear Webmail User, You are receiving this mess...   \n",
       "1  Our record shows that your Mailbox is Out-date...   \n",
       "2  ABSA takes stringent steps to ensure that only...   \n",
       "3  Dear user@domain, We received your request to ...   \n",
       "4  Dear organization Staff/Student, We received a...   \n",
       "\n",
       "                                               top_k  \\\n",
       "0  Dear Webmail User, We are writing to inform yo...   \n",
       "1  Our record shows that Fidelity Funding Group i...   \n",
       "2  ABSA takes stringent additional steps to imple...   \n",
       "3  Dear user@domain, We received a task on your W...   \n",
       "4  Dear organization Staff/Student/Employee, I am...   \n",
       "\n",
       "                                               top_p  \\\n",
       "0  Dear Webmail User, Your Admin Admin Rights are...   \n",
       "1  Our record shows that your Mailbox is Out-date...   \n",
       "2  ABSA takes stringent steps to ensure the authe...   \n",
       "3  Dear user@domain, We received your instruction...   \n",
       "4  Dear organization Staff/Student, We received y...   \n",
       "\n",
       "                                             top_k_p  \n",
       "0  ['Dear Webmail User, You are required to sign ...  \n",
       "1  ['Our record shows that your Mailbox is Out-da...  \n",
       "2  [\"ABSA takes stringent steps to secure your ac...  \n",
       "3  [\"Dear user@domain, We're shutting down invali...  \n",
       "4  ['Dear organization Staff/Student/Employee, We...  "
      ]
     },
     "execution_count": 9,
     "metadata": {},
     "output_type": "execute_result"
    }
   ],
   "source": [
    "df_1.head()"
   ]
  },
  {
   "cell_type": "code",
   "execution_count": 10,
   "metadata": {},
   "outputs": [],
   "source": [
    "df_2 = pd.read_csv ('aug_2.csv')"
   ]
  },
  {
   "cell_type": "code",
   "execution_count": 13,
   "metadata": {},
   "outputs": [
    {
     "data": {
      "text/plain": [
       "(908, 5)"
      ]
     },
     "execution_count": 13,
     "metadata": {},
     "output_type": "execute_result"
    }
   ],
   "source": [
    "df_2.shape"
   ]
  },
  {
   "cell_type": "code",
   "execution_count": 14,
   "metadata": {},
   "outputs": [
    {
     "data": {
      "text/html": [
       "<div>\n",
       "<style scoped>\n",
       "    .dataframe tbody tr th:only-of-type {\n",
       "        vertical-align: middle;\n",
       "    }\n",
       "\n",
       "    .dataframe tbody tr th {\n",
       "        vertical-align: top;\n",
       "    }\n",
       "\n",
       "    .dataframe thead th {\n",
       "        text-align: right;\n",
       "    }\n",
       "</style>\n",
       "<table border=\"1\" class=\"dataframe\">\n",
       "  <thead>\n",
       "    <tr style=\"text-align: right;\">\n",
       "      <th></th>\n",
       "      <th>greedy</th>\n",
       "      <th>beam</th>\n",
       "      <th>top_k</th>\n",
       "      <th>top_p</th>\n",
       "      <th>top_k_p</th>\n",
       "    </tr>\n",
       "  </thead>\n",
       "  <tbody>\n",
       "    <tr>\n",
       "      <th>0</th>\n",
       "      <td>Dear Webmail User, We're shutting down invalid...</td>\n",
       "      <td>Dear Webmail User, Our records indicate that y...</td>\n",
       "      <td>Dear Webmail User, This important update has b...</td>\n",
       "      <td>Dear Webmail User, We're shutting down your ma...</td>\n",
       "      <td>['Dear Webmail User, Your Webmail is Out-dated...</td>\n",
       "    </tr>\n",
       "    <tr>\n",
       "      <th>1</th>\n",
       "      <td>Our record shows that your Mailbox is Out-date...</td>\n",
       "      <td>Our record shows that your Mailbox is Out-date...</td>\n",
       "      <td>Our record shows that your Mailbox has Out-of-...</td>\n",
       "      <td>Our record shows that your Mailbox is Out-date...</td>\n",
       "      <td>['Our record shows that your Mailbox is Out-da...</td>\n",
       "    </tr>\n",
       "    <tr>\n",
       "      <th>2</th>\n",
       "      <td>ABSA takes stringent steps to ensure that only...</td>\n",
       "      <td>ABSA takes stringent steps to ensure all Stude...</td>\n",
       "      <td>ABSA takes stringent steps to ensure all stude...</td>\n",
       "      <td>ABSA takes stringent steps to keep you safe Co...</td>\n",
       "      <td>['ABSA takes stringent steps to ensure quick, ...</td>\n",
       "    </tr>\n",
       "    <tr>\n",
       "      <th>3</th>\n",
       "      <td>Dear user@domain, We received a secure message...</td>\n",
       "      <td>Dear user@domain, We received a request from y...</td>\n",
       "      <td>Dear user@domain, We have detected your e-mail...</td>\n",
       "      <td>Dear user@domain, We received a request from y...</td>\n",
       "      <td>['Dear user@domain, We received a request from...</td>\n",
       "    </tr>\n",
       "    <tr>\n",
       "      <th>4</th>\n",
       "      <td>Dear organization Staff/Student, We are curren...</td>\n",
       "      <td>Dear organization Staff/Student, Please readat...</td>\n",
       "      <td>Dear organization Staff/Student/Employee, Plea...</td>\n",
       "      <td>Dear organization Staff/Student, This email ha...</td>\n",
       "      <td>['Dear organization Staff/Student Information ...</td>\n",
       "    </tr>\n",
       "  </tbody>\n",
       "</table>\n",
       "</div>"
      ],
      "text/plain": [
       "                                              greedy  \\\n",
       "0  Dear Webmail User, We're shutting down invalid...   \n",
       "1  Our record shows that your Mailbox is Out-date...   \n",
       "2  ABSA takes stringent steps to ensure that only...   \n",
       "3  Dear user@domain, We received a secure message...   \n",
       "4  Dear organization Staff/Student, We are curren...   \n",
       "\n",
       "                                                beam  \\\n",
       "0  Dear Webmail User, Our records indicate that y...   \n",
       "1  Our record shows that your Mailbox is Out-date...   \n",
       "2  ABSA takes stringent steps to ensure all Stude...   \n",
       "3  Dear user@domain, We received a request from y...   \n",
       "4  Dear organization Staff/Student, Please readat...   \n",
       "\n",
       "                                               top_k  \\\n",
       "0  Dear Webmail User, This important update has b...   \n",
       "1  Our record shows that your Mailbox has Out-of-...   \n",
       "2  ABSA takes stringent steps to ensure all stude...   \n",
       "3  Dear user@domain, We have detected your e-mail...   \n",
       "4  Dear organization Staff/Student/Employee, Plea...   \n",
       "\n",
       "                                               top_p  \\\n",
       "0  Dear Webmail User, We're shutting down your ma...   \n",
       "1  Our record shows that your Mailbox is Out-date...   \n",
       "2  ABSA takes stringent steps to keep you safe Co...   \n",
       "3  Dear user@domain, We received a request from y...   \n",
       "4  Dear organization Staff/Student, This email ha...   \n",
       "\n",
       "                                             top_k_p  \n",
       "0  ['Dear Webmail User, Your Webmail is Out-dated...  \n",
       "1  ['Our record shows that your Mailbox is Out-da...  \n",
       "2  ['ABSA takes stringent steps to ensure quick, ...  \n",
       "3  ['Dear user@domain, We received a request from...  \n",
       "4  ['Dear organization Staff/Student Information ...  "
      ]
     },
     "execution_count": 14,
     "metadata": {},
     "output_type": "execute_result"
    }
   ],
   "source": [
    "df_2.head()"
   ]
  },
  {
   "cell_type": "code",
   "execution_count": 15,
   "metadata": {},
   "outputs": [],
   "source": [
    "df_3 = pd.read_csv ('aug_3.csv')"
   ]
  },
  {
   "cell_type": "code",
   "execution_count": 16,
   "metadata": {},
   "outputs": [
    {
     "data": {
      "text/plain": [
       "(1362, 5)"
      ]
     },
     "execution_count": 16,
     "metadata": {},
     "output_type": "execute_result"
    }
   ],
   "source": [
    "df_3.shape"
   ]
  },
  {
   "cell_type": "code",
   "execution_count": 17,
   "metadata": {},
   "outputs": [
    {
     "data": {
      "text/html": [
       "<div>\n",
       "<style scoped>\n",
       "    .dataframe tbody tr th:only-of-type {\n",
       "        vertical-align: middle;\n",
       "    }\n",
       "\n",
       "    .dataframe tbody tr th {\n",
       "        vertical-align: top;\n",
       "    }\n",
       "\n",
       "    .dataframe thead th {\n",
       "        text-align: right;\n",
       "    }\n",
       "</style>\n",
       "<table border=\"1\" class=\"dataframe\">\n",
       "  <thead>\n",
       "    <tr style=\"text-align: right;\">\n",
       "      <th></th>\n",
       "      <th>greedy</th>\n",
       "      <th>beam</th>\n",
       "      <th>top_k</th>\n",
       "      <th>top_p</th>\n",
       "      <th>top_k_p</th>\n",
       "    </tr>\n",
       "  </thead>\n",
       "  <tbody>\n",
       "    <tr>\n",
       "      <th>0</th>\n",
       "      <td>Dear Webmail User, Your mailbox has exceeded i...</td>\n",
       "      <td>Dear Webmail User, We received a request from ...</td>\n",
       "      <td>Dear Webmail User, your Mail Subscriber, has e...</td>\n",
       "      <td>Dear Webmail User, The Webmail Admin has detec...</td>\n",
       "      <td>['Dear Webmail User, We detected something unu...</td>\n",
       "    </tr>\n",
       "    <tr>\n",
       "      <th>1</th>\n",
       "      <td>Our record shows that your Mailbox is Out-date...</td>\n",
       "      <td>Our record shows that your Mailbox is Out-date...</td>\n",
       "      <td>Our record shows that your Mailbox is Out-date...</td>\n",
       "      <td>Our record shows that your Mailbox is Out-date...</td>\n",
       "      <td>['Our record shows that your Mailbox account h...</td>\n",
       "    </tr>\n",
       "    <tr>\n",
       "      <th>2</th>\n",
       "      <td>ABSA takes stringent steps to ensure that only...</td>\n",
       "      <td>ABSA takes stringent steps to ensure that only...</td>\n",
       "      <td>ABSA takes stringent steps to ensure the integ...</td>\n",
       "      <td>ABSA takes stringent steps to ensure the secur...</td>\n",
       "      <td>['ABSA takes stringent steps to ensure that on...</td>\n",
       "    </tr>\n",
       "    <tr>\n",
       "      <th>3</th>\n",
       "      <td>Dear user@domain, We are writing to notify you...</td>\n",
       "      <td>Dear user@domain, We received your instruction...</td>\n",
       "      <td>Dear user@domain, We recently uninstalled your...</td>\n",
       "      <td>Dear user@domain, We received your instruction...</td>\n",
       "      <td>[\"Dear user@domain, We noticed some unusual ac...</td>\n",
       "    </tr>\n",
       "    <tr>\n",
       "      <th>4</th>\n",
       "      <td>Dear organization Staff/Student, We're shuttin...</td>\n",
       "      <td>Dear organization Staff/Student, We received a...</td>\n",
       "      <td>Dear organization Staff/Student Pressure Re: P...</td>\n",
       "      <td>Dear organization Staff/Student, We noticed an...</td>\n",
       "      <td>['Dear organization Staff/Student, Information...</td>\n",
       "    </tr>\n",
       "  </tbody>\n",
       "</table>\n",
       "</div>"
      ],
      "text/plain": [
       "                                              greedy  \\\n",
       "0  Dear Webmail User, Your mailbox has exceeded i...   \n",
       "1  Our record shows that your Mailbox is Out-date...   \n",
       "2  ABSA takes stringent steps to ensure that only...   \n",
       "3  Dear user@domain, We are writing to notify you...   \n",
       "4  Dear organization Staff/Student, We're shuttin...   \n",
       "\n",
       "                                                beam  \\\n",
       "0  Dear Webmail User, We received a request from ...   \n",
       "1  Our record shows that your Mailbox is Out-date...   \n",
       "2  ABSA takes stringent steps to ensure that only...   \n",
       "3  Dear user@domain, We received your instruction...   \n",
       "4  Dear organization Staff/Student, We received a...   \n",
       "\n",
       "                                               top_k  \\\n",
       "0  Dear Webmail User, your Mail Subscriber, has e...   \n",
       "1  Our record shows that your Mailbox is Out-date...   \n",
       "2  ABSA takes stringent steps to ensure the integ...   \n",
       "3  Dear user@domain, We recently uninstalled your...   \n",
       "4  Dear organization Staff/Student Pressure Re: P...   \n",
       "\n",
       "                                               top_p  \\\n",
       "0  Dear Webmail User, The Webmail Admin has detec...   \n",
       "1  Our record shows that your Mailbox is Out-date...   \n",
       "2  ABSA takes stringent steps to ensure the secur...   \n",
       "3  Dear user@domain, We received your instruction...   \n",
       "4  Dear organization Staff/Student, We noticed an...   \n",
       "\n",
       "                                             top_k_p  \n",
       "0  ['Dear Webmail User, We detected something unu...  \n",
       "1  ['Our record shows that your Mailbox account h...  \n",
       "2  ['ABSA takes stringent steps to ensure that on...  \n",
       "3  [\"Dear user@domain, We noticed some unusual ac...  \n",
       "4  ['Dear organization Staff/Student, Information...  "
      ]
     },
     "execution_count": 17,
     "metadata": {},
     "output_type": "execute_result"
    }
   ],
   "source": [
    "df_3.head()"
   ]
  },
  {
   "cell_type": "code",
   "execution_count": 26,
   "metadata": {},
   "outputs": [
    {
     "data": {
      "text/plain": [
       "'Dear Webmail User, your Mail Subscriber, has exceeded the storage limit which is 20GB as set by your Mail Subscriber, you are hereby directed to kindly delete all inactive and incoming Please send your Technical Support help and Copyright Notice to the Administrator This notification is from Outlook, Copyright 2011 - All rights '"
      ]
     },
     "execution_count": 26,
     "metadata": {},
     "output_type": "execute_result"
    }
   ],
   "source": [
    "df_3.iloc[0]['top_k']"
   ]
  },
  {
   "cell_type": "code",
   "execution_count": 27,
   "metadata": {},
   "outputs": [
    {
     "data": {
      "text/plain": [
       "\"Dear Webmail User, We're currently updating our privacy page with an authentic e-mail, Privacy and Security Keeping your online life secure and secure is one of our most important and important We want to read your e-mail, to establish limits on the size and count of email account you can safely send, receive, avoid, and resolve any of our webmail and Email\""
      ]
     },
     "execution_count": 27,
     "metadata": {},
     "output_type": "execute_result"
    }
   ],
   "source": [
    "df_3.iloc[454]['top_k']"
   ]
  },
  {
   "cell_type": "code",
   "execution_count": 28,
   "metadata": {},
   "outputs": [
    {
     "data": {
      "text/plain": [
       "'Dear Webmail User, Due to new development means we are shutting down your present Account to create space for new We apologize for any inconvenience and appreciate your taking this additional Please update your account now! '"
      ]
     },
     "execution_count": 28,
     "metadata": {},
     "output_type": "execute_result"
    }
   ],
   "source": [
    "df_3.iloc[908]['top_k']"
   ]
  },
  {
   "cell_type": "code",
   "execution_count": 29,
   "metadata": {},
   "outputs": [
    {
     "data": {
      "text/plain": [
       "'Dear Webmail User, Due to the volume of incoming email we are unable to receive your payroll online due to slow sending and receiving To restore your online access, please click here or log on to your account in the next 48 hours so we can check your status and get back to you as soon as possible Thank you for your '"
      ]
     },
     "execution_count": 29,
     "metadata": {},
     "output_type": "execute_result"
    }
   ],
   "source": [
    "df_3.iloc[908]['top_p']"
   ]
  },
  {
   "cell_type": "code",
   "execution_count": 30,
   "metadata": {},
   "outputs": [
    {
     "data": {
      "text/plain": [
       "'Dear Webmail User, We are writing concerning an email account maintenance issue that our account users are currently facing due to concerns regarding the validity and maintenance of your webmail access, This email was sent to us so as not to let you loose your webmail access To restore your webmail login, please follow the link to restore your webmail login to our web safe We apologize'"
      ]
     },
     "execution_count": 30,
     "metadata": {},
     "output_type": "execute_result"
    }
   ],
   "source": [
    "df_3.iloc[454]['top_p']"
   ]
  },
  {
   "cell_type": "code",
   "execution_count": 31,
   "metadata": {},
   "outputs": [
    {
     "data": {
      "text/plain": [
       "'Dear Webmail User, The Webmail Admin has detected some unusual activity related to your account and is changing your webmail settings, and it has been made mandatory for all account users to update and resolve this Please follow the link You can update your account with our New Webmail Regards, and your account will be inactive for 24 hours, you will be permanently deleted on our'"
      ]
     },
     "execution_count": 31,
     "metadata": {},
     "output_type": "execute_result"
    }
   ],
   "source": [
    "df_3.iloc[0]['top_p']"
   ]
  },
  {
   "cell_type": "code",
   "execution_count": 46,
   "metadata": {},
   "outputs": [],
   "source": [
    "augmented_phish_emails = []\n",
    "augmented_phish_emails = list(df_3['beam']) + list(df_3['top_k']) + list(df_3['top_p'])"
   ]
  },
  {
   "cell_type": "code",
   "execution_count": 48,
   "metadata": {},
   "outputs": [],
   "source": [
    "df_4 = pd.read_csv ('aug_4.csv')"
   ]
  },
  {
   "cell_type": "code",
   "execution_count": 52,
   "metadata": {},
   "outputs": [],
   "source": [
    "augmented_phish_emails = list(df_3['beam']) + list(df_3['top_k']) + list(df_3['top_p']) + list(df_4['beam']) + list(df_4['top_k']) + list(df_4['top_p'])"
   ]
  },
  {
   "cell_type": "code",
   "execution_count": 53,
   "metadata": {},
   "outputs": [
    {
     "data": {
      "text/plain": [
       "5448"
      ]
     },
     "execution_count": 53,
     "metadata": {},
     "output_type": "execute_result"
    }
   ],
   "source": [
    "len(augmented_phish_emails)"
   ]
  },
  {
   "cell_type": "code",
   "execution_count": 62,
   "metadata": {},
   "outputs": [],
   "source": [
    "one = np.ones(len(augmented_phish_emails)).astype(int)"
   ]
  },
  {
   "cell_type": "code",
   "execution_count": 63,
   "metadata": {},
   "outputs": [],
   "source": [
    "aug_phish_df = pd.DataFrame(\n",
    "    {'text': augmented_phish_emails,\n",
    "     'label': list(one)\n",
    "    })\n",
    "#list(one)"
   ]
  },
  {
   "cell_type": "code",
   "execution_count": 64,
   "metadata": {},
   "outputs": [
    {
     "data": {
      "text/html": [
       "<div>\n",
       "<style scoped>\n",
       "    .dataframe tbody tr th:only-of-type {\n",
       "        vertical-align: middle;\n",
       "    }\n",
       "\n",
       "    .dataframe tbody tr th {\n",
       "        vertical-align: top;\n",
       "    }\n",
       "\n",
       "    .dataframe thead th {\n",
       "        text-align: right;\n",
       "    }\n",
       "</style>\n",
       "<table border=\"1\" class=\"dataframe\">\n",
       "  <thead>\n",
       "    <tr style=\"text-align: right;\">\n",
       "      <th></th>\n",
       "      <th>text</th>\n",
       "      <th>label</th>\n",
       "    </tr>\n",
       "  </thead>\n",
       "  <tbody>\n",
       "    <tr>\n",
       "      <th>0</th>\n",
       "      <td>Dear Webmail User, We received a request from ...</td>\n",
       "      <td>1</td>\n",
       "    </tr>\n",
       "    <tr>\n",
       "      <th>1</th>\n",
       "      <td>Our record shows that your Mailbox is Out-date...</td>\n",
       "      <td>1</td>\n",
       "    </tr>\n",
       "    <tr>\n",
       "      <th>2</th>\n",
       "      <td>ABSA takes stringent steps to ensure that only...</td>\n",
       "      <td>1</td>\n",
       "    </tr>\n",
       "    <tr>\n",
       "      <th>3</th>\n",
       "      <td>Dear user@domain, We received your instruction...</td>\n",
       "      <td>1</td>\n",
       "    </tr>\n",
       "    <tr>\n",
       "      <th>4</th>\n",
       "      <td>Dear organization Staff/Student, We received a...</td>\n",
       "      <td>1</td>\n",
       "    </tr>\n",
       "    <tr>\n",
       "      <th>...</th>\n",
       "      <td>...</td>\n",
       "      <td>...</td>\n",
       "    </tr>\n",
       "    <tr>\n",
       "      <th>5443</th>\n",
       "      <td>Bank of Ireland and Ireland guarantee access t...</td>\n",
       "      <td>1</td>\n",
       "    </tr>\n",
       "    <tr>\n",
       "      <th>5444</th>\n",
       "      <td>Dear User, Your Account Was Detected By Admin ...</td>\n",
       "      <td>1</td>\n",
       "    </tr>\n",
       "    <tr>\n",
       "      <th>5445</th>\n",
       "      <td>Dear organization Community, You're leaving us...</td>\n",
       "      <td>1</td>\n",
       "    </tr>\n",
       "    <tr>\n",
       "      <th>5446</th>\n",
       "      <td>This is an automatically generated Please DO N...</td>\n",
       "      <td>1</td>\n",
       "    </tr>\n",
       "    <tr>\n",
       "      <th>5447</th>\n",
       "      <td>Notification From organization organization or...</td>\n",
       "      <td>1</td>\n",
       "    </tr>\n",
       "  </tbody>\n",
       "</table>\n",
       "<p>5448 rows × 2 columns</p>\n",
       "</div>"
      ],
      "text/plain": [
       "                                                   text  label\n",
       "0     Dear Webmail User, We received a request from ...      1\n",
       "1     Our record shows that your Mailbox is Out-date...      1\n",
       "2     ABSA takes stringent steps to ensure that only...      1\n",
       "3     Dear user@domain, We received your instruction...      1\n",
       "4     Dear organization Staff/Student, We received a...      1\n",
       "...                                                 ...    ...\n",
       "5443  Bank of Ireland and Ireland guarantee access t...      1\n",
       "5444  Dear User, Your Account Was Detected By Admin ...      1\n",
       "5445  Dear organization Community, You're leaving us...      1\n",
       "5446  This is an automatically generated Please DO N...      1\n",
       "5447  Notification From organization organization or...      1\n",
       "\n",
       "[5448 rows x 2 columns]"
      ]
     },
     "execution_count": 64,
     "metadata": {},
     "output_type": "execute_result"
    }
   ],
   "source": [
    "aug_phish_df"
   ]
  },
  {
   "cell_type": "code",
   "execution_count": 65,
   "metadata": {},
   "outputs": [],
   "source": [
    "aug_phish_df.to_csv('aug_phish.csv',index=False)"
   ]
  },
  {
   "cell_type": "code",
   "execution_count": 66,
   "metadata": {},
   "outputs": [
    {
     "data": {
      "text/html": [
       "<div>\n",
       "<style scoped>\n",
       "    .dataframe tbody tr th:only-of-type {\n",
       "        vertical-align: middle;\n",
       "    }\n",
       "\n",
       "    .dataframe tbody tr th {\n",
       "        vertical-align: top;\n",
       "    }\n",
       "\n",
       "    .dataframe thead th {\n",
       "        text-align: right;\n",
       "    }\n",
       "</style>\n",
       "<table border=\"1\" class=\"dataframe\">\n",
       "  <thead>\n",
       "    <tr style=\"text-align: right;\">\n",
       "      <th></th>\n",
       "      <th>text</th>\n",
       "      <th>label</th>\n",
       "    </tr>\n",
       "  </thead>\n",
       "  <tbody>\n",
       "    <tr>\n",
       "      <th>1534</th>\n",
       "      <td>The only thing you will need is a ]</td>\n",
       "      <td>1</td>\n",
       "    </tr>\n",
       "    <tr>\n",
       "      <th>4808</th>\n",
       "      <td>Our record shows that Your Mailbox is Out-date...</td>\n",
       "      <td>1</td>\n",
       "    </tr>\n",
       "    <tr>\n",
       "      <th>5278</th>\n",
       "      <td>Dear user, You have received a new message fro...</td>\n",
       "      <td>1</td>\n",
       "    </tr>\n",
       "  </tbody>\n",
       "</table>\n",
       "</div>"
      ],
      "text/plain": [
       "                                                   text  label\n",
       "1534                The only thing you will need is a ]      1\n",
       "4808  Our record shows that Your Mailbox is Out-date...      1\n",
       "5278  Dear user, You have received a new message fro...      1"
      ]
     },
     "execution_count": 66,
     "metadata": {},
     "output_type": "execute_result"
    }
   ],
   "source": [
    "aug_phish_df.sample(n=4, random_state=1)"
   ]
  },
  {
   "cell_type": "code",
   "execution_count": 121,
   "metadata": {},
   "outputs": [
    {
     "data": {
      "text/plain": [
       "(5140, 2)"
      ]
     },
     "execution_count": 121,
     "metadata": {},
     "output_type": "execute_result"
    }
   ],
   "source": [
    "aug_phish_df = pd.read_csv ('real_aug_phish.csv')\n",
    "phish_aug.shape"
   ]
  },
  {
   "cell_type": "code",
   "execution_count": 115,
   "metadata": {},
   "outputs": [],
   "source": [
    "train = pd.read_csv ('train_emails.csv')\n",
    "valid = pd.read_csv ('valid_emails.csv')\n",
    "result = train.append(valid)"
   ]
  },
  {
   "cell_type": "code",
   "execution_count": 116,
   "metadata": {},
   "outputs": [],
   "source": [
    "phish = result.loc[result['label'] == 1]\n",
    "legit = result.loc[result['label'] == 0]"
   ]
  },
  {
   "cell_type": "code",
   "execution_count": 117,
   "metadata": {},
   "outputs": [
    {
     "data": {
      "text/plain": [
       "(511, 2)"
      ]
     },
     "execution_count": 117,
     "metadata": {},
     "output_type": "execute_result"
    }
   ],
   "source": [
    "phish.shape"
   ]
  },
  {
   "cell_type": "code",
   "execution_count": 118,
   "metadata": {},
   "outputs": [
    {
     "data": {
      "text/plain": [
       "(4145, 2)"
      ]
     },
     "execution_count": 118,
     "metadata": {},
     "output_type": "execute_result"
    }
   ],
   "source": [
    "legit.shape"
   ]
  },
  {
   "cell_type": "code",
   "execution_count": 122,
   "metadata": {},
   "outputs": [],
   "source": [
    "a_1 = aug_phish_df.sample(n=511, random_state=1)"
   ]
  },
  {
   "cell_type": "code",
   "execution_count": 123,
   "metadata": {},
   "outputs": [
    {
     "data": {
      "text/plain": [
       "(511, 2)"
      ]
     },
     "execution_count": 123,
     "metadata": {},
     "output_type": "execute_result"
    }
   ],
   "source": [
    "a_1.shape"
   ]
  },
  {
   "cell_type": "code",
   "execution_count": 124,
   "metadata": {},
   "outputs": [],
   "source": [
    "train_1_4 = result.append(a_1)"
   ]
  },
  {
   "cell_type": "code",
   "execution_count": 125,
   "metadata": {},
   "outputs": [],
   "source": [
    "phish = result.loc[result['label'] == 1]\n",
    "legit = result.loc[result['label'] == 0]"
   ]
  },
  {
   "cell_type": "code",
   "execution_count": 126,
   "metadata": {},
   "outputs": [],
   "source": [
    "a_2 = aug_phish_df.sample(n=1561, random_state=1)"
   ]
  },
  {
   "cell_type": "code",
   "execution_count": 127,
   "metadata": {},
   "outputs": [],
   "source": [
    "train_1_2 = result.append(a_2)"
   ]
  },
  {
   "cell_type": "code",
   "execution_count": 128,
   "metadata": {},
   "outputs": [
    {
     "data": {
      "text/plain": [
       "(2072, 2)"
      ]
     },
     "execution_count": 128,
     "metadata": {},
     "output_type": "execute_result"
    }
   ],
   "source": [
    "train_1_2.loc[train_1_2['label'] == 1].shape"
   ]
  },
  {
   "cell_type": "code",
   "execution_count": 129,
   "metadata": {},
   "outputs": [],
   "source": [
    "a_3 = aug_phish_df.sample(n=3634, random_state=1)"
   ]
  },
  {
   "cell_type": "code",
   "execution_count": 130,
   "metadata": {},
   "outputs": [],
   "source": [
    "train_1_1 = result.append(a_3)"
   ]
  },
  {
   "cell_type": "code",
   "execution_count": 131,
   "metadata": {},
   "outputs": [],
   "source": [
    "train_1_8 = result"
   ]
  },
  {
   "cell_type": "code",
   "execution_count": 132,
   "metadata": {},
   "outputs": [
    {
     "name": "stdout",
     "output_type": "stream",
     "text": [
      "(511, 2)\n",
      "(4145, 2)\n"
     ]
    }
   ],
   "source": [
    "print(train_1_8.loc[train_1_8['label'] == 1].shape)\n",
    "print(train_1_8.loc[train_1_8['label'] == 0].shape)\n",
    "train_1_8 = train_1_8.sample(frac=1).reset_index(drop=True)\n",
    "train_1_8.to_csv('train_1_8.csv',index=False)"
   ]
  },
  {
   "cell_type": "code",
   "execution_count": 133,
   "metadata": {},
   "outputs": [
    {
     "data": {
      "text/html": [
       "<div>\n",
       "<style scoped>\n",
       "    .dataframe tbody tr th:only-of-type {\n",
       "        vertical-align: middle;\n",
       "    }\n",
       "\n",
       "    .dataframe tbody tr th {\n",
       "        vertical-align: top;\n",
       "    }\n",
       "\n",
       "    .dataframe thead th {\n",
       "        text-align: right;\n",
       "    }\n",
       "</style>\n",
       "<table border=\"1\" class=\"dataframe\">\n",
       "  <thead>\n",
       "    <tr style=\"text-align: right;\">\n",
       "      <th></th>\n",
       "      <th>text</th>\n",
       "      <th>label</th>\n",
       "    </tr>\n",
       "  </thead>\n",
       "  <tbody>\n",
       "    <tr>\n",
       "      <th>0</th>\n",
       "      <td>NSM members and supporters are currently stati...</td>\n",
       "      <td>0</td>\n",
       "    </tr>\n",
       "    <tr>\n",
       "      <th>1</th>\n",
       "      <td>I spoke to Adam earlier and gave him my genera...</td>\n",
       "      <td>0</td>\n",
       "    </tr>\n",
       "    <tr>\n",
       "      <th>2</th>\n",
       "      <td>Sorry for the We are in this weird Catch 22 ab...</td>\n",
       "      <td>0</td>\n",
       "    </tr>\n",
       "    <tr>\n",
       "      <th>3</th>\n",
       "      <td>Good I'll keep you Also max has crushed it Two...</td>\n",
       "      <td>0</td>\n",
       "    </tr>\n",
       "    <tr>\n",
       "      <th>4</th>\n",
       "      <td>organization ITserviceReceivedyourrequestto sh...</td>\n",
       "      <td>1</td>\n",
       "    </tr>\n",
       "  </tbody>\n",
       "</table>\n",
       "</div>"
      ],
      "text/plain": [
       "                                                text  label\n",
       "0  NSM members and supporters are currently stati...      0\n",
       "1  I spoke to Adam earlier and gave him my genera...      0\n",
       "2  Sorry for the We are in this weird Catch 22 ab...      0\n",
       "3  Good I'll keep you Also max has crushed it Two...      0\n",
       "4  organization ITserviceReceivedyourrequestto sh...      1"
      ]
     },
     "execution_count": 133,
     "metadata": {},
     "output_type": "execute_result"
    }
   ],
   "source": [
    "train_1_8.head()"
   ]
  },
  {
   "cell_type": "code",
   "execution_count": 134,
   "metadata": {},
   "outputs": [
    {
     "name": "stdout",
     "output_type": "stream",
     "text": [
      "(1022, 2)\n",
      "(4145, 2)\n"
     ]
    }
   ],
   "source": [
    "print(train_1_4.loc[train_1_4['label'] == 1].shape)\n",
    "print(train_1_4.loc[train_1_4['label'] == 0].shape)\n",
    "train_1_4 = train_1_4.sample(frac=1).reset_index(drop=True)\n",
    "train_1_4.to_csv('train_1_4.csv',index=False)"
   ]
  },
  {
   "cell_type": "code",
   "execution_count": 135,
   "metadata": {},
   "outputs": [
    {
     "name": "stdout",
     "output_type": "stream",
     "text": [
      "(2072, 2)\n",
      "(4145, 2)\n"
     ]
    }
   ],
   "source": [
    "print(train_1_2.loc[train_1_2['label'] == 1].shape)\n",
    "print(train_1_2.loc[train_1_2['label'] == 0].shape)\n",
    "train_1_2 = train_1_2.sample(frac=1).reset_index(drop=True)\n",
    "train_1_2.to_csv('train_1_2.csv',index=False)"
   ]
  },
  {
   "cell_type": "code",
   "execution_count": 136,
   "metadata": {},
   "outputs": [
    {
     "name": "stdout",
     "output_type": "stream",
     "text": [
      "(4145, 2)\n",
      "(4145, 2)\n"
     ]
    }
   ],
   "source": [
    "print(train_1_1.loc[train_1_1['label'] == 1].shape)\n",
    "print(train_1_1.loc[train_1_1['label'] == 0].shape)\n",
    "train_1_1 = train_1_1.sample(frac=1).reset_index(drop=True)\n",
    "train_1_1.to_csv('train_1_1.csv',index=False)"
   ]
  },
  {
   "cell_type": "code",
   "execution_count": 137,
   "metadata": {},
   "outputs": [
    {
     "data": {
      "text/html": [
       "<div>\n",
       "<style scoped>\n",
       "    .dataframe tbody tr th:only-of-type {\n",
       "        vertical-align: middle;\n",
       "    }\n",
       "\n",
       "    .dataframe tbody tr th {\n",
       "        vertical-align: top;\n",
       "    }\n",
       "\n",
       "    .dataframe thead th {\n",
       "        text-align: right;\n",
       "    }\n",
       "</style>\n",
       "<table border=\"1\" class=\"dataframe\">\n",
       "  <thead>\n",
       "    <tr style=\"text-align: right;\">\n",
       "      <th></th>\n",
       "      <th>text</th>\n",
       "      <th>label</th>\n",
       "    </tr>\n",
       "  </thead>\n",
       "  <tbody>\n",
       "    <tr>\n",
       "      <th>0</th>\n",
       "      <td>Weinsteins Sue Warners Over Profits From The H...</td>\n",
       "      <td>0</td>\n",
       "    </tr>\n",
       "    <tr>\n",
       "      <th>1</th>\n",
       "      <td>Alessandro Scarafile updated a event in the In...</td>\n",
       "      <td>0</td>\n",
       "    </tr>\n",
       "    <tr>\n",
       "      <th>2</th>\n",
       "      <td>TinyGrocery - pleasing taste buds since 2015! ...</td>\n",
       "      <td>0</td>\n",
       "    </tr>\n",
       "    <tr>\n",
       "      <th>3</th>\n",
       "      <td>Finance Guest Account (GUEST)'s trip approval...</td>\n",
       "      <td>0</td>\n",
       "    </tr>\n",
       "    <tr>\n",
       "      <th>4</th>\n",
       "      <td>05/02/2016 07:55 AM EDT By Natasha Korecki (us...</td>\n",
       "      <td>0</td>\n",
       "    </tr>\n",
       "  </tbody>\n",
       "</table>\n",
       "</div>"
      ],
      "text/plain": [
       "                                                text  label\n",
       "0  Weinsteins Sue Warners Over Profits From The H...      0\n",
       "1  Alessandro Scarafile updated a event in the In...      0\n",
       "2  TinyGrocery - pleasing taste buds since 2015! ...      0\n",
       "3   Finance Guest Account (GUEST)'s trip approval...      0\n",
       "4  05/02/2016 07:55 AM EDT By Natasha Korecki (us...      0"
      ]
     },
     "execution_count": 137,
     "metadata": {},
     "output_type": "execute_result"
    }
   ],
   "source": [
    "train_1_1.head()"
   ]
  },
  {
   "cell_type": "code",
   "execution_count": null,
   "metadata": {},
   "outputs": [],
   "source": []
  }
 ],
 "metadata": {
  "kernelspec": {
   "display_name": "Python 3",
   "language": "python",
   "name": "python3"
  },
  "language_info": {
   "codemirror_mode": {
    "name": "ipython",
    "version": 3
   },
   "file_extension": ".py",
   "mimetype": "text/x-python",
   "name": "python",
   "nbconvert_exporter": "python",
   "pygments_lexer": "ipython3",
   "version": "3.8.3"
  }
 },
 "nbformat": 4,
 "nbformat_minor": 4
}
