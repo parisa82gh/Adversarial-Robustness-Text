{
 "cells": [
  {
   "cell_type": "code",
   "execution_count": 1,
   "metadata": {},
   "outputs": [
    {
     "name": "stderr",
     "output_type": "stream",
     "text": [
      "[nltk_data] Downloading package punkt to /Users/parisa/nltk_data...\n",
      "[nltk_data]   Package punkt is already up-to-date!\n"
     ]
    },
    {
     "data": {
      "text/plain": [
       "True"
      ]
     },
     "execution_count": 1,
     "metadata": {},
     "output_type": "execute_result"
    }
   ],
   "source": [
    "import spacy\n",
    "\n",
    "import re#, string, unicodedata\n",
    "import nltk\n",
    "import pandas as pd\n",
    "import numpy as np \n",
    "\n",
    "from sklearn.metrics import confusion_matrix, f1_score,  precision_score, recall_score, accuracy_score, matthews_corrcoef\n",
    "import seaborn as sns\n",
    "import matplotlib.pyplot as plt\n",
    "\n",
    "nltk.download('punkt')"
   ]
  },
  {
   "cell_type": "markdown",
   "metadata": {},
   "source": [
    "### Parse text attack logs"
   ]
  },
  {
   "cell_type": "code",
   "execution_count": 2,
   "metadata": {},
   "outputs": [],
   "source": [
    "def intersection(lst1, lst2):\n",
    "    lst3 = [value for value in lst1 if value in lst2]\n",
    "    return lst3\n",
    "   \n",
    "def remove_brackets(sample_str):\n",
    "    sample_str = sample_str.replace(\"[[\", \"\")\n",
    "    sample_str = sample_str.replace(\"]]\", \"\")\n",
    "    return sample_str\n",
    "\n",
    "def clean_up_list(str_list):\n",
    "    final_list=[]\n",
    "    for item in str_list:\n",
    "        final_list.append(remove_brackets(item))\n",
    "    return final_list\n",
    "\n",
    "def comparing(lst1, lst2):\n",
    "    items = intersection(lst1, lst2)\n",
    "    return len(items), items\n",
    "\n",
    "# Generate a report from the imtersection between 2 different arracks\n",
    "def intersection_report(failed_lst1, failed_lst2,succeeded_lst1, succeeded_lst2, attack1, attack2):\n",
    "    \n",
    "    f_intersect_num, f_intersect_items = comparing(failed_lst1, failed_lst2)\n",
    "    print('Intersection number of failed examples between', attack1, 'and', attack2, sep=\" \")\n",
    "    print(f_intersect_num)\n",
    "   \n",
    "    s_intersect_num, s_intersect_items = comparing(succeeded_lst1, succeeded_lst2)\n",
    "    print('Intersection number of succeeded examples between', attack1, 'and', attack2, sep=\" \")\n",
    "    print(s_intersect_num)\n",
    "    \n",
    "    return f_intersect_items, s_intersect_items\n",
    "\n",
    "# Parse textattack results\n",
    "def parse_text_file(filename):\n",
    "    # Constant Variable\n",
    "    divide_section_string = '--------------------------------------------- Result'\n",
    "    # Initialize variable\n",
    "    count = 0\n",
    "    failed_examples = []\n",
    "    succeeded_examples = []\n",
    "    attack_examples = []\n",
    "    # Read text file line by line\n",
    "    f = open(filename, 'r')\n",
    "    lines = f.readlines()\n",
    "   \n",
    "    pattern = re.compile(r'\\[\\[[0-9a-zA-Z\\'\\-]+\\]\\]')\n",
    "\n",
    "    while count < len(lines):\n",
    "        if divide_section_string in lines[count]: \n",
    "            count += 1\n",
    "            if '[[[FAILED]]]' in lines[count] or '[[SKIPPED]]' in lines[count]:\n",
    "                count += 2\n",
    "                failed_examples.append(lines[count])\n",
    "            else:\n",
    "                count += 2\n",
    "                succeeded_examples.append(lines[count])\n",
    "                count += 2\n",
    "                attack_examples.append(lines[count])\n",
    "            count +=1\n",
    "        count += 1       \n",
    "\n",
    "    return failed_examples, succeeded_examples, attack_examples"
   ]
  },
  {
   "cell_type": "markdown",
   "metadata": {},
   "source": [
    "### Extract purturbed words from attack examples "
   ]
  },
  {
   "cell_type": "code",
   "execution_count": 3,
   "metadata": {},
   "outputs": [],
   "source": [
    "def extract_label(t_s_result,df_ref):\n",
    "\n",
    "    df_text = df_ref['text'].tolist()\n",
    "    df_label = df_ref['label'].tolist()\n",
    "    \n",
    "    for i in range(len(df_text)):\n",
    "        df_text[i] = df_text[i].replace('\\n', '')\n",
    "    \n",
    "    prediction = []\n",
    "\n",
    "    indexes = []\n",
    "    for i in range(len(t_s_result)):\n",
    "        #print(i)\n",
    "        indexes.append(df_text.index(t_s_result[i].replace('\\n', '')))\n",
    "   \n",
    "    for i in range(len(df_label)):\n",
    "        if i in indexes:\n",
    "            if df_ref.iloc[i]['label'] == 0:\n",
    "                prediction.append(1)\n",
    "            else:\n",
    "                prediction.append(0)\n",
    "        else:\n",
    "            prediction.append(df_ref.iloc[i]['label'])\n",
    "    \n",
    "    #print(indexes)\n",
    "    return prediction"
   ]
  },
  {
   "cell_type": "markdown",
   "metadata": {},
   "source": [
    "## Confusion matrix visualization"
   ]
  },
  {
   "cell_type": "code",
   "execution_count": 4,
   "metadata": {},
   "outputs": [],
   "source": [
    "# Visualize confusion matrix\n",
    "def confusion_show(cf_matrix, model ,attack):\n",
    "    ax = sns.heatmap(cf_matrix, annot=True, cmap='Blues')\n",
    "\n",
    "    ax.set_title(model + ' under ' + attack + ' Attack Confusion Matrix\\n');\n",
    "    ax.set_xlabel('\\nPredicted Values')\n",
    "    ax.set_ylabel('Actual Values ');\n",
    "\n",
    "## Ticket labels - List must be in alphabetical order\n",
    "    ax.xaxis.set_ticklabels(['Legit','Phish'])\n",
    "    ax.yaxis.set_ticklabels(['Legit','Phish'])\n",
    "\n",
    "## Display the visualization of the Confusion Matrix.\n",
    "plt.show()"
   ]
  },
  {
   "cell_type": "markdown",
   "metadata": {},
   "source": [
    "## Print performance metric"
   ]
  },
  {
   "cell_type": "code",
   "execution_count": 5,
   "metadata": {},
   "outputs": [],
   "source": [
    "def print_metrics(y_true,prediction):\n",
    "    print('Accuracy', accuracy_score(y_true,prediction))\n",
    "    print('F1 Score:', f1_score(y_true,prediction))\n",
    "    print('Precision:', precision_score(y_true,prediction))\n",
    "    print('Recall Score:', recall_score(y_true,prediction))\n",
    "    print('MCC: ', matthews_corrcoef(y_true,prediction))"
   ]
  },
  {
   "cell_type": "markdown",
   "metadata": {},
   "source": [
    "### Import textattack results from performing different attack method"
   ]
  },
  {
   "cell_type": "markdown",
   "metadata": {},
   "source": [
    "## ALBERT with adversarial data"
   ]
  },
  {
   "cell_type": "code",
   "execution_count": 8,
   "metadata": {},
   "outputs": [],
   "source": [
    "df_test = pd.read_csv('textattack-logs/test_f_adv.csv')\n",
    "\n",
    "t_failed_examples, t_succeeded_examples, t_attack_examples = parse_text_file('textattack-logs/textfooler_albert_adv_1')\n",
    "p_failed_examples, p_succeeded_examples, p_attack_examples = parse_text_file('textattack-logs/pwws_albert_adv_1')\n",
    "d_failed_examples, d_succeeded_examples, d_attack_examples = parse_text_file('textattack-logs/deepwordbug_albert_adv_1')\n",
    "b_failed_examples, b_succeeded_examples, b_attack_examples = parse_text_file('textattack-logs/bae_albert_adv_1')\n",
    "\n",
    "\n",
    "\n",
    "t_s_result = clean_up_list(t_succeeded_examples)\n",
    "p_s_result = clean_up_list(p_succeeded_examples)\n",
    "d_s_result = clean_up_list(d_succeeded_examples)\n",
    "b_s_result = clean_up_list(b_succeeded_examples)\n",
    "\n",
    "\n",
    "prediction_t = extract_label(t_s_result,df_test)\n",
    "prediction_p = extract_label(p_s_result,df_test)\n",
    "prediction_d = extract_label(d_s_result,df_test)\n",
    "prediction_b = extract_label(b_s_result,df_test)\n",
    "\n",
    "y_true = df_test['label'].tolist()"
   ]
  },
  {
   "cell_type": "code",
   "execution_count": 9,
   "metadata": {},
   "outputs": [
    {
     "name": "stdout",
     "output_type": "stream",
     "text": [
      "***********\n",
      "Textfooler\n",
      "***********\n",
      "Accuracy 0.7597684515195369\n",
      "F1 Score: 0.30833333333333335\n",
      "Precision: 0.5211267605633803\n",
      "Recall Score: 0.21893491124260356\n",
      "MCC:  0.2177269616004682\n",
      "***********\n",
      "PWWS\n",
      "***********\n",
      "Accuracy 0.7945007235890015\n",
      "F1 Score: 0.3931623931623932\n",
      "Precision: 0.7076923076923077\n",
      "Recall Score: 0.27218934911242604\n",
      "MCC:  0.34718564904570537\n",
      "***********\n",
      "DeepWordBug\n",
      "***********\n",
      "Accuracy 0.7785817655571635\n",
      "F1 Score: 0.32599118942731276\n",
      "Precision: 0.6379310344827587\n",
      "Recall Score: 0.21893491124260356\n",
      "MCC:  0.2770125974225927\n",
      "***********\n",
      "BAE\n",
      "***********\n",
      "Accuracy 0.9059334298118669\n",
      "F1 Score: 0.7896440129449838\n",
      "Precision: 0.8714285714285714\n",
      "Recall Score: 0.7218934911242604\n",
      "MCC:  0.7351146790797448\n"
     ]
    }
   ],
   "source": [
    "print('***********')\n",
    "print('Textfooler')\n",
    "print('***********')\n",
    "print_metrics(y_true, prediction_t)\n",
    "\n",
    "print('***********')\n",
    "print('PWWS')\n",
    "print('***********')\n",
    "print_metrics(y_true, prediction_p)\n",
    "\n",
    "print('***********')\n",
    "print('DeepWordBug')\n",
    "print('***********')\n",
    "print_metrics(y_true, prediction_d)\n",
    "\n",
    "print('***********')\n",
    "print('BAE')\n",
    "print('***********')\n",
    "print_metrics(y_true, prediction_b)"
   ]
  },
  {
   "cell_type": "markdown",
   "metadata": {},
   "source": [
    "## ALBERT with half of adversarial data"
   ]
  },
  {
   "cell_type": "code",
   "execution_count": 10,
   "metadata": {},
   "outputs": [],
   "source": [
    "df_test = pd.read_csv('textattack-logs/test_f_adv_half.csv')\n",
    "\n",
    "t_failed_examples, t_succeeded_examples, t_attack_examples = parse_text_file('textattack-logs/textfooler_albert_adv_half_1')\n",
    "p_failed_examples, p_succeeded_examples, p_attack_examples = parse_text_file('textattack-logs/pwws_albert_adv_half_1')\n",
    "d_failed_examples, d_succeeded_examples, d_attack_examples = parse_text_file('textattack-logs/deepwordbug_albert_adv_half_1')\n",
    "b_failed_examples, b_succeeded_examples, b_attack_examples = parse_text_file('textattack-logs/bae_albert_adv_half_1')\n",
    "\n",
    "\n",
    "\n",
    "t_s_result = clean_up_list(t_succeeded_examples)\n",
    "p_s_result = clean_up_list(p_succeeded_examples)\n",
    "d_s_result = clean_up_list(d_succeeded_examples)\n",
    "b_s_result = clean_up_list(b_succeeded_examples)\n",
    "\n",
    "\n",
    "prediction_t = extract_label(t_s_result,df_test)\n",
    "prediction_p = extract_label(p_s_result,df_test)\n",
    "prediction_d = extract_label(d_s_result,df_test)\n",
    "prediction_b = extract_label(b_s_result,df_test)\n",
    "\n",
    "y_true = df_test['label'].tolist()"
   ]
  },
  {
   "cell_type": "code",
   "execution_count": 68,
   "metadata": {},
   "outputs": [
    {
     "name": "stdout",
     "output_type": "stream",
     "text": [
      "***********\n",
      "Textfooler\n",
      "***********\n",
      "Accuracy 0.6589403973509934\n",
      "F1 Score: 0.24817518248175185\n",
      "Precision: 0.2111801242236025\n",
      "Recall Score: 0.3008849557522124\n",
      "MCC:  0.03724581824787409\n",
      "***********\n",
      "PWWS\n",
      "***********\n",
      "Accuracy 0.793046357615894\n",
      "F1 Score: 0.4343891402714932\n",
      "Precision: 0.4444444444444444\n",
      "Recall Score: 0.4247787610619469\n",
      "MCC:  0.3079401214687558\n",
      "***********\n",
      "DeepWordBug\n",
      "***********\n",
      "Accuracy 0.7980132450331126\n",
      "F1 Score: 0.4077669902912622\n",
      "Precision: 0.45161290322580644\n",
      "Recall Score: 0.37168141592920356\n",
      "MCC:  0.2893727893183148\n",
      "***********\n",
      "BAE\n",
      "***********\n",
      "Accuracy 0.8857615894039735\n",
      "F1 Score: 0.7396226415094339\n",
      "Precision: 0.6447368421052632\n",
      "Recall Score: 0.8672566371681416\n",
      "MCC:  0.6805244374662863\n"
     ]
    }
   ],
   "source": [
    "print('***********')\n",
    "print('Textfooler')\n",
    "print('***********')\n",
    "print_metrics(y_true, prediction_t)\n",
    "#print(confusion_matrix(y_true, prediction_t + prediction_t_400))\n",
    "\n",
    "#confusion_show(confusion_matrix(y_true, prediction_t + prediction_t_400), 'ALBERT', 'Textfooler')\n",
    "print('***********')\n",
    "print('PWWS')\n",
    "print('***********')\n",
    "print_metrics(y_true, prediction_p)\n",
    "#print(confusion_matrix(y_true, prediction_p + prediction_p_400))\n",
    "#confusion_show(confusion_matrix(y_true, prediction_p + prediction_p_400), 'ALBERT', 'PWWS')\n",
    "print('***********')\n",
    "print('DeepWordBug')\n",
    "print('***********')\n",
    "print_metrics(y_true, prediction_d)\n",
    "#print(confusion_matrix(y_true, prediction_d + prediction_d_400))\n",
    "#confusion_show(confusion_matrix(y_true, prediction_d + prediction_d_400), 'ALBERT', 'DeepWordBug')\n",
    "print('***********')\n",
    "print('BAE')\n",
    "print('***********')\n",
    "print_metrics(y_true, prediction_b)"
   ]
  },
  {
   "cell_type": "markdown",
   "metadata": {},
   "source": [
    "### ALBERT"
   ]
  },
  {
   "cell_type": "code",
   "execution_count": 13,
   "metadata": {},
   "outputs": [
    {
     "name": "stdout",
     "output_type": "stream",
     "text": [
      "***********\n",
      "Textfooler\n",
      "***********\n",
      "Accuracy 0.7876447876447876\n",
      "F1 Score: 0.08333333333333333\n",
      "Precision: 0.07936507936507936\n",
      "Recall Score: 0.08771929824561403\n",
      "MCC:  -0.03647289311171776\n",
      "***********\n",
      "PWWS\n",
      "***********\n",
      "Accuracy 0.8648648648648649\n",
      "F1 Score: 0.12499999999999997\n",
      "Precision: 0.21739130434782608\n",
      "Recall Score: 0.08771929824561403\n",
      "MCC:  0.07394624689163928\n",
      "***********\n",
      "DeepWordBug\n",
      "***********\n",
      "Accuracy 0.8725868725868726\n",
      "F1 Score: 0.13157894736842105\n",
      "Precision: 0.2631578947368421\n",
      "Recall Score: 0.08771929824561403\n",
      "MCC:  0.09547689535246852\n",
      "***********\n",
      "BAE\n",
      "***********\n",
      "Accuracy 0.9517374517374517\n",
      "F1 Score: 0.8\n",
      "Precision: 0.7352941176470589\n",
      "Recall Score: 0.8771929824561403\n",
      "MCC:  0.7766897872335184\n"
     ]
    }
   ],
   "source": [
    "df_test = pd.read_csv('textattack-logs/test_emails.csv')\n",
    "\n",
    "t_failed_examples, t_succeeded_examples, t_attack_examples = parse_text_file('textattack-logs/albert_textfooler')\n",
    "p_failed_examples, p_succeeded_examples, p_attack_examples = parse_text_file('textattack-logs/albert_pwws')\n",
    "d_failed_examples, d_succeeded_examples, d_attack_examples = parse_text_file('textattack-logs/albert_deepwordbug')\n",
    "b_failed_examples, b_succeeded_examples, b_attack_examples = parse_text_file('textattack-logs/albert_bae')\n",
    "\n",
    "t_400_failed_examples, t_400_succeeded_examples, t_400_attack_examples = parse_text_file('textattack-logs/400_textfooler_albert')\n",
    "p_400_failed_examples, p_400_succeeded_examples, p_400_attack_examples = parse_text_file('textattack-logs/400_pwws_albert')\n",
    "d_400_failed_examples, d_400_succeeded_examples, d_400_attack_examples = parse_text_file('textattack-logs/400_deepwordbug_albert')\n",
    "b_400_failed_examples, b_400_succeeded_examples, b_400_attack_examples = parse_text_file('textattack-logs/400_bae_albert')\n",
    "\n",
    "t_s_result = clean_up_list(t_succeeded_examples)\n",
    "p_s_result = clean_up_list(p_succeeded_examples)\n",
    "d_s_result = clean_up_list(d_succeeded_examples)\n",
    "b_s_result = clean_up_list(b_succeeded_examples)\n",
    "                                                                                              \n",
    "\n",
    "\n",
    "t_s_400_result = clean_up_list(t_400_succeeded_examples)\n",
    "p_s_400_result = clean_up_list(p_400_succeeded_examples)\n",
    "d_s_400_result = clean_up_list(d_400_succeeded_examples)\n",
    "b_s_400_result = clean_up_list(b_400_succeeded_examples)\n",
    "\n",
    "\n",
    "prediction_t = extract_label(t_s_result,df_test.iloc[:100])\n",
    "prediction_p = extract_label(p_s_result,df_test.iloc[:100])\n",
    "prediction_d = extract_label(d_s_result,df_test.iloc[:100])\n",
    "prediction_b = extract_label(b_s_result,df_test.iloc[:100])\n",
    "\n",
    "prediction_t_400 = extract_label(t_s_400_result,df_test.iloc[100:])\n",
    "prediction_p_400 = extract_label(p_s_400_result,df_test.iloc[100:])\n",
    "prediction_d_400 = extract_label(d_s_400_result,df_test.iloc[100:])\n",
    "prediction_b_400 = extract_label(b_s_400_result,df_test.iloc[100:])\n",
    "\n",
    "\n",
    "y_true = df_test['label'].tolist()\n",
    "\n",
    "\n",
    "print('***********')\n",
    "print('Textfooler')\n",
    "print('***********')\n",
    "print_metrics(y_true, prediction_t + prediction_t_400)\n",
    "#print(confusion_matrix(y_true, prediction_t + prediction_t_400))\n",
    "\n",
    "#confusion_show(confusion_matrix(y_true, prediction_t + prediction_t_400), 'ALBERT', 'Textfooler')\n",
    "print('***********')\n",
    "print('PWWS')\n",
    "print('***********')\n",
    "print_metrics(y_true, prediction_p + prediction_p_400)\n",
    "#print(confusion_matrix(y_true, prediction_p + prediction_p_400))\n",
    "#confusion_show(confusion_matrix(y_true, prediction_p + prediction_p_400), 'ALBERT', 'PWWS')\n",
    "print('***********')\n",
    "print('DeepWordBug')\n",
    "print('***********')\n",
    "print_metrics(y_true, prediction_d + prediction_d_400)\n",
    "#print(confusion_matrix(y_true, prediction_d + prediction_d_400))\n",
    "#confusion_show(confusion_matrix(y_true, prediction_d + prediction_d_400), 'ALBERT', 'DeepWordBug')\n",
    "print('***********')\n",
    "print('BAE')\n",
    "print('***********')\n",
    "print_metrics(y_true, prediction_b + prediction_b_400)\n",
    "#print(confusion_matrix(y_true, prediction_b + prediction_b_400))\n",
    "#confusion_show(confusion_matrix(y_true, prediction_b + prediction_b_400), 'ALBERT', 'BAE')\n"
   ]
  },
  {
   "cell_type": "code",
   "execution_count": 14,
   "metadata": {},
   "outputs": [
    {
     "name": "stdout",
     "output_type": "stream",
     "text": [
      "[[403  58]\n",
      " [ 52   5]]\n"
     ]
    },
    {
     "data": {
      "image/png": "[encoded data removed]",
      "text/plain": [
       "<Figure size 432x288 with 2 Axes>"
      ]
     },
     "metadata": {
      "needs_background": "light"
     },
     "output_type": "display_data"
    }
   ],
   "source": [
    "print(confusion_matrix(y_true, prediction_t + prediction_t_400))\n",
    "confusion_show(confusion_matrix(y_true, prediction_t + prediction_t_400), 'ALBERT', 'Textfooler')"
   ]
  },
  {
   "cell_type": "code",
   "execution_count": 15,
   "metadata": {},
   "outputs": [
    {
     "name": "stdout",
     "output_type": "stream",
     "text": [
      "[[443  18]\n",
      " [ 52   5]]\n"
     ]
    },
    {
     "data": {
      "image/png": "[encoded data removed]",
      "text/plain": [
       "<Figure size 432x288 with 2 Axes>"
      ]
     },
     "metadata": {
      "needs_background": "light"
     },
     "output_type": "display_data"
    }
   ],
   "source": [
    "print(confusion_matrix(y_true, prediction_p + prediction_p_400))\n",
    "confusion_show(confusion_matrix(y_true, prediction_p + prediction_p_400), 'ALBERT', 'PWWS')"
   ]
  },
  {
   "cell_type": "code",
   "execution_count": 9,
   "metadata": {},
   "outputs": [
    {
     "name": "stdout",
     "output_type": "stream",
     "text": [
      "[[447  14]\n",
      " [ 52   5]]\n"
     ]
    },
    {
     "data": {
      "image/png": "[encoded data removed]",
      "text/plain": [
       "<Figure size 432x288 with 2 Axes>"
      ]
     },
     "metadata": {
      "needs_background": "light"
     },
     "output_type": "display_data"
    }
   ],
   "source": [
    "print(confusion_matrix(y_true, prediction_d + prediction_d_400))\n",
    "confusion_show(confusion_matrix(y_true, prediction_d + prediction_d_400), 'ALBERT', 'DeepWordBug')"
   ]
  },
  {
   "cell_type": "code",
   "execution_count": 11,
   "metadata": {
    "scrolled": true
   },
   "outputs": [
    {
     "name": "stdout",
     "output_type": "stream",
     "text": [
      "[[443  18]\n",
      " [  7  50]]\n"
     ]
    },
    {
     "data": {
      "image/png": "[encoded data removed]",
      "text/plain": [
       "<Figure size 432x288 with 2 Axes>"
      ]
     },
     "metadata": {
      "needs_background": "light"
     },
     "output_type": "display_data"
    }
   ],
   "source": [
    "print(confusion_matrix(y_true, prediction_b + prediction_b_400))\n",
    "confusion_show(confusion_matrix(y_true, prediction_b + prediction_b_400), 'ALBERT', 'BAE')"
   ]
  },
  {
   "cell_type": "markdown",
   "metadata": {},
   "source": [
    "## ALBERT with augmented data, 1 to 1 ratio"
   ]
  },
  {
   "cell_type": "code",
   "execution_count": 18,
   "metadata": {},
   "outputs": [],
   "source": [
    "t_aug_failed_examples, t_aug_succeeded_examples, t_aug_attack_examples = parse_text_file('textattack-logs/aug_albert_1_1_textfooler')\n",
    "p_aug_failed_examples, p_aug_succeeded_examples, p_aug_attack_examples = parse_text_file('textattack-logs/aug_albert_1_1_pwws')\n",
    "d_aug_failed_examples, d_aug_succeeded_examples, d_aug_attack_examples = parse_text_file('textattack-logs/aug_albert_1_1_deepwordbug')\n",
    "b_aug_failed_examples, b_aug_succeeded_examples, b_aug_attackexamples = parse_text_file('textattack-logs/bae_aug_albert')\n",
    "\n",
    "t_aug_400_failed_examples, t_aug_400_succeeded_examples, t_aug_400_attack_examples = parse_text_file('textattack-logs/400_textfooler_aug_albert')\n",
    "p_aug_400_failed_examples, p_aug_400_succeeded_examples, p_aug_400_attack_examples = parse_text_file('textattack-logs/400_pwws_aug_albert')\n",
    "d_aug_400_failed_examples, d_aug_400_succeeded_examples, d_aug_400_attack_examples = parse_text_file('textattack-logs/400_deepwordbug_aug_albert')\n",
    "\n",
    "t_aug_s_result = clean_up_list(t_aug_succeeded_examples)\n",
    "p_aug_s_result = clean_up_list(p_aug_succeeded_examples)\n",
    "d_aug_s_result = clean_up_list(d_aug_succeeded_examples)\n",
    "b_aug_s_result = clean_up_list(b_aug_succeeded_examples)\n",
    "\n",
    "t_aug_s_400_result = clean_up_list(t_400_succeeded_examples)\n",
    "p_aug_s_400_result = clean_up_list(p_400_succeeded_examples)\n",
    "d_aug_s_400_result = clean_up_list(d_400_succeeded_examples)\n"
   ]
  },
  {
   "cell_type": "code",
   "execution_count": 19,
   "metadata": {},
   "outputs": [],
   "source": [
    "prediction_t_aug = extract_label(t_aug_s_result,df_test.iloc[:100])\n",
    "prediction_p_aug = extract_label(p_aug_s_result,df_test.iloc[:100])\n",
    "prediction_d_aug = extract_label(d_aug_s_result,df_test.iloc[:100])\n",
    "prediction_b_aug = extract_label(b_aug_s_result,df_test)\n",
    "\n",
    "prediction_t_400_aug = extract_label(t_aug_s_400_result,df_test.iloc[100:])\n",
    "prediction_p_400_aug = extract_label(p_aug_s_400_result,df_test.iloc[100:])\n",
    "prediction_d_400_aug = extract_label(d_aug_s_400_result,df_test.iloc[100:])\n"
   ]
  },
  {
   "cell_type": "code",
   "execution_count": 20,
   "metadata": {},
   "outputs": [
    {
     "name": "stdout",
     "output_type": "stream",
     "text": [
      "***********\n",
      "Textfooler\n",
      "***********\n",
      "Accuracy 0.7393822393822393\n",
      "F1 Score: 0.0689655172413793\n",
      "Precision: 0.056818181818181816\n",
      "Recall Score: 0.08771929824561403\n",
      "MCC:  -0.07693559947818486\n",
      "[[378  83]\n",
      " [ 52   5]]\n",
      "***********\n",
      "PWWS\n",
      "***********\n",
      "Accuracy 0.8552123552123552\n",
      "F1 Score: 0.13793103448275862\n",
      "Precision: 0.2\n",
      "Recall Score: 0.10526315789473684\n",
      "MCC:  0.0712768900815337\n",
      "[[437  24]\n",
      " [ 51   6]]\n",
      "***********\n",
      "DeepWordBug\n",
      "***********\n",
      "Accuracy 0.8648648648648649\n",
      "F1 Score: 0.14634146341463414\n",
      "Precision: 0.24\n",
      "Recall Score: 0.10526315789473684\n",
      "MCC:  0.09351962602718147\n",
      "[[447  14]\n",
      " [ 52   5]]\n",
      "***********\n",
      "BAE\n",
      "***********\n",
      "Accuracy 0.8918918918918919\n",
      "F1 Score: 0.6455696202531646\n",
      "Precision: 0.504950495049505\n",
      "Recall Score: 0.8947368421052632\n",
      "MCC:  0.6210616786253471\n",
      "[[411  50]\n",
      " [  6  51]]\n"
     ]
    }
   ],
   "source": [
    "print('***********')\n",
    "print('Textfooler')\n",
    "print('***********')\n",
    "print_metrics(y_true, prediction_t_aug + prediction_t_400_aug)\n",
    "print(confusion_matrix(y_true, prediction_t_aug + prediction_t_400_aug))\n",
    "print('***********')\n",
    "print('PWWS')\n",
    "print('***********')\n",
    "print_metrics(y_true, prediction_p_aug + prediction_p_400_aug)\n",
    "print(confusion_matrix(y_true, prediction_p_aug + prediction_p_400_aug))\n",
    "print('***********')\n",
    "print('DeepWordBug')\n",
    "print('***********')\n",
    "print_metrics(y_true, prediction_d_aug + prediction_d_400_aug)\n",
    "print(confusion_matrix(y_true, prediction_d + prediction_d_400))\n",
    "print('***********')\n",
    "print('BAE')\n",
    "print('***********')\n",
    "print_metrics(y_true, prediction_b_aug)\n",
    "print(confusion_matrix(y_true, prediction_b_aug))"
   ]
  },
  {
   "cell_type": "markdown",
   "metadata": {},
   "source": [
    "## ALBERT with augmented data, 1 to 2 ratio"
   ]
  },
  {
   "cell_type": "code",
   "execution_count": 22,
   "metadata": {},
   "outputs": [],
   "source": [
    "t_aug_2_failed_examples, t_aug_2_succeeded_examples, t_aug_2_attack_examples = parse_text_file('textattack-logs/aug_albert_1_2_textfooler')\n",
    "p_aug_2_failed_examples, p_aug_2_succeeded_examples, p_aug_2_attack_examples = parse_text_file('textattack-logs/aug_albert_1_2_pwws')\n",
    "d_aug_2_failed_examples, d_aug_2_succeeded_examples, d_aug_2_attack_examples = parse_text_file('textattack-logs/aug_albert_1_2_deepwordbug')\n",
    "b_aug_2_failed_examples, b_aug_2_succeeded_examples, b_aug_2_attackexamples = parse_text_file('textattack-logs/bae_aug_albert_1_2')\n",
    "\n",
    "t_aug_2_400_failed_examples, t_aug_2_400_succeeded_examples, t_aug_400_2_attack_examples = parse_text_file('textattack-logs/400_textfooler_aug_albert_1_2')\n",
    "p_aug_2_400_failed_examples, p_aug_2_400_succeeded_examples, p_aug_400_2_attack_examples = parse_text_file('textattack-logs/400_pwws_aug_albert_1_2')\n",
    "d_aug_2_400_failed_examples, d_aug_2_400_succeeded_examples, d_aug_400_2_attack_examples = parse_text_file('textattack-logs/400_deepwordbug_aug_albert_1_2')\n",
    "\n",
    "t_aug_2_s_result = clean_up_list(t_aug_2_succeeded_examples)\n",
    "p_aug_2_s_result = clean_up_list(p_aug_2_succeeded_examples)\n",
    "d_aug_2_s_result = clean_up_list(d_aug_2_succeeded_examples)\n",
    "b_aug_2_s_result = clean_up_list(b_aug_2_succeeded_examples)\n",
    "\n",
    "\n",
    "t_aug_2_s_400_result = clean_up_list(t_aug_2_400_succeeded_examples)\n",
    "p_aug_2_s_400_result = clean_up_list(p_aug_2_400_succeeded_examples)\n",
    "d_aug_2_s_400_result = clean_up_list(d_aug_2_400_succeeded_examples)\n",
    "\n"
   ]
  },
  {
   "cell_type": "code",
   "execution_count": 23,
   "metadata": {},
   "outputs": [],
   "source": [
    "prediction_t_aug_2 = extract_label(t_aug_2_s_result,df_test.iloc[:100])\n",
    "prediction_p_aug_2 = extract_label(p_aug_2_s_result,df_test.iloc[:100])\n",
    "prediction_d_aug_2 = extract_label(d_aug_2_s_result,df_test.iloc[:100])\n",
    "prediction_b_aug_2 = extract_label(b_aug_2_s_result,df_test)\n",
    "\n",
    "prediction_t_400_aug_2 = extract_label(t_aug_2_s_400_result,df_test.iloc[100:])\n",
    "prediction_p_400_aug_2 = extract_label(p_aug_2_s_400_result,df_test.iloc[100:])\n",
    "prediction_d_400_aug_2 = extract_label(d_aug_2_s_400_result,df_test.iloc[100:])"
   ]
  },
  {
   "cell_type": "code",
   "execution_count": 24,
   "metadata": {},
   "outputs": [
    {
     "name": "stdout",
     "output_type": "stream",
     "text": [
      "***********\n",
      "Textfooler\n",
      "***********\n",
      "Accuracy 0.8378378378378378\n",
      "F1 Score: 0.08695652173913045\n",
      "Precision: 0.11428571428571428\n",
      "Recall Score: 0.07017543859649122\n",
      "MCC:  0.0036533833660666835\n",
      "[[430  31]\n",
      " [ 53   4]]\n",
      "***********\n",
      "PWWS\n",
      "***********\n",
      "Accuracy 0.8783783783783784\n",
      "F1 Score: 0.136986301369863\n",
      "Precision: 0.3125\n",
      "Recall Score: 0.08771929824561403\n",
      "MCC:  0.11550272117348775\n",
      "[[450  11]\n",
      " [ 52   5]]\n",
      "***********\n",
      "DeepWordBug\n",
      "***********\n",
      "Accuracy 0.8783783783783784\n",
      "F1 Score: 0.11267605633802817\n",
      "Precision: 0.2857142857142857\n",
      "Recall Score: 0.07017543859649122\n",
      "MCC:  0.09356259343862178\n",
      "[[451  10]\n",
      " [ 53   4]]\n",
      "***********\n",
      "BAE\n",
      "***********\n",
      "Accuracy 0.9459459459459459\n",
      "F1 Score: 0.7846153846153846\n",
      "Precision: 0.6986301369863014\n",
      "Recall Score: 0.8947368421052632\n",
      "MCC:  0.7617935648910689\n",
      "[[439  22]\n",
      " [  6  51]]\n"
     ]
    }
   ],
   "source": [
    "print('***********')\n",
    "print('Textfooler')\n",
    "print('***********')\n",
    "print_metrics(y_true, prediction_t_aug_2 + prediction_t_400_aug_2)\n",
    "print(confusion_matrix(y_true, prediction_t_aug_2 + prediction_t_400_aug_2))\n",
    "print('***********')\n",
    "print('PWWS')\n",
    "print('***********')\n",
    "print_metrics(y_true, prediction_p_aug_2 + prediction_p_400_aug_2)\n",
    "print(confusion_matrix(y_true, prediction_p_aug_2 + prediction_p_400_aug_2))\n",
    "print('***********')\n",
    "print('DeepWordBug')\n",
    "print('***********')\n",
    "print_metrics(y_true, prediction_d_aug_2 + prediction_d_400_aug_2)\n",
    "print(confusion_matrix(y_true, prediction_d_aug_2 + prediction_d_400_aug_2))\n",
    "print('***********')\n",
    "print('BAE')\n",
    "print('***********')\n",
    "print_metrics(y_true, prediction_b_aug_2)\n",
    "print(confusion_matrix(y_true, prediction_b_aug_2))"
   ]
  },
  {
   "cell_type": "markdown",
   "metadata": {},
   "source": [
    "## ALBERT with augmented data, 1 to 4 ratio"
   ]
  },
  {
   "cell_type": "code",
   "execution_count": 29,
   "metadata": {},
   "outputs": [],
   "source": [
    "\n",
    "t_aug_4_failed_examples, t_aug_4_succeeded_examples, t_aug_4_attack_examples = parse_text_file('textattack-logs/aug_albert_1_4_textfooler')\n",
    "p_aug_4_failed_examples, p_aug_4_succeeded_examples, p_aug_4_attack_examples = parse_text_file('textattack-logs/aug_albert_1_4_pwws')\n",
    "d_aug_4_failed_examples, d_aug_4_succeeded_examples, d_aug_4_attack_examples = parse_text_file('textattack-logs/aug_albert_1_4_deepwordbug')\n",
    "b_aug_4_failed_examples, b_aug_4_succeeded_examples, b_aug_4_attackexamples = parse_text_file('textattack-logs/bae_aug_albert_1_4')\n",
    "\n",
    "\n",
    "t_aug_4_400_failed_examples, t_aug_4_400_succeeded_examples, t_aug_400_4_attack_examples = parse_text_file('textattack-logs/400_textfooler_aug_albert_1_4')\n",
    "p_aug_4_400_failed_examples, p_aug_4_400_succeeded_examples, p_aug_400_4_attack_examples = parse_text_file('textattack-logs/400_pwws_aug_albert_1_4')\n",
    "d_aug_4_400_failed_examples, d_aug_4_400_succeeded_examples, d_aug_400_4_attack_examples = parse_text_file('textattack-logs/400_deepwordbug_aug_albert_1_4')\n",
    "\n",
    "t_aug_4_s_result = clean_up_list(t_aug_4_succeeded_examples)\n",
    "p_aug_4_s_result = clean_up_list(p_aug_4_succeeded_examples)\n",
    "d_aug_4_s_result = clean_up_list(d_aug_4_succeeded_examples)\n",
    "b_aug_4_s_result = clean_up_list(b_aug_4_succeeded_examples)\n",
    "\n",
    "\n",
    "t_aug_4_s_400_result = clean_up_list(t_aug_4_400_succeeded_examples)\n",
    "p_aug_4_s_400_result = clean_up_list(p_aug_4_400_succeeded_examples)\n",
    "d_aug_4_s_400_result = clean_up_list(d_aug_4_400_succeeded_examples)\n"
   ]
  },
  {
   "cell_type": "code",
   "execution_count": 30,
   "metadata": {},
   "outputs": [],
   "source": [
    "prediction_t_aug_4 = extract_label(t_aug_4_s_result,df_test.iloc[:100])\n",
    "prediction_p_aug_4 = extract_label(p_aug_4_s_result,df_test.iloc[:100])\n",
    "prediction_d_aug_4 = extract_label(d_aug_4_s_result,df_test.iloc[:100])\n",
    "prediction_b_aug_4 = extract_label(b_aug_4_s_result,df_test)\n",
    "\n",
    "prediction_t_400_aug_4 = extract_label(t_aug_4_s_400_result,df_test.iloc[100:])\n",
    "prediction_p_400_aug_4 = extract_label(p_aug_4_s_400_result,df_test.iloc[100:])\n",
    "prediction_d_400_aug_4 = extract_label(d_aug_4_s_400_result,df_test.iloc[100:])"
   ]
  },
  {
   "cell_type": "code",
   "execution_count": 31,
   "metadata": {},
   "outputs": [
    {
     "name": "stdout",
     "output_type": "stream",
     "text": [
      "***********\n",
      "Textfooler\n",
      "***********\n",
      "Accuracy 0.6833976833976834\n",
      "F1 Score: 0.11827956989247312\n",
      "Precision: 0.08527131782945736\n",
      "Recall Score: 0.19298245614035087\n",
      "MCC:  -0.04557644551712784\n",
      "[[343 118]\n",
      " [ 46  11]]\n",
      "***********\n",
      "PWWS\n",
      "***********\n",
      "Accuracy 0.8378378378378378\n",
      "F1 Score: 0.25\n",
      "Precision: 0.2545454545454545\n",
      "Recall Score: 0.24561403508771928\n",
      "MCC:  0.15915531123430407\n",
      "[[420  41]\n",
      " [ 43  14]]\n",
      "***********\n",
      "DeepWordBug\n",
      "***********\n",
      "Accuracy 0.805019305019305\n",
      "F1 Score: 0.20472440944881892\n",
      "Precision: 0.18571428571428572\n",
      "Recall Score: 0.22807017543859648\n",
      "MCC:  0.09558905969578116\n",
      "[[404  57]\n",
      " [ 44  13]]\n",
      "***********\n",
      "BAE\n",
      "***********\n",
      "Accuracy 0.9285714285714286\n",
      "F1 Score: 0.7412587412587412\n",
      "Precision: 0.6162790697674418\n",
      "Recall Score: 0.9298245614035088\n",
      "MCC:  0.7217820432129437\n",
      "[[428  33]\n",
      " [  4  53]]\n"
     ]
    }
   ],
   "source": [
    "print('***********')\n",
    "print('Textfooler')\n",
    "print('***********')\n",
    "print_metrics(y_true, prediction_t_aug_4 + prediction_t_400_aug_4)\n",
    "print(confusion_matrix(y_true, prediction_t_aug_4 + prediction_t_400_aug_4))\n",
    "print('***********')\n",
    "print('PWWS')\n",
    "print('***********')\n",
    "print_metrics(y_true, prediction_p_aug_4 + prediction_p_400_aug_4)\n",
    "print(confusion_matrix(y_true, prediction_p_aug_4 + prediction_p_400_aug_4))\n",
    "print('***********')\n",
    "print('DeepWordBug')\n",
    "print('***********')\n",
    "print_metrics(y_true, prediction_d_aug_4 + prediction_d_400_aug_4)\n",
    "print(confusion_matrix(y_true, prediction_d_aug_4 + prediction_d_400_aug_4))\n",
    "print('***********')\n",
    "print('BAE')\n",
    "print('***********')\n",
    "print_metrics(y_true, prediction_b_aug_4)\n",
    "print(confusion_matrix(y_true, prediction_b_aug_4))"
   ]
  },
  {
   "cell_type": "markdown",
   "metadata": {},
   "source": [
    "## ALBERT with adversarial data"
   ]
  },
  {
   "cell_type": "code",
   "execution_count": 38,
   "metadata": {},
   "outputs": [],
   "source": [
    "t_adv_failed_examples, t_adv_succeeded_examples, t_adv_attack_examples = parse_text_file('textattack-logs/albert_adv_textfooler')\n",
    "p_adv_failed_examples, p_adv_succeeded_examples, p_adv_attack_examples = parse_text_file('textattack-logs/albert_adv_pwws')\n",
    "d_adv_failed_examples, d_adv_succeeded_examples, d_adv_attack_examples = parse_text_file('textattack-logs/albert_adv_deepwordbug')\n",
    "b_adv_failed_examples, b_adv_succeeded_examples, b_adv_attack_examples = parse_text_file('textattack-logs/bae_albert_adv')\n",
    "\n",
    "\n",
    "t_adv_400_failed_examples, t_adv_400_succeeded_examples, t_adv_400_attack_examples = parse_text_file('textattack-logs/400_albert_adv_textfooler')\n",
    "p_adv_400_failed_examples, p_adv_400_succeeded_examples, p_adv_400_attack_examples = parse_text_file('textattack-logs/400_pwws_albert_adv')\n",
    "d_adv_400_failed_examples, d_adv_400_succeeded_examples, d_adv_400_attack_examples = parse_text_file('textattack-logs/400_deepwordbug_albert_adv')\n",
    "\n",
    "#del t_adv_400_succeeded_examples[21]\n",
    "#del p_adv_400_succeeded_examples[20]\n",
    "#del d_adv_400_succeeded_examples[20]\n",
    "\n",
    "t_adv_s_result = clean_up_list(t_adv_succeeded_examples)\n",
    "p_adv_s_result = clean_up_list(p_adv_succeeded_examples)\n",
    "d_adv_s_result = clean_up_list(d_adv_succeeded_examples)\n",
    "b_adv_s_result = clean_up_list(b_adv_succeeded_examples)\n",
    "                               \n",
    "t_adv_s_400_result = clean_up_list(t_adv_400_succeeded_examples)\n",
    "p_adv_s_400_result = clean_up_list(p_adv_400_succeeded_examples)\n",
    "d_adv_s_400_result = clean_up_list(d_adv_400_succeeded_examples)"
   ]
  },
  {
   "cell_type": "code",
   "execution_count": 39,
   "metadata": {},
   "outputs": [],
   "source": [
    "prediction_t_adv = extract_label(t_adv_s_result,df_test.iloc[:100])\n",
    "prediction_p_adv = extract_label(p_adv_s_result,df_test.iloc[:100])\n",
    "prediction_d_adv = extract_label(d_adv_s_result,df_test.iloc[:100])\n",
    "prediction_b_adv = extract_label(b_adv_s_result,df_test)\n",
    "\n",
    "prediction_t_400_adv = extract_label(t_adv_s_400_result,df_test.iloc[100:])\n",
    "prediction_p_400_adv = extract_label(p_adv_s_400_result,df_test.iloc[100:])\n",
    "prediction_d_400_adv = extract_label(d_adv_s_400_result,df_test.iloc[100:])"
   ]
  },
  {
   "cell_type": "code",
   "execution_count": 40,
   "metadata": {},
   "outputs": [
    {
     "name": "stdout",
     "output_type": "stream",
     "text": [
      "***********\n",
      "Textfooler\n",
      "***********\n",
      "Accuracy 0.8841698841698842\n",
      "F1 Score: 0.14285714285714285\n",
      "Precision: 0.38461538461538464\n",
      "Recall Score: 0.08771929824561403\n",
      "MCC:  0.14077698359630386\n",
      "[[453   8]\n",
      " [ 52   5]]\n",
      "***********\n",
      "PWWS\n",
      "***********\n",
      "Accuracy 0.8938223938223938\n",
      "F1 Score: 0.22535211267605634\n",
      "Precision: 0.5714285714285714\n",
      "Recall Score: 0.14035087719298245\n",
      "MCC:  0.24573032782231433\n",
      "[[455   6]\n",
      " [ 49   8]]\n",
      "***********\n",
      "DeepWordBug\n",
      "***********\n",
      "Accuracy 0.8861003861003861\n",
      "F1 Score: 0.16901408450704228\n",
      "Precision: 0.42857142857142855\n",
      "Recall Score: 0.10526315789473684\n",
      "MCC:  0.16964646063046807\n",
      "[[453   8]\n",
      " [ 51   6]]\n",
      "***********\n",
      "BAE\n",
      "***********\n",
      "Accuracy 0.9691119691119691\n",
      "F1 Score: 0.8688524590163934\n",
      "Precision: 0.8153846153846154\n",
      "Recall Score: 0.9298245614035088\n",
      "MCC:  0.8537911673707208\n",
      "[[449  12]\n",
      " [  4  53]]\n"
     ]
    }
   ],
   "source": [
    "print('***********')\n",
    "print('Textfooler')\n",
    "print('***********')\n",
    "print_metrics(y_true, prediction_t_adv + prediction_t_400_adv)\n",
    "print(confusion_matrix(y_true, prediction_t_adv + prediction_t_400_adv))\n",
    "print('***********')\n",
    "print('PWWS')\n",
    "print('***********')\n",
    "print_metrics(y_true, prediction_p_adv + prediction_p_400_adv)\n",
    "print(confusion_matrix(y_true, prediction_p_adv + prediction_p_400_adv))\n",
    "print('***********')\n",
    "print('DeepWordBug')\n",
    "print('***********')\n",
    "print_metrics(y_true, prediction_d_adv + prediction_d_400_adv)\n",
    "print(confusion_matrix(y_true, prediction_d_adv + prediction_d_400_adv))\n",
    "print('***********')\n",
    "print('BAE')\n",
    "print('***********')\n",
    "print_metrics(y_true, prediction_b_adv)\n",
    "print(confusion_matrix(y_true, prediction_b_adv))"
   ]
  },
  {
   "cell_type": "markdown",
   "metadata": {},
   "source": [
    "## ALBERT with half of adversarial data"
   ]
  },
  {
   "cell_type": "code",
   "execution_count": 44,
   "metadata": {},
   "outputs": [],
   "source": [
    "t_adv_half_failed_examples, t_adv_half_succeeded_examples, t_adv_half_attack_examples = parse_text_file('textattack-logs/albert_adv_half_textfooler')\n",
    "p_adv_half_failed_examples, p_adv_half_succeeded_examples, p_adv_half_attack_examples = parse_text_file('textattack-logs/albert_adv_half_pwws')\n",
    "d_adv_half_failed_examples, d_adv_half_succeeded_examples, d_adv_half_attack_examples = parse_text_file('textattack-logs/albert_adv_half_deepwordbug')\n",
    "b_adv_half_failed_examples, b_adv_half_succeeded_examples, b_adv_half_attack_examples = parse_text_file('textattack-logs/bae_albert_adv_half')\n",
    "\n",
    "\n",
    "t_adv_half_400_failed_examples, t_adv_half_400_succeeded_examples, t_adv_half_400_attack_examples = parse_text_file('textattack-logs/400_textfooler_albert_adv_half')\n",
    "p_adv_half_400_failed_examples, p_adv_half_400_succeeded_examples, p_adv_half_400_attack_examples = parse_text_file('textattack-logs/400_pwws_albert_adv_half')\n",
    "d_adv_half_400_failed_examples, d_adv_half_400_succeeded_examples, d_adv_half_400_attack_examples = parse_text_file('textattack-logs/400_deepwordbug_albert_adv_half')\n",
    "\n",
    "\n",
    "t_adv_half_s_result = clean_up_list(t_adv_half_succeeded_examples)\n",
    "p_adv_half_s_result = clean_up_list(p_adv_half_succeeded_examples)\n",
    "d_adv_half_s_result = clean_up_list(d_adv_half_succeeded_examples)\n",
    "b_adv_half_s_result = clean_up_list(b_adv_succeeded_examples)\n",
    "                               \n",
    "t_adv_half_s_400_result = clean_up_list(t_adv_half_400_succeeded_examples)\n",
    "p_adv_half_s_400_result = clean_up_list(p_adv_half_400_succeeded_examples)\n",
    "d_adv_half_s_400_result = clean_up_list(d_adv_half_400_succeeded_examples)\n",
    "\n",
    "\n",
    "prediction_t_adv_half = extract_label(t_adv_half_s_result,df_test.iloc[:100])\n",
    "prediction_p_adv_half = extract_label(p_adv_half_s_result,df_test.iloc[:100])\n",
    "prediction_d_adv_half = extract_label(d_adv_half_s_result,df_test.iloc[:100])\n",
    "prediction_b_adv_half = extract_label(b_adv_half_s_result,df_test)\n",
    "\n",
    "prediction_t_400_adv_half = extract_label(t_adv_half_s_400_result,df_test.iloc[100:])\n",
    "prediction_p_400_adv_half = extract_label(p_adv_half_s_400_result,df_test.iloc[100:])\n",
    "prediction_d_400_adv_half = extract_label(d_adv_half_s_400_result,df_test.iloc[100:])"
   ]
  },
  {
   "cell_type": "code",
   "execution_count": 42,
   "metadata": {},
   "outputs": [
    {
     "name": "stdout",
     "output_type": "stream",
     "text": [
      "***********\n",
      "Textfooler\n",
      "***********\n",
      "Accuracy 0.8571428571428571\n",
      "F1 Score: 0.28846153846153844\n",
      "Precision: 0.3191489361702128\n",
      "Recall Score: 0.2631578947368421\n",
      "MCC:  0.21108424719779792\n",
      "[[429  32]\n",
      " [ 42  15]]\n",
      "***********\n",
      "PWWS\n",
      "***********\n",
      "Accuracy 0.8957528957528957\n",
      "F1 Score: 0.39999999999999997\n",
      "Precision: 0.5454545454545454\n",
      "Recall Score: 0.3157894736842105\n",
      "MCC:  0.3629378725889971\n",
      "[[446  15]\n",
      " [ 39  18]]\n",
      "***********\n",
      "DeepWordBug\n",
      "***********\n",
      "Accuracy 0.9111969111969112\n",
      "F1 Score: 0.4888888888888889\n",
      "Precision: 0.6666666666666666\n",
      "Recall Score: 0.38596491228070173\n",
      "MCC:  0.463973378702715\n",
      "[[450  11]\n",
      " [ 35  22]]\n",
      "***********\n",
      "BAE\n",
      "***********\n",
      "Accuracy 0.9691119691119691\n",
      "F1 Score: 0.8688524590163934\n",
      "Precision: 0.8153846153846154\n",
      "Recall Score: 0.9298245614035088\n",
      "MCC:  0.8537911673707208\n",
      "[[449  12]\n",
      " [  4  53]]\n"
     ]
    }
   ],
   "source": [
    "print('***********')\n",
    "print('Textfooler')\n",
    "print('***********')\n",
    "print_metrics(y_true, prediction_t_adv_half + prediction_t_400_adv_half)\n",
    "print(confusion_matrix(y_true, prediction_t_adv_half + prediction_t_400_adv_half))\n",
    "print('***********')\n",
    "print('PWWS')\n",
    "print('***********')\n",
    "print_metrics(y_true, prediction_p_adv_half + prediction_p_400_adv_half)\n",
    "print(confusion_matrix(y_true, prediction_p_adv_half + prediction_p_400_adv_half))\n",
    "print('***********')\n",
    "print('DeepWordBug')\n",
    "print('***********')\n",
    "print_metrics(y_true, prediction_d_adv_half + prediction_d_400_adv_half)\n",
    "print(confusion_matrix(y_true, prediction_d_adv_half + prediction_d_400_adv_half))\n",
    "print('***********')\n",
    "print('BAE')\n",
    "print('***********')\n",
    "print_metrics(y_true, prediction_b_adv_half)\n",
    "print(confusion_matrix(y_true, prediction_b_adv_half))"
   ]
  },
  {
   "cell_type": "code",
   "execution_count": 45,
   "metadata": {},
   "outputs": [],
   "source": [
    "t_r_failed_examples, t_r_succeeded_examples, t_r_attack_examples = parse_text_file('textattack-logs/roberta_textfooler')\n",
    "p_r_failed_examples, p_r_succeeded_examples, p_r_attack_examples = parse_text_file('textattack-logs/roberta_pwws')\n",
    "d_r_failed_examples, d_r_succeeded_examples, d_r_attack_examples = parse_text_file('textattack-logs/roberta_deepwordbug')\n",
    "\n",
    "t_r_adv_half_failed_examples, t_r_adv_half_succeeded_examples, t_r_adv_half_attack_examples = parse_text_file('textattack-logs/roberta_adv_half_textfooler')\n",
    "p_r_adv_half_failed_examples, p_r_adv_half_succeeded_examples, p_r_adv_half_attack_examples = parse_text_file('textattack-logs/roberta_adv_half_pwws')\n",
    "d_r_adv_half_failed_examples, d_r_adv_half_succeeded_examples, d_r_adv_half_attack_examples = parse_text_file('textattack-logs/roberta_adv_half_deepwordbug')\n",
    "\n",
    "\n",
    "t_r_adv_failed_examples, t_r_adv_succeeded_examples, t_r_adv_attack_examples = parse_text_file('textattack-logs/roberta_adv_textfooler')\n",
    "p_r_adv_failed_examples, p_r_adv_succeeded_examples, p_r_adv_attack_examples = parse_text_file('textattack-logs/roberta_adv_pwws')\n",
    "d_r_adv_failed_examples, d_r_adv_succeeded_examples, d_r_adv_attack_examples = parse_text_file('textattack-logs/roberta_adv_deepwordbug')\n",
    "\n",
    "t_r_s_result = clean_up_list(t_r_succeeded_examples)\n",
    "p_r_s_result = clean_up_list(p_r_succeeded_examples)\n",
    "d_r_s_result = clean_up_list(d_r_succeeded_examples)\n",
    "\n",
    "t_r_adv_half_s_result = clean_up_list(t_r_adv_half_succeeded_examples)\n",
    "p_r_adv_half_s_result = clean_up_list(p_r_adv_half_succeeded_examples)\n",
    "d_r_adv_half_s_result = clean_up_list(d_r_adv_half_succeeded_examples)\n",
    "#b_adv_half_s_result = clean_up_list(b_adv_half_succeeded_examples)\n",
    "\n",
    "t_r_adv_s_result = clean_up_list(t_r_adv_succeeded_examples)\n",
    "p_r_adv_s_result = clean_up_list(p_r_adv_succeeded_examples)\n",
    "d_r_adv_s_result = clean_up_list(d_r_adv_succeeded_examples)\n"
   ]
  },
  {
   "cell_type": "markdown",
   "metadata": {},
   "source": [
    "## Deberta"
   ]
  },
  {
   "cell_type": "code",
   "execution_count": 47,
   "metadata": {},
   "outputs": [
    {
     "name": "stdout",
     "output_type": "stream",
     "text": [
      "***********\n",
      "Textfooler\n",
      "***********\n",
      "Accuracy 0.6447876447876448\n",
      "F1 Score: 0.0707070707070707\n",
      "Precision: 0.04964539007092199\n",
      "Recall Score: 0.12280701754385964\n",
      "MCC:  -0.11802362127848348\n",
      "[[327 134]\n",
      " [ 50   7]]\n",
      "***********\n",
      "PWWS\n",
      "***********\n",
      "Accuracy 0.8088803088803089\n",
      "F1 Score: 0.12389380530973451\n",
      "Precision: 0.125\n",
      "Recall Score: 0.12280701754385964\n",
      "MCC:  0.016645116444358295\n",
      "[[412  49]\n",
      " [ 50   7]]\n",
      "***********\n",
      "DeepWordBug\n",
      "***********\n",
      "Accuracy 0.8667953667953668\n",
      "F1 Score: 0.14814814814814814\n",
      "Precision: 0.25\n",
      "Recall Score: 0.10526315789473684\n",
      "MCC:  0.09858078280026614\n",
      "[[443  18]\n",
      " [ 51   6]]\n",
      "***********\n",
      "BAE\n",
      "***********\n",
      "Accuracy 0.9401544401544402\n",
      "F1 Score: 0.776978417266187\n",
      "Precision: 0.6585365853658537\n",
      "Recall Score: 0.9473684210526315\n",
      "MCC:  0.7601172344349402\n",
      "[[433  28]\n",
      " [  3  54]]\n"
     ]
    }
   ],
   "source": [
    "t_d_failed_examples, t_d_succeeded_examples, t_d_attack_examples = parse_text_file('textattack-logs/deberta_textfooler')\n",
    "p_d_failed_examples, p_d_succeeded_examples, p_d_attack_examples = parse_text_file('textattack-logs/deberta_pwws')\n",
    "d_d_failed_examples, d_d_succeeded_examples, d_d_attack_examples = parse_text_file('textattack-logs/deberta_deepwordbug')\n",
    "b_d_failed_examples, b_d_succeeded_examples, b_d_attack_examples = parse_text_file('textattack-logs/deberta_bae')\n",
    "\n",
    "t_d_400_failed_examples, t_d_400_succeeded_examples, t_d_400_attack_examples = parse_text_file('textattack-logs/400_textfooler_deberta')\n",
    "p_d_400_failed_examples, p_d_400_succeeded_examples, p_d_400_attack_examples = parse_text_file('textattack-logs/400_pwws_deberta')\n",
    "d_d_400_failed_examples, d_d_400_succeeded_examples, d_d_400_attack_examples = parse_text_file('textattack-logs/400_deepwordbug_deberta')\n",
    "b_d_400_failed_examples, b_d_400_succeeded_examples, b_d_400_attack_examples = parse_text_file('textattack-logs/400_bae_deberta')\n",
    "\n",
    "t_d_s_result = clean_up_list(t_d_succeeded_examples)\n",
    "p_d_s_result = clean_up_list(p_d_succeeded_examples)\n",
    "d_d_s_result = clean_up_list(d_d_succeeded_examples)\n",
    "b_d_s_result = clean_up_list(b_d_succeeded_examples)\n",
    "\n",
    "\n",
    "t_d_s_400_result = clean_up_list(t_d_400_succeeded_examples)\n",
    "p_d_s_400_result = clean_up_list(p_d_400_succeeded_examples)\n",
    "d_d_s_400_result = clean_up_list(d_d_400_succeeded_examples)\n",
    "b_d_s_400_result = clean_up_list(b_d_400_succeeded_examples)\n",
    "\n",
    "\n",
    "prediction_t_d = extract_label(t_d_s_result,df_test.iloc[:100])\n",
    "prediction_p_d = extract_label(p_d_s_result,df_test.iloc[:100])\n",
    "prediction_d_d = extract_label(d_d_s_result,df_test.iloc[:100])\n",
    "prediction_b_d = extract_label(b_d_s_result,df_test.iloc[:100])\n",
    "\n",
    "prediction_t_400_d = extract_label(t_d_s_400_result,df_test.iloc[100:])\n",
    "prediction_p_400_d = extract_label(p_d_s_400_result,df_test.iloc[100:])\n",
    "prediction_d_400_d = extract_label(d_d_s_400_result,df_test.iloc[100:])\n",
    "prediction_b_400_d = extract_label(b_d_s_400_result,df_test.iloc[100:])\n",
    "\n",
    "\n",
    "y_true = df_test['label'].tolist()\n",
    "\n",
    "\n",
    "print('***********')\n",
    "print('Textfooler')\n",
    "print('***********')\n",
    "print_metrics(y_true, prediction_t_d + prediction_t_400_d)\n",
    "print(confusion_matrix(y_true, prediction_t_d + prediction_t_400_d))\n",
    "print('***********')\n",
    "print('PWWS')\n",
    "print('***********')\n",
    "print_metrics(y_true, prediction_p_d + prediction_p_400_d)\n",
    "print(confusion_matrix(y_true, prediction_p_d + prediction_p_400_d))\n",
    "print('***********')\n",
    "print('DeepWordBug')\n",
    "print('***********')\n",
    "print_metrics(y_true, prediction_d_d + prediction_d_400_d)\n",
    "print(confusion_matrix(y_true, prediction_d_d + prediction_d_400_d))\n",
    "print('***********')\n",
    "print('BAE')\n",
    "print('***********')\n",
    "print_metrics(y_true, prediction_b_d + prediction_b_400_d)\n",
    "print(confusion_matrix(y_true, prediction_b_d + prediction_b_400_d))\n",
    "\n"
   ]
  },
  {
   "cell_type": "code",
   "execution_count": 134,
   "metadata": {},
   "outputs": [
    {
     "data": {
      "image/png": "[encoded data removed]",
      "text/plain": [
       "<Figure size 432x288 with 2 Axes>"
      ]
     },
     "metadata": {
      "needs_background": "light"
     },
     "output_type": "display_data"
    }
   ],
   "source": [
    "confusion_show(confusion_matrix(y_true, prediction_t_d + prediction_t_400_d), 'DEBERTA', 'Textfooler')"
   ]
  },
  {
   "cell_type": "code",
   "execution_count": 135,
   "metadata": {},
   "outputs": [
    {
     "data": {
      "image/png": "[encoded data removed]",
      "text/plain": [
       "<Figure size 432x288 with 2 Axes>"
      ]
     },
     "metadata": {
      "needs_background": "light"
     },
     "output_type": "display_data"
    }
   ],
   "source": [
    "confusion_show(confusion_matrix(y_true, prediction_p_d + prediction_p_400_d), 'DEBERTA', 'PWWS')"
   ]
  },
  {
   "cell_type": "code",
   "execution_count": 136,
   "metadata": {},
   "outputs": [
    {
     "data": {
      "image/png": "[encoded data removed]",
      "text/plain": [
       "<Figure size 432x288 with 2 Axes>"
      ]
     },
     "metadata": {
      "needs_background": "light"
     },
     "output_type": "display_data"
    }
   ],
   "source": [
    "confusion_show(confusion_matrix(y_true, prediction_d_d + prediction_d_400_d), 'DEBERTA', 'DeepWordBug')"
   ]
  },
  {
   "cell_type": "code",
   "execution_count": 138,
   "metadata": {},
   "outputs": [
    {
     "data": {
      "image/png": "[encoded data removed]",
      "text/plain": [
       "<Figure size 432x288 with 2 Axes>"
      ]
     },
     "metadata": {
      "needs_background": "light"
     },
     "output_type": "display_data"
    }
   ],
   "source": [
    "confusion_show(confusion_matrix(y_true, prediction_b_d + prediction_b_400_d), 'DEBERTA', 'BAE')"
   ]
  },
  {
   "cell_type": "markdown",
   "metadata": {},
   "source": [
    "## Roberta"
   ]
  },
  {
   "cell_type": "code",
   "execution_count": 49,
   "metadata": {},
   "outputs": [
    {
     "name": "stdout",
     "output_type": "stream",
     "text": [
      "***********\n",
      "Textfooler\n",
      "***********\n",
      "Accuracy 0.7142857142857143\n",
      "F1 Score: 0.1395348837209302\n",
      "Precision: 0.10434782608695652\n",
      "Recall Score: 0.21052631578947367\n",
      "MCC:  -0.009714274345384296\n",
      "[[358 103]\n",
      " [ 45  12]]\n",
      "***********\n",
      "PWWS\n",
      "***********\n",
      "Accuracy 0.8416988416988417\n",
      "F1 Score: 0.31666666666666665\n",
      "Precision: 0.30158730158730157\n",
      "Recall Score: 0.3333333333333333\n",
      "MCC:  0.22776429055079692\n",
      "[[417  44]\n",
      " [ 38  19]]\n",
      "***********\n",
      "DeepWordBug\n",
      "***********\n",
      "Accuracy 0.8918918918918919\n",
      "F1 Score: 0.3333333333333333\n",
      "Precision: 0.5185185185185185\n",
      "Recall Score: 0.24561403508771928\n",
      "MCC:  0.30609321672780865\n",
      "[[448  13]\n",
      " [ 43  14]]\n",
      "***********\n",
      "BAE\n",
      "***********\n",
      "Accuracy 0.916988416988417\n",
      "F1 Score: 0.703448275862069\n",
      "Precision: 0.5795454545454546\n",
      "Recall Score: 0.8947368421052632\n",
      "MCC:  0.6787204039703679\n",
      "[[424  37]\n",
      " [  6  51]]\n"
     ]
    }
   ],
   "source": [
    "t_r_failed_examples, t_r_succeeded_examples, t_r_attack_examples = parse_text_file('textattack-logs/roberta_textfooler')\n",
    "p_r_failed_examples, p_r_succeeded_examples, p_r_attack_examples = parse_text_file('textattack-logs/roberta_pwws')\n",
    "d_r_failed_examples, d_r_succeeded_examples, d_r_attack_examples = parse_text_file('textattack-logs/roberta_deepwordbug')\n",
    "b_r_failed_examples, b_r_succeeded_examples, b_r_attack_examples = parse_text_file('textattack-logs/bae_roberta')\n",
    "\n",
    "t_r_400_failed_examples, t_r_400_succeeded_examples, t_r_400_attack_examples = parse_text_file('textattack-logs/400_textfooler_roberta')\n",
    "p_r_400_failed_examples, p_r_400_succeeded_examples, p_r_400_attack_examples = parse_text_file('textattack-logs/400_pwws_roberta')\n",
    "d_r_400_failed_examples, d_r_400_succeeded_examples, d_r_400_attack_examples = parse_text_file('textattack-logs/400_deepwordbug_roberta')\n",
    "#b_r_400_failed_examples, b_r_400_succeeded_examples, b_r_400_attack_examples = parse_text_file('400_bae_roberta')\n",
    "#del b_r_succeeded_examples[8]\n",
    "t_r_s_result = clean_up_list(t_r_succeeded_examples)\n",
    "p_r_s_result = clean_up_list(p_r_succeeded_examples)\n",
    "d_r_s_result = clean_up_list(d_r_succeeded_examples)\n",
    "b_r_s_result = clean_up_list(b_r_succeeded_examples)\n",
    "\n",
    "\n",
    "\n",
    "t_r_s_400_result = clean_up_list(t_r_400_succeeded_examples)\n",
    "p_r_s_400_result = clean_up_list(p_r_400_succeeded_examples)\n",
    "d_r_s_400_result = clean_up_list(d_r_400_succeeded_examples)\n",
    "#b_r_s_400_result = clean_up_list(b_r_400_succeeded_examples)\n",
    "\n",
    "\n",
    "prediction_t_r = extract_label(t_r_s_result,df_test.iloc[:100])\n",
    "prediction_p_r = extract_label(p_r_s_result,df_test.iloc[:100])\n",
    "prediction_d_r = extract_label(d_r_s_result,df_test.iloc[:100])\n",
    "prediction_b_r = extract_label(b_r_s_result,df_test)\n",
    "\n",
    "prediction_t_400_r = extract_label(t_r_s_400_result,df_test.iloc[100:])\n",
    "prediction_p_400_r = extract_label(p_r_s_400_result,df_test.iloc[100:])\n",
    "prediction_d_400_r = extract_label(d_r_s_400_result,df_test.iloc[100:])\n",
    "#prediction_b_400_r = extract_label(b_r_s_400_result,df_test.iloc[100:])\n",
    "\n",
    "\n",
    "y_true = df_test['label'].tolist()\n",
    "\n",
    "\n",
    "print('***********')\n",
    "print('Textfooler')\n",
    "print('***********')\n",
    "print_metrics(y_true, prediction_t_r + prediction_t_400_r)\n",
    "print(confusion_matrix(y_true, prediction_t_r + prediction_t_400_r))\n",
    "print('***********')\n",
    "print('PWWS')\n",
    "print('***********')\n",
    "print_metrics(y_true, prediction_p_r + prediction_p_400_r)\n",
    "print(confusion_matrix(y_true, prediction_p_r + prediction_p_400_r))\n",
    "print('***********')\n",
    "print('DeepWordBug')\n",
    "print('***********')\n",
    "print_metrics(y_true, prediction_d_r + prediction_d_400_r)\n",
    "print(confusion_matrix(y_true, prediction_d_r + prediction_d_400_r))\n",
    "print('***********')\n",
    "print('BAE')\n",
    "print('***********')\n",
    "print_metrics(y_true, prediction_b_r)\n",
    "print(confusion_matrix(y_true, prediction_b_r))\n"
   ]
  },
  {
   "cell_type": "code",
   "execution_count": 151,
   "metadata": {},
   "outputs": [
    {
     "data": {
      "image/png": "[encoded data removed]",
      "text/plain": [
       "<Figure size 432x288 with 2 Axes>"
      ]
     },
     "metadata": {
      "needs_background": "light"
     },
     "output_type": "display_data"
    }
   ],
   "source": [
    "confusion_show(confusion_matrix(y_true, prediction_t_r + prediction_t_400_r), 'ROBERTA', 'Textfooler')"
   ]
  },
  {
   "cell_type": "code",
   "execution_count": 152,
   "metadata": {},
   "outputs": [
    {
     "data": {
      "image/png": "[encoded data removed]",
      "text/plain": [
       "<Figure size 432x288 with 2 Axes>"
      ]
     },
     "metadata": {
      "needs_background": "light"
     },
     "output_type": "display_data"
    }
   ],
   "source": [
    "confusion_show(confusion_matrix(y_true, prediction_t_r + prediction_t_400_r), 'ROBERTA', 'PWWS')"
   ]
  },
  {
   "cell_type": "code",
   "execution_count": 153,
   "metadata": {},
   "outputs": [
    {
     "data": {
      "image/png": "[encoded data removed]",
      "text/plain": [
       "<Figure size 432x288 with 2 Axes>"
      ]
     },
     "metadata": {
      "needs_background": "light"
     },
     "output_type": "display_data"
    }
   ],
   "source": [
    "confusion_show(confusion_matrix(y_true, prediction_t_r + prediction_t_400_r), 'ROBERTA', 'DeepWordBug')"
   ]
  },
  {
   "cell_type": "code",
   "execution_count": 159,
   "metadata": {},
   "outputs": [
    {
     "data": {
      "image/png": "[encoded data removed]",
      "text/plain": [
       "<Figure size 432x288 with 2 Axes>"
      ]
     },
     "metadata": {
      "needs_background": "light"
     },
     "output_type": "display_data"
    }
   ],
   "source": [
    "confusion_show(confusion_matrix(y_true, prediction_b_r),'ROBERTA','BAE')"
   ]
  },
  {
   "cell_type": "markdown",
   "metadata": {},
   "source": [
    "## Yoso"
   ]
  },
  {
   "cell_type": "code",
   "execution_count": 51,
   "metadata": {},
   "outputs": [
    {
     "name": "stdout",
     "output_type": "stream",
     "text": [
      "***********\n",
      "Textfooler\n",
      "***********\n",
      "Accuracy 0.3687258687258687\n",
      "F1 Score: 0.012084592145015106\n",
      "Precision: 0.0072992700729927005\n",
      "Recall Score: 0.03508771929824561\n",
      "MCC:  -0.3479036689499173\n",
      "[[189 272]\n",
      " [ 55   2]]\n",
      "***********\n",
      "PWWS\n",
      "***********\n",
      "Accuracy 0.7393822393822393\n",
      "F1 Score: 0.10596026490066224\n",
      "Precision: 0.0851063829787234\n",
      "Recall Score: 0.14035087719298245\n",
      "MCC:  -0.03751318519714794\n",
      "[[375  86]\n",
      " [ 49   8]]\n",
      "***********\n",
      "DeepWordBug\n",
      "***********\n",
      "Accuracy 0.862934362934363\n",
      "F1 Score: 0.10126582278481013\n",
      "Precision: 0.18181818181818182\n",
      "Recall Score: 0.07017543859649122\n",
      "MCC:  0.04830735227688816\n",
      "[[443  18]\n",
      " [ 53   4]]\n",
      "***********\n",
      "BAE\n",
      "***********\n",
      "Accuracy 0.8938223938223938\n",
      "F1 Score: 0.6583850931677018\n",
      "Precision: 0.5096153846153846\n",
      "Recall Score: 0.9298245614035088\n",
      "MCC:  0.6399685105690816\n",
      "[[410  51]\n",
      " [  4  53]]\n"
     ]
    }
   ],
   "source": [
    "t_y_failed_examples, t_y_succeeded_examples, t_y_attack_examples = parse_text_file('textattack-logs/yoso_textfooler')\n",
    "p_y_failed_examples, p_y_succeeded_examples, p_y_attack_examples = parse_text_file('textattack-logs/yoso_pwws')\n",
    "d_y_failed_examples, d_y_succeeded_examples, d_y_attack_examples = parse_text_file('textattack-logs/yoso_deepwordbug')\n",
    "b_y_failed_examples, b_y_succeeded_examples, b_y_attack_examples = parse_text_file('textattack-logs/yoso_bae')\n",
    "\n",
    "t_y_400_failed_examples, t_y_400_succeeded_examples, t_y_400_attack_examples = parse_text_file('textattack-logs/400_textfooler_yoso')\n",
    "p_y_400_failed_examples, p_y_400_succeeded_examples, p_y_400_attack_examples = parse_text_file('textattack-logs/400_pwws_yoso')\n",
    "d_y_400_failed_examples, d_y_400_succeeded_examples, d_y_400_attack_examples = parse_text_file('textattack-logs/400_deepwordbug_yoso')\n",
    "b_y_400_failed_examples, b_y_400_succeeded_examples, b_y_400_attack_examples = parse_text_file('textattack-logs/400_bae_yoso')\n",
    "\n",
    "\n",
    "t_y_s_result = clean_up_list(t_y_succeeded_examples)\n",
    "p_y_s_result = clean_up_list(p_y_succeeded_examples)\n",
    "d_y_s_result = clean_up_list(d_y_succeeded_examples)\n",
    "b_y_s_result = clean_up_list(b_y_succeeded_examples)\n",
    "\n",
    "\n",
    "t_y_s_400_result = clean_up_list(t_y_400_succeeded_examples)\n",
    "p_y_s_400_result = clean_up_list(p_y_400_succeeded_examples)\n",
    "d_y_s_400_result = clean_up_list(d_y_400_succeeded_examples)\n",
    "b_y_s_400_result = clean_up_list(b_y_400_succeeded_examples)\n",
    "\n",
    "\n",
    "prediction_t_y = extract_label(t_y_s_result,df_test.iloc[:100])\n",
    "prediction_p_y = extract_label(p_y_s_result,df_test.iloc[:100])\n",
    "prediction_d_y = extract_label(d_y_s_result,df_test.iloc[:100])\n",
    "prediction_b_y = extract_label(b_y_s_result,df_test.iloc[:100])\n",
    "\n",
    "\n",
    "prediction_t_400_y = extract_label(t_y_s_400_result,df_test.iloc[100:])\n",
    "prediction_p_400_y = extract_label(p_y_s_400_result,df_test.iloc[100:])\n",
    "prediction_d_400_y = extract_label(d_y_s_400_result,df_test.iloc[100:])\n",
    "prediction_b_400_y = extract_label(b_y_s_400_result,df_test.iloc[100:])\n",
    "\n",
    "\n",
    "\n",
    "\n",
    "print('***********')\n",
    "print('Textfooler')\n",
    "print('***********')\n",
    "print_metrics(y_true, prediction_t_y + prediction_t_400_y)\n",
    "print(confusion_matrix(y_true, prediction_t_y + prediction_t_400_y))\n",
    "print('***********')\n",
    "print('PWWS')\n",
    "print('***********')\n",
    "print_metrics(y_true, prediction_p_y + prediction_p_400_y)\n",
    "print(confusion_matrix(y_true, prediction_p_y + prediction_p_400_y))\n",
    "print('***********')\n",
    "print('DeepWordBug')\n",
    "print('***********')\n",
    "print_metrics(y_true, prediction_d_y + prediction_d_400_y)\n",
    "print(confusion_matrix(y_true, prediction_d_y + prediction_d_400_y))\n",
    "print('***********')\n",
    "print('BAE')\n",
    "print('***********')\n",
    "print_metrics(y_true, prediction_b_y + prediction_b_400_y)\n",
    "print(confusion_matrix(y_true, prediction_b_y + prediction_b_400_y))\n"
   ]
  },
  {
   "cell_type": "code",
   "execution_count": 139,
   "metadata": {
    "scrolled": true
   },
   "outputs": [
    {
     "data": {
      "image/png": "[encoded data removed]",
      "text/plain": [
       "<Figure size 432x288 with 2 Axes>"
      ]
     },
     "metadata": {
      "needs_background": "light"
     },
     "output_type": "display_data"
    }
   ],
   "source": [
    "confusion_show(confusion_matrix(y_true, prediction_t_y + prediction_t_400_y), 'YOSO', 'Textfooler')"
   ]
  },
  {
   "cell_type": "code",
   "execution_count": 140,
   "metadata": {},
   "outputs": [
    {
     "data": {
      "image/png": "[encoded data removed]",
      "text/plain": [
       "<Figure size 432x288 with 2 Axes>"
      ]
     },
     "metadata": {
      "needs_background": "light"
     },
     "output_type": "display_data"
    }
   ],
   "source": [
    "confusion_show(confusion_matrix(y_true, prediction_p_y + prediction_p_400_y), 'YOSO', 'PWWS')"
   ]
  },
  {
   "cell_type": "code",
   "execution_count": 141,
   "metadata": {},
   "outputs": [
    {
     "data": {
      "image/png": "[encoded data removed]",
      "text/plain": [
       "<Figure size 432x288 with 2 Axes>"
      ]
     },
     "metadata": {
      "needs_background": "light"
     },
     "output_type": "display_data"
    }
   ],
   "source": [
    "confusion_show(confusion_matrix(y_true, prediction_d_y + prediction_d_400_y), 'YOSO', 'DeepWordBug')"
   ]
  },
  {
   "cell_type": "code",
   "execution_count": 165,
   "metadata": {},
   "outputs": [
    {
     "data": {
      "image/png": "[encoded data removed]",
      "text/plain": [
       "<Figure size 432x288 with 2 Axes>"
      ]
     },
     "metadata": {
      "needs_background": "light"
     },
     "output_type": "display_data"
    }
   ],
   "source": [
    "confusion_show(confusion_matrix(y_true, prediction_b_y + prediction_b_400_y),'YOSO','BAE')"
   ]
  },
  {
   "cell_type": "code",
   "execution_count": 175,
   "metadata": {},
   "outputs": [
    {
     "data": {
      "text/plain": [
       "array([[410,  51],\n",
       "       [  4,  53]])"
      ]
     },
     "execution_count": 175,
     "metadata": {},
     "output_type": "execute_result"
    }
   ],
   "source": [
    "confusion_matrix(y_true, prediction_b_y + prediction_b_400_y)"
   ]
  },
  {
   "cell_type": "markdown",
   "metadata": {},
   "source": [
    "## Bert"
   ]
  },
  {
   "cell_type": "code",
   "execution_count": 52,
   "metadata": {},
   "outputs": [],
   "source": [
    "t_b_failed_examples, t_b_succeeded_examples, t_b_attack_examples = parse_text_file('textattack-logs/bert_textfooler')\n",
    "p_b_failed_examples, p_b_succeeded_examples, p_b_attack_examples = parse_text_file('textattack-logs/bert_pwws')\n",
    "d_b_failed_examples, d_b_succeeded_examples, d_b_attack_examples = parse_text_file('textattack-logs/bert_deepwordbug')\n",
    "b_b_failed_examples, b_b_succeeded_examples, b_b_attack_examples = parse_text_file('textattack-logs/bert_bae')\n",
    "\n",
    "\n",
    "t_b_s_result = clean_up_list(t_b_succeeded_examples)\n",
    "p_b_s_result = clean_up_list(p_b_succeeded_examples)\n",
    "d_b_s_result = clean_up_list(d_b_succeeded_examples)\n",
    "b_b_s_result = clean_up_list(b_b_succeeded_examples)"
   ]
  },
  {
   "cell_type": "markdown",
   "metadata": {},
   "source": [
    "## Distilbert"
   ]
  },
  {
   "cell_type": "code",
   "execution_count": 53,
   "metadata": {},
   "outputs": [],
   "source": [
    "t_di_failed_examples, t_di_succeeded_examples, t_di_attack_examples = parse_text_file('textattack-logs/distilbert_textfooler')\n",
    "p_di_failed_examples, p_di_succeeded_examples, p_di_attack_examples = parse_text_file('textattack-logs/distilbert_pwws')\n",
    "d_di_failed_examples, d_di_succeeded_examples, d_di_attack_examples = parse_text_file('textattack-logs/distilbert_deepwordbug')\n",
    "\n",
    "\n",
    "\n",
    "t_di_s_result = clean_up_list(t_di_succeeded_examples)\n",
    "p_di_s_result = clean_up_list(p_di_succeeded_examples)\n",
    "d_di_s_result = clean_up_list(d_di_succeeded_examples)\n",
    "\n"
   ]
  },
  {
   "cell_type": "markdown",
   "metadata": {},
   "source": [
    "## Squeezbert"
   ]
  },
  {
   "cell_type": "code",
   "execution_count": 54,
   "metadata": {},
   "outputs": [],
   "source": [
    "t_sq_failed_examples, t_sq_succeeded_examples, t_sq_attack_examples = parse_text_file('textattack-logs/squeezbert_textfooler')\n",
    "p_sq_failed_examples, p_sq_succeeded_examples, p_sq_attack_examples = parse_text_file('textattack-logs/squeezbert_pwws')\n",
    "d_sq_failed_examples, d_sq_succeeded_examples, d_sq_attack_examples = parse_text_file('textattack-logs/squeezbert_deepwordbug')\n",
    "b_sq_failed_examples, b_sq_succeeded_examples, b_sq_attack_examples = parse_text_file('textattack-logs/squeezebert_bae')\n",
    "\n",
    "\n",
    "\n",
    "t_sq_s_result = clean_up_list(t_sq_succeeded_examples)\n",
    "p_sq_s_result = clean_up_list(p_sq_succeeded_examples)\n",
    "d_sq_s_result = clean_up_list(d_sq_succeeded_examples)\n",
    "b_sq_s_result = clean_up_list(b_sq_succeeded_examples)"
   ]
  },
  {
   "cell_type": "code",
   "execution_count": 36,
   "metadata": {},
   "outputs": [],
   "source": [
    "df_test = pd.read_csv('test_emails.csv')"
   ]
  },
  {
   "cell_type": "code",
   "execution_count": 43,
   "metadata": {},
   "outputs": [],
   "source": [
    "y_true = df_test.iloc[:100]['label'].tolist()"
   ]
  },
  {
   "cell_type": "code",
   "execution_count": 39,
   "metadata": {},
   "outputs": [],
   "source": [
    "prediction_t_b = extract_label(t_b_s_result,df_test.iloc[:100])\n",
    "prediction_p_b = extract_label(p_b_s_result,df_test.iloc[:100])\n",
    "prediction_d_b = extract_label(d_b_s_result,df_test.iloc[:100])\n",
    "\n",
    "prediction_b_b = extract_label(b_b_s_result,df_test.iloc[:100])"
   ]
  },
  {
   "cell_type": "code",
   "execution_count": 40,
   "metadata": {},
   "outputs": [],
   "source": [
    "prediction_t_di = extract_label(t_di_s_result,df_test.iloc[:100])\n",
    "prediction_p_di = extract_label(p_di_s_result,df_test.iloc[:100])\n",
    "prediction_d_di = extract_label(d_di_s_result,df_test.iloc[:100])"
   ]
  },
  {
   "cell_type": "code",
   "execution_count": 41,
   "metadata": {},
   "outputs": [],
   "source": [
    "prediction_t_sq = extract_label(t_sq_s_result,df_test.iloc[:100])\n",
    "prediction_p_sq = extract_label(p_sq_s_result,df_test.iloc[:100])\n",
    "prediction_d_sq = extract_label(d_sq_s_result,df_test.iloc[:100])\n",
    "\n",
    "prediction_b_sq = extract_label(b_sq_s_result,df_test.iloc[:100])"
   ]
  },
  {
   "cell_type": "code",
   "execution_count": 46,
   "metadata": {},
   "outputs": [],
   "source": [
    "prediction_t_d = extract_label(t_d_s_result,df_test.iloc[:100])\n",
    "prediction_p_d = extract_label(p_d_s_result,df_test.iloc[:100])\n",
    "prediction_d_d = extract_label(d_d_s_result,df_test.iloc[:100])\n",
    "\n",
    "prediction_b_d = extract_label(b_d_s_result,df_test.iloc[:100])\n",
    "\n",
    "prediction_t_d_adv_half = extract_label(t_d_adv_half_s_result,df_test.iloc[:100])\n",
    "prediction_p_d_adv_half = extract_label(p_d_adv_half_s_result,df_test.iloc[:100])\n",
    "#prediction_d_d_adv_half = extract_label(d_d_adv_half_s_result,df_test.iloc[:100])\n",
    "\n",
    "prediction_t_d_adv = extract_label(t_d_adv_s_result,df_test.iloc[:100])\n",
    "prediction_p_d_adv = extract_label(p_d_adv_s_result,df_test.iloc[:100])\n",
    "prediction_d_d_adv = extract_label(d_d_adv_s_result,df_test.iloc[:100])"
   ]
  },
  {
   "cell_type": "code",
   "execution_count": 48,
   "metadata": {},
   "outputs": [
    {
     "name": "stdout",
     "output_type": "stream",
     "text": [
      "***********\n",
      "Textfooler\n",
      "***********\n",
      "Accuracy 0.63\n",
      "F1 Score: 0.0\n",
      "Precision: 0.0\n",
      "Recall Score: 0.0\n",
      "MCC:  -0.19611613513818402\n",
      "***********\n",
      "PWWS\n",
      "***********\n",
      "Accuracy 0.83\n",
      "F1 Score: 0.0\n",
      "Precision: 0.0\n",
      "Recall Score: 0.0\n",
      "MCC:  -0.09273670016027795\n",
      "***********\n",
      "DeepWordBug\n",
      "***********\n",
      "Accuracy 0.86\n",
      "F1 Score: 0.0\n",
      "Precision: 0.0\n",
      "Recall Score: 0.0\n",
      "MCC:  -0.07214791053658227\n",
      "***********\n",
      "BAE\n",
      "***********\n",
      "Accuracy 0.96\n",
      "F1 Score: 0.7999999999999999\n",
      "Precision: 0.7272727272727273\n",
      "Recall Score: 0.8888888888888888\n",
      "MCC:  0.7828611134702519\n"
     ]
    },
    {
     "data": {
      "text/plain": [
       "array([[88,  3],\n",
       "       [ 1,  8]])"
      ]
     },
     "execution_count": 48,
     "metadata": {},
     "output_type": "execute_result"
    }
   ],
   "source": [
    "print('***********')\n",
    "print('Textfooler')\n",
    "print('***********')\n",
    "print_metrics(y_true, prediction_t_d)\n",
    "print('***********')\n",
    "print('PWWS')\n",
    "print('***********')\n",
    "print_metrics(y_true, prediction_p_d)\n",
    "print('***********')\n",
    "print('DeepWordBug')\n",
    "print('***********')\n",
    "print_metrics(y_true, prediction_d_d)\n",
    "print('***********')\n",
    "print('BAE')\n",
    "print('***********')\n",
    "print_metrics(y_true, prediction_b_d)\n",
    "\n",
    "confusion_matrix(y_true, prediction_b_d)"
   ]
  },
  {
   "cell_type": "code",
   "execution_count": 44,
   "metadata": {},
   "outputs": [
    {
     "name": "stdout",
     "output_type": "stream",
     "text": [
      "***********\n",
      "Textfooler\n",
      "***********\n",
      "Accuracy 0.64\n",
      "F1 Score: 0.09999999999999999\n",
      "Precision: 0.06451612903225806\n",
      "Recall Score: 0.2222222222222222\n",
      "MCC:  -0.05968699962629431\n",
      "***********\n",
      "PWWS\n",
      "***********\n",
      "Accuracy 0.84\n",
      "F1 Score: 0.27272727272727276\n",
      "Precision: 0.23076923076923078\n",
      "Recall Score: 0.3333333333333333\n",
      "MCC:  0.19014190310330606\n",
      "***********\n",
      "DeepWordBug\n",
      "***********\n",
      "Accuracy 0.85\n",
      "F1 Score: 0.0\n",
      "Precision: 0.0\n",
      "Recall Score: 0.0\n",
      "MCC:  -0.07945335801632392\n",
      "***********\n",
      "BAE\n",
      "***********\n",
      "Accuracy 0.95\n",
      "F1 Score: 0.761904761904762\n",
      "Precision: 0.6666666666666666\n",
      "Recall Score: 0.8888888888888888\n",
      "MCC:  0.7441015076500341\n"
     ]
    },
    {
     "data": {
      "text/plain": [
       "array([[62, 29],\n",
       "       [ 7,  2]])"
      ]
     },
     "execution_count": 44,
     "metadata": {},
     "output_type": "execute_result"
    }
   ],
   "source": [
    "print('***********')\n",
    "print('Textfooler')\n",
    "print('***********')\n",
    "print_metrics(y_true, prediction_t_b)\n",
    "print('***********')\n",
    "print('PWWS')\n",
    "print('***********')\n",
    "print_metrics(y_true, prediction_p_b)\n",
    "print('***********')\n",
    "print('DeepWordBug')\n",
    "print('***********')\n",
    "print_metrics(y_true, prediction_d_b)\n",
    "print('***********')\n",
    "print('BAE')\n",
    "print('***********')\n",
    "print_metrics(y_true, prediction_b_b)\n",
    "\n",
    "confusion_matrix(y_true, prediction_t_b)"
   ]
  },
  {
   "cell_type": "code",
   "execution_count": 45,
   "metadata": {},
   "outputs": [
    {
     "name": "stdout",
     "output_type": "stream",
     "text": [
      "***********\n",
      "Textfooler\n",
      "***********\n",
      "Accuracy 0.71\n",
      "F1 Score: 0.0\n",
      "Precision: 0.0\n",
      "Recall Score: 0.0\n",
      "MCC:  -0.15724272550828777\n",
      "***********\n",
      "PWWS\n",
      "***********\n",
      "Accuracy 0.79\n",
      "F1 Score: 0.0\n",
      "Precision: 0.0\n",
      "Recall Score: 0.0\n",
      "MCC:  -0.11613144917081457\n",
      "***********\n",
      "DeepWordBug\n",
      "***********\n",
      "Accuracy 0.88\n",
      "F1 Score: 0.0\n",
      "Precision: 0.0\n",
      "Recall Score: 0.0\n",
      "MCC:  -0.05530639088956956\n",
      "***********\n"
     ]
    }
   ],
   "source": [
    "print('***********')\n",
    "print('Textfooler')\n",
    "print('***********')\n",
    "print_metrics(y_true, prediction_t_di)\n",
    "print('***********')\n",
    "print('PWWS')\n",
    "print('***********')\n",
    "print_metrics(y_true, prediction_p_di)\n",
    "print('***********')\n",
    "print('DeepWordBug')\n",
    "print('***********')\n",
    "print_metrics(y_true, prediction_d_di)\n",
    "print('***********')"
   ]
  },
  {
   "cell_type": "code",
   "execution_count": 46,
   "metadata": {},
   "outputs": [
    {
     "name": "stdout",
     "output_type": "stream",
     "text": [
      "***********\n",
      "Textfooler\n",
      "***********\n",
      "Accuracy 0.55\n",
      "F1 Score: 0.0\n",
      "Precision: 0.0\n",
      "Recall Score: 0.0\n",
      "MCC:  -0.2358640882624316\n",
      "***********\n",
      "PWWS\n",
      "***********\n",
      "Accuracy 0.76\n",
      "F1 Score: 0.0\n",
      "Precision: 0.0\n",
      "Recall Score: 0.0\n",
      "MCC:  -0.13211031413252308\n",
      "***********\n",
      "DeepWordBug\n",
      "***********\n",
      "Accuracy 0.88\n",
      "F1 Score: 0.0\n",
      "Precision: 0.0\n",
      "Recall Score: 0.0\n",
      "MCC:  -0.05530639088956956\n",
      "***********\n",
      "BAE\n",
      "***********\n",
      "Accuracy 0.94\n",
      "F1 Score: 0.7272727272727274\n",
      "Precision: 0.6153846153846154\n",
      "Recall Score: 0.8888888888888888\n",
      "MCC:  0.7096552995604264\n"
     ]
    },
    {
     "data": {
      "text/plain": [
       "array([[86,  5],\n",
       "       [ 1,  8]])"
      ]
     },
     "execution_count": 46,
     "metadata": {},
     "output_type": "execute_result"
    }
   ],
   "source": [
    "print('***********')\n",
    "print('Textfooler')\n",
    "print('***********')\n",
    "print_metrics(y_true, prediction_t_sq)\n",
    "print('***********')\n",
    "print('PWWS')\n",
    "print('***********')\n",
    "print_metrics(y_true, prediction_p_sq)\n",
    "print('***********')\n",
    "print('DeepWordBug')\n",
    "print('***********')\n",
    "print_metrics(y_true, prediction_d_sq)\n",
    "print('***********')\n",
    "print('BAE')\n",
    "print('***********')\n",
    "print_metrics(y_true, prediction_b_sq)\n",
    "\n",
    "confusion_matrix(y_true, prediction_b_sq)"
   ]
  },
  {
   "cell_type": "code",
   "execution_count": 60,
   "metadata": {},
   "outputs": [
    {
     "name": "stdout",
     "output_type": "stream",
     "text": [
      "***********\n",
      "Textfooler\n",
      "***********\n",
      "Accuracy 0.71\n",
      "F1 Score: 0.0\n",
      "Precision: 0.0\n",
      "Recall Score: 0.0\n",
      "MCC:  -0.15724272550828777\n",
      "***********\n",
      "PWWS\n",
      "***********\n",
      "Accuracy 0.81\n",
      "F1 Score: 0.09523809523809525\n",
      "Precision: 0.08333333333333333\n",
      "Recall Score: 0.1111111111111111\n",
      "MCC:  -0.008602329568208486\n",
      "***********\n",
      "DeepWordBug\n",
      "***********\n",
      "Accuracy 0.89\n",
      "F1 Score: 0.0\n",
      "Precision: 0.0\n",
      "Recall Score: 0.0\n",
      "MCC:  -0.04492649300236792\n"
     ]
    }
   ],
   "source": [
    "print('***********')\n",
    "print('Textfooler')\n",
    "print('***********')\n",
    "print_metrics(y_true, prediction_t_r)\n",
    "print('***********')\n",
    "print('PWWS')\n",
    "print('***********')\n",
    "print_metrics(y_true, prediction_p_r)\n",
    "print('***********')\n",
    "print('DeepWordBug')\n",
    "print('***********')\n",
    "print_metrics(y_true, prediction_d_r)"
   ]
  },
  {
   "cell_type": "code",
   "execution_count": 38,
   "metadata": {},
   "outputs": [
    {
     "name": "stdout",
     "output_type": "stream",
     "text": [
      "***********\n",
      "Textfooler\n",
      "***********\n",
      "Accuracy 0.92\n",
      "F1 Score: 0.5\n",
      "Precision: 0.5714285714285714\n",
      "Recall Score: 0.4444444444444444\n",
      "MCC:  0.4615273642357336\n",
      "***********\n",
      "PWWS\n",
      "***********\n",
      "Accuracy 0.94\n",
      "F1 Score: 0.6666666666666666\n",
      "Precision: 0.6666666666666666\n",
      "Recall Score: 0.6666666666666666\n",
      "MCC:  0.6336996336996337\n",
      "***********\n",
      "DeepWordBug\n",
      "***********\n",
      "Accuracy 0.93\n",
      "F1 Score: 0.5333333333333333\n",
      "Precision: 0.6666666666666666\n",
      "Recall Score: 0.4444444444444444\n",
      "MCC:  0.5090900346971865\n"
     ]
    }
   ],
   "source": [
    "print('***********')\n",
    "print('Textfooler')\n",
    "print('***********')\n",
    "print_metrics(y_true, prediction_t_r_adv_half)\n",
    "print('***********')\n",
    "print('PWWS')\n",
    "print('***********')\n",
    "print_metrics(y_true, prediction_p_r_adv_half)\n",
    "print('***********')\n",
    "print('DeepWordBug')\n",
    "print('***********')\n",
    "print_metrics(y_true, prediction_d_r_adv_half)"
   ]
  },
  {
   "cell_type": "code",
   "execution_count": 37,
   "metadata": {},
   "outputs": [
    {
     "name": "stdout",
     "output_type": "stream",
     "text": [
      "***********\n",
      "Textfooler\n",
      "***********\n",
      "Accuracy 0.86\n",
      "F1 Score: 0.3\n",
      "Precision: 0.2727272727272727\n",
      "Recall Score: 0.3333333333333333\n",
      "MCC:  0.2244723021505287\n",
      "***********\n",
      "PWWS\n",
      "***********\n",
      "Accuracy 0.87\n",
      "F1 Score: 0.3157894736842105\n",
      "Precision: 0.3\n",
      "Recall Score: 0.3333333333333333\n",
      "MCC:  0.24459979523511427\n",
      "***********\n",
      "DeepWordBug\n",
      "***********\n",
      "Accuracy 0.95\n",
      "F1 Score: 0.6666666666666667\n",
      "Precision: 0.8333333333333334\n",
      "Recall Score: 0.5555555555555556\n",
      "MCC:  0.6562258828755642\n"
     ]
    }
   ],
   "source": [
    "print('***********')\n",
    "print('Textfooler')\n",
    "print('***********')\n",
    "print_metrics(y_true, prediction_t_r_adv)\n",
    "print('***********')\n",
    "print('PWWS')\n",
    "print('***********')\n",
    "print_metrics(y_true, prediction_p_r_adv)\n",
    "print('***********')\n",
    "print('DeepWordBug')\n",
    "print('***********')\n",
    "print_metrics(y_true, prediction_d_r_adv)"
   ]
  }
 ],
 "metadata": {
  "kernelspec": {
   "display_name": "Python 3",
   "language": "python",
   "name": "python3"
  },
  "language_info": {
   "codemirror_mode": {
    "name": "ipython",
    "version": 3
   },
   "file_extension": ".py",
   "mimetype": "text/x-python",
   "name": "python",
   "nbconvert_exporter": "python",
   "pygments_lexer": "ipython3",
   "version": "3.8.3"
  }
 },
 "nbformat": 4,
 "nbformat_minor": 4
}
