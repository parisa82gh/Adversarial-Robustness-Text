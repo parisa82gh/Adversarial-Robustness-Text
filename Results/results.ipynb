{
 "cells": [
  {
   "cell_type": "code",
   "execution_count": 1,
   "metadata": {},
   "outputs": [
    {
     "name": "stderr",
     "output_type": "stream",
     "text": [
      "[nltk_data] Downloading package punkt to /Users/parisa/nltk_data...\n",
      "[nltk_data]   Package punkt is already up-to-date!\n"
     ]
    },
    {
     "data": {
      "text/plain": [
       "True"
      ]
     },
     "execution_count": 1,
     "metadata": {},
     "output_type": "execute_result"
    }
   ],
   "source": [
    "import argparse\n",
    "import spacy\n",
    "import unidecode\n",
    "import re, string, unicodedata\n",
    "import nltk\n",
    "import contractions\n",
    "import inflect\n",
    "import pandas as pd\n",
    "import numpy as np \n",
    "from nltk.corpus import wordnet as wn\n",
    "from collections import Counter\n",
    "from nltk import word_tokenize, sent_tokenize\n",
    "from nltk.corpus import stopwords\n",
    "from nltk.stem import LancasterStemmer, WordNetLemmatizer\n",
    "\n",
    "from bs4 import BeautifulSoup\n",
    "\n",
    "from gensim.models import word2vec, FastText\n",
    "\n",
    "from sklearn.decomposition import PCA\n",
    "from matplotlib import pyplot as plt\n",
    "import plotly.graph_objects as go\n",
    "\n",
    "from wordcloud import WordCloud, STOPWORDS\n",
    "\n",
    "nltk.download('punkt')\n",
    "# load spacy model, can be \"en_core_web_sm\" as well\n",
    "#nlp = spacy.load('en_core_web_md')"
   ]
  },
  {
   "cell_type": "code",
   "execution_count": 2,
   "metadata": {},
   "outputs": [],
   "source": [
    "import gensim.models\n",
    "model = gensim.models.KeyedVectors.load_word2vec_format('/Users/parisa/Documents/MS_Research/Code/GoogleNews-vectors-negative300.bin', binary=True) "
   ]
  },
  {
   "cell_type": "markdown",
   "metadata": {},
   "source": [
    "### Define intersection between attackt example functions "
   ]
  },
  {
   "cell_type": "code",
   "execution_count": 2,
   "metadata": {},
   "outputs": [],
   "source": [
    "def intersection(lst1, lst2):\n",
    "    lst3 = [value for value in lst1 if value in lst2]\n",
    "    return lst3\n",
    "   \n",
    "def remove_brackets(sample_str):\n",
    "    sample_str = sample_str.replace(\"[[\", \"\")\n",
    "    sample_str = sample_str.replace(\"]]\", \"\")\n",
    "    return sample_str\n",
    "\n",
    "def clean_up_list(str_list):\n",
    "    final_list=[]\n",
    "    for item in str_list:\n",
    "        final_list.append(remove_brackets(item))\n",
    "    return final_list\n",
    "\n",
    "def comparing(lst1, lst2):\n",
    "    items = intersection(lst1, lst2)\n",
    "    return len(items), items\n",
    "\n",
    "# Generate a report from the imtersection between 2 different arracks\n",
    "def intersection_report(failed_lst1, failed_lst2,succeeded_lst1, succeeded_lst2, attack1, attack2):\n",
    "    \n",
    "    f_intersect_num, f_intersect_items = comparing(failed_lst1, failed_lst2)\n",
    "    print('Intersection number of failed examples between', attack1, 'and', attack2, sep=\" \")\n",
    "    print(f_intersect_num)\n",
    "   \n",
    "    s_intersect_num, s_intersect_items = comparing(succeeded_lst1, succeeded_lst2)\n",
    "    print('Intersection number of succeeded examples between', attack1, 'and', attack2, sep=\" \")\n",
    "    print(s_intersect_num)\n",
    "    \n",
    "    return f_intersect_items, s_intersect_items\n",
    "\n",
    "# Parse textattack results\n",
    "def parse_text_file(filename):\n",
    "    # Constant Variable\n",
    "    divide_section_string = '--------------------------------------------- Result'\n",
    "    # Initialize variable\n",
    "    count = 0\n",
    "    failed_examples = []\n",
    "    succeeded_examples = []\n",
    "    attack_examples = []\n",
    "    # Read text file line by line\n",
    "    f = open(filename, 'r')\n",
    "    lines = f.readlines()\n",
    "   \n",
    "    pattern = re.compile(r'\\[\\[[0-9a-zA-Z\\'\\-]+\\]\\]')\n",
    "\n",
    "    while count < len(lines):\n",
    "        if divide_section_string in lines[count]: \n",
    "            count += 1\n",
    "            if '[[[FAILED]]]' in lines[count] or '[[SKIPPED]]' in lines[count]:\n",
    "                count += 2\n",
    "                failed_examples.append(lines[count])\n",
    "            else:\n",
    "                count += 2\n",
    "                succeeded_examples.append(lines[count])\n",
    "                count += 2\n",
    "                attack_examples.append(lines[count])\n",
    "            count +=1\n",
    "        count += 1       \n",
    "\n",
    "    return failed_examples, succeeded_examples, attack_examples"
   ]
  },
  {
   "cell_type": "markdown",
   "metadata": {},
   "source": [
    "### Text clean up functions"
   ]
  },
  {
   "cell_type": "code",
   "execution_count": 3,
   "metadata": {},
   "outputs": [],
   "source": [
    "# to remove HTML tag\n",
    "def html_remover(data):\n",
    "  beauti = BeautifulSoup(data,'html.parser')\n",
    "  return beauti.get_text()\n",
    "\n",
    "# to remove URL\n",
    "def url_remover(data):\n",
    "  return re.sub(r'https\\S','',data)\n",
    "\n",
    "# Perform web clean up\n",
    "def web_associated(data):\n",
    "  text = html_remover(data)\n",
    "  text = url_remover(text)\n",
    "  return text"
   ]
  },
  {
   "cell_type": "markdown",
   "metadata": {},
   "source": [
    "### Remove text noise functions"
   ]
  },
  {
   "cell_type": "code",
   "execution_count": 4,
   "metadata": {},
   "outputs": [],
   "source": [
    "def remove_round_brackets(data):\n",
    "  return re.sub('\\(.*?\\)','',data)\n",
    "\n",
    "def remove_punc(data):\n",
    "  trans = str.maketrans('','', string.punctuation)\n",
    "  return data.translate(trans)\n",
    "\n",
    "def white_space(data):\n",
    "  return ' '.join(data.split())\n",
    "\n",
    "# Perform all the function above to remove the noise from the text\n",
    "def complete_noise(data):\n",
    "  new_data = remove_round_brackets(data)\n",
    "  new_data = remove_punc(new_data)\n",
    "  new_data = white_space(new_data)\n",
    "  return new_data"
   ]
  },
  {
   "cell_type": "markdown",
   "metadata": {},
   "source": [
    "### Normalize the text"
   ]
  },
  {
   "cell_type": "code",
   "execution_count": 5,
   "metadata": {},
   "outputs": [],
   "source": [
    "def text_lower(data):\n",
    "  return data.lower()\n",
    "\n",
    "def contraction_replace(data):\n",
    "  return contractions.fix(data)\n",
    "\n",
    "def remove_numbers(data):\n",
    "  return ''.join([i for i in data if not i.isdigit()])\n",
    "\n",
    "def normalization(data):\n",
    "  text = text_lower(data)\n",
    "  text = remove_numbers(text)\n",
    "  text = contraction_replace(text)\n",
    "  \n",
    "  tokens = nltk.word_tokenize(text)\n",
    "  return tokens\n"
   ]
  },
  {
   "cell_type": "markdown",
   "metadata": {},
   "source": [
    "### Stemming and Lemmatiazation"
   ]
  },
  {
   "cell_type": "code",
   "execution_count": 6,
   "metadata": {},
   "outputs": [],
   "source": [
    "def stopword(data):\n",
    "  nltk.download('stopwords')\n",
    "  clean = []\n",
    "  for i in data:\n",
    "    if i not in stopwords.words('english'):\n",
    "      clean.append(i)\n",
    "  return clean\n",
    "\n",
    "def stemming(data):\n",
    "  stemmer = LancasterStemmer()\n",
    "  stemmed = []\n",
    "  for i in data:\n",
    "    stem = stemmer.stem(i)\n",
    "    stemmed.append(stem)\n",
    "  return stemmed\n",
    "\n",
    "def lemmatization(data):\n",
    "  nltk.download('wordnet')\n",
    "  lemma = WordNetLemmatizer()\n",
    "  lemmas = []\n",
    "  for i in data:\n",
    "    lem = lemma.lemmatize(i, pos='v')\n",
    "    lemmas.append(lem)\n",
    "  return lemmas  \n",
    "\n",
    "def final_process(data):\n",
    "  stopwords_remove = stopword(data)\n",
    "  stemmed = stemming(stopwords_remove)\n",
    "  lemm = lemmatization(stopwords_remove)\n",
    "  return stemmed, lemm\n"
   ]
  },
  {
   "cell_type": "markdown",
   "metadata": {},
   "source": [
    "### Preprocess the text using all the above functions"
   ]
  },
  {
   "cell_type": "code",
   "execution_count": 7,
   "metadata": {},
   "outputs": [],
   "source": [
    "def preprocessing_text(text):\n",
    "    # Process after removing URL and HTML tag\n",
    "    new_data = web_associated(text)\n",
    "    # Process after removing noisy space and charachter\n",
    "    new_data = complete_noise(new_data)\n",
    "    # Generate tokens with normalization\n",
    "    tokens = normalization(new_data)\n",
    "    # Process remove stopword, lemming and stemming\n",
    "    stem,lemmas = final_process(tokens)\n",
    "    return lemmas"
   ]
  },
  {
   "cell_type": "code",
   "execution_count": 8,
   "metadata": {},
   "outputs": [],
   "source": [
    "# Preprocess all the examples\n",
    "def preprocess_all_sentences(sentences):\n",
    "    preprocess_sentences = []\n",
    "    for item in sentences:\n",
    "        preprocess_sentences.append(preprocessing_text(item))\n",
    "    return preprocess_sentences"
   ]
  },
  {
   "cell_type": "code",
   "execution_count": 9,
   "metadata": {},
   "outputs": [],
   "source": [
    "def extract_len_sen(sentences):\n",
    "    len_list = []\n",
    "    for item in sentences:\n",
    "        len_list.append(len(item))\n",
    "    return len_list"
   ]
  },
  {
   "cell_type": "code",
   "execution_count": 10,
   "metadata": {},
   "outputs": [],
   "source": [
    "def print_mean_std(s,s1,s2, lst):\n",
    "    print(s,'examples between',s1,'and', s2, 'mean and std:',np.mean(extract_len_sen(lst)), np.std(extract_len_sen(lst)),sep=\" \")"
   ]
  },
  {
   "cell_type": "code",
   "execution_count": 11,
   "metadata": {},
   "outputs": [],
   "source": [
    "def create_word_list(sentences):\n",
    "    words = []\n",
    "    for sentence in sentences:\n",
    "        words = words + sentence\n",
    "    return words"
   ]
  },
  {
   "cell_type": "code",
   "execution_count": 12,
   "metadata": {},
   "outputs": [],
   "source": [
    "def create_word2vec_list(words):\n",
    "    word2vec_list = []\n",
    "    e_words = []\n",
    "    for word in words:\n",
    "        if word in model.vocab:\n",
    "            word2vec_list.append(model[word])\n",
    "            e_words.append(word)\n",
    "    return word2vec_list, e_words"
   ]
  },
  {
   "cell_type": "markdown",
   "metadata": {},
   "source": [
    "### Extract purturbed words from attack examples "
   ]
  },
  {
   "cell_type": "code",
   "execution_count": 13,
   "metadata": {},
   "outputs": [],
   "source": [
    "def intersection_with_index(lst1, lst2):\n",
    "    new_lst = []\n",
    "    index1 = []\n",
    "    index2 = []\n",
    "    no_insec_index1 = []\n",
    "    no_insec_index2 = []\n",
    "    for item in lst2:\n",
    "        if item in lst1:\n",
    "            new_lst.append(item)\n",
    "            index1.append(lst1.index(item))\n",
    "            index2.append(lst2.index(item))\n",
    "        else:\n",
    "            #no_insec_index1.append(lst1.index(item))\n",
    "            no_insec_index2.append(lst2.index(item))\n",
    "    \n",
    "    for item in lst1:\n",
    "        if item not in lst2:\n",
    "            no_insec_index1.append(lst1.index(item))  \n",
    "    \n",
    "    return new_lst, index1, index2\n",
    "\n",
    "def remove_bracket_square_word(word):\n",
    "    word = word[2:len(word)-2]\n",
    "    return word\n",
    "\n",
    "def extract_purturb_words(lst, indexs):\n",
    "    match_lst = []\n",
    "    pattern = re.compile(r'\\[\\[[0-9a-zA-Z\\'\\-]+\\]\\]')\n",
    "    for index in indexs:\n",
    "        matches = pattern.findall(lst[index])\n",
    "        match_lst.append([remove_bracket_square_word(word) for word in matches])\n",
    "    return match_lst"
   ]
  },
  {
   "cell_type": "code",
   "execution_count": 15,
   "metadata": {},
   "outputs": [],
   "source": [
    "def difference(lst1, lst2):\n",
    "    lst3 = [value for value in lst1 if value not in lst2]\n",
    "    return lst3\n",
    "\n",
    "def extract_intesect_purturb_words(clean_s_examples1, clean_s_examples2, s_examples1, s_examples2, attack_examples1, attack_examples2):\n",
    "    new_lst, index1, index2 = intersection_with_index(clean_s_examples1, clean_s_examples2)\n",
    "    purturbed_words1 = extract_purturb_words(s_examples1, index1)\n",
    "    purturbed_words2 = extract_purturb_words(s_examples2, index2)\n",
    "    replaced_words1 = extract_purturb_words(attack_examples1, index1)\n",
    "    replaced_words2 = extract_purturb_words(attack_examples2, index2)\n",
    "    \n",
    "    intersect_purturbed_words = []\n",
    "    for i in range(len(purturbed_words1)):\n",
    "        intersect_purturbed_words.append(intersection(purturbed_words1[i], purturbed_words2[i]))\n",
    "    \n",
    "    not_in_2 = []\n",
    "    for i in range(len(purturbed_words1)):\n",
    "        not_in_2.append(difference(purturbed_words1[i], purturbed_words2[i]))\n",
    "    not_in_1 = []\n",
    "    for i in range(len(purturbed_words1)):\n",
    "        not_in_1.append(difference(purturbed_words2[i], purturbed_words1[i]))\n",
    "        \n",
    "    return intersect_purturbed_words, index1, index2, not_in_1, not_in_2"
   ]
  },
  {
   "cell_type": "markdown",
   "metadata": {},
   "source": [
    "### Import ALBERT textattack results from performing different attack method"
   ]
  },
  {
   "cell_type": "code",
   "execution_count": 14,
   "metadata": {},
   "outputs": [],
   "source": [
    "t_failed_examples, t_succeeded_examples, t_attack_examples = parse_text_file('textattack-logs/albert_textfooler')\n",
    "d_failed_examples, d_succeeded_examples, d_attack_examples = parse_text_file('textattack-logs/albert_deepwordbug')\n",
    "p_failed_examples, p_succeeded_examples, p_attack_examples = parse_text_file('textattack-logs/albert_pwws')\n",
    "b_failed_examples, b_succeeded_examples, b_attack_examples = parse_text_file('textattack-logs/albert_bae')\n",
    "\n",
    "\n",
    "t_400_failed_examples, t_400_succeeded_examples, t_400_attack_examples = parse_text_file('textattack-logs/400_textfooler_albert')\n",
    "p_400_failed_examples, p_400_succeeded_examples, p_400_attack_examples = parse_text_file('textattack-logs/400_pwws_albert')\n",
    "d_400_failed_examples, d_400_succeeded_examples, d_400_attack_examples = parse_text_file('textattack-logs/400_deepwordbug_albert')\n",
    "b_400_failed_examples, b_400_succeeded_examples, b_400_attack_examples = parse_text_file('textattack-logs/400_bae_albert')\n",
    "\n",
    "\n",
    "t_s = clean_up_list(t_succeeded_examples) + clean_up_list(t_400_succeeded_examples)\n",
    "p_s = clean_up_list(p_succeeded_examples) + clean_up_list(p_400_succeeded_examples)\n",
    "d_s = clean_up_list(d_succeeded_examples) + clean_up_list(d_400_succeeded_examples)\n",
    "b_s = clean_up_list(b_succeeded_examples) + clean_up_list(b_400_succeeded_examples)\n",
    "\n",
    "t_a = clean_up_list(t_attack_examples) + clean_up_list(t_400_attack_examples)\n",
    "p_a = clean_up_list(p_attack_examples) + clean_up_list(p_400_attack_examples)\n",
    "d_a = clean_up_list(d_attack_examples) + clean_up_list(d_400_attack_examples)\n",
    "b_a = clean_up_list(b_attack_examples) + clean_up_list(b_400_attack_examples)\n",
    "\n",
    "t_succeeded = t_succeeded_examples + t_400_succeeded_examples\n",
    "p_succeeded = p_succeeded_examples + p_400_succeeded_examples\n",
    "d_succeeded = d_succeeded_examples + d_400_succeeded_examples\n",
    "b_succeeded = b_succeeded_examples + b_400_succeeded_examples\n",
    "\n",
    "t_attack = t_attack_examples + t_400_attack_examples\n",
    "p_attack = p_attack_examples + p_400_attack_examples\n",
    "d_attack = d_attack_examples + d_400_attack_examples\n",
    "b_attack = b_attack_examples + b_400_attack_examples\n"
   ]
  },
  {
   "cell_type": "markdown",
   "metadata": {},
   "source": [
    "### Import ROBERTA textattack results from performing different attack method"
   ]
  },
  {
   "cell_type": "code",
   "execution_count": 18,
   "metadata": {},
   "outputs": [],
   "source": [
    "t_r_failed_examples, t_r_succeeded_examples, t_r_attack_examples = parse_text_file('textattack-logs/roberta_textfooler')\n",
    "p_r_failed_examples, p_r_succeeded_examples, p_r_attack_examples = parse_text_file('textattack-logs/roberta_pwws')\n",
    "d_r_failed_examples, d_r_succeeded_examples, d_r_attack_examples = parse_text_file('textattack-logs/roberta_deepwordbug')\n",
    "b_r_failed_examples, b_r_succeeded_examples, b_r_attack_examples = parse_text_file('textattack-logs/bae_roberta')\n",
    "\n",
    "t_r_400_failed_examples, t_r_400_succeeded_examples, t_r_400_attack_examples = parse_text_file('textattack-logs/400_textfooler_roberta')\n",
    "p_r_400_failed_examples, p_r_400_succeeded_examples, p_r_400_attack_examples = parse_text_file('textattack-logs/400_pwws_roberta')\n",
    "d_r_400_failed_examples, d_r_400_succeeded_examples, d_r_400_attack_examples = parse_text_file('textattack-logs/400_deepwordbug_roberta')\n",
    "\n",
    "\n",
    "t_r_s = clean_up_list(t_r_succeeded_examples) + clean_up_list(t_r_400_succeeded_examples)\n",
    "p_r_s = clean_up_list(p_r_succeeded_examples) + clean_up_list(p_r_400_succeeded_examples)\n",
    "d_r_s = clean_up_list(d_r_succeeded_examples) + clean_up_list(d_r_400_succeeded_examples)\n",
    "b_r_s = clean_up_list(b_r_succeeded_examples)\n",
    "\n",
    "\n",
    "\n",
    "t_r_a = clean_up_list(t_r_attack_examples) + clean_up_list(t_r_400_attack_examples)\n",
    "p_r_a = clean_up_list(p_r_attack_examples) + clean_up_list(p_r_400_attack_examples)\n",
    "d_r_a = clean_up_list(d_r_attack_examples) + clean_up_list(d_r_400_attack_examples)\n",
    "b_r_a = clean_up_list(b_r_attack_examples)\n",
    "\n",
    "\n",
    "t_r_succeeded = t_r_succeeded_examples + t_r_400_succeeded_examples\n",
    "p_r_succeeded = p_r_succeeded_examples + p_r_400_succeeded_examples\n",
    "d_r_succeeded = d_r_succeeded_examples + d_r_400_succeeded_examples\n",
    "b_r_succeeded = b_r_succeeded_examples\n",
    "\n",
    "t_r_attack = t_r_attack_examples + t_r_400_attack_examples\n",
    "p_r_attack = p_r_attack_examples + p_r_400_attack_examples\n",
    "d_r_attack = d_r_attack_examples + d_r_400_attack_examples\n",
    "b_r_attack = b_r_attack_examples\n",
    "\n"
   ]
  },
  {
   "cell_type": "code",
   "execution_count": 20,
   "metadata": {},
   "outputs": [],
   "source": [
    "df_test = pd.read_csv('textattack-logs/test_emails.csv')"
   ]
  },
  {
   "cell_type": "markdown",
   "metadata": {},
   "source": [
    "### Define counting the number of phish and legit successful attacks"
   ]
  },
  {
   "cell_type": "code",
   "execution_count": 22,
   "metadata": {},
   "outputs": [],
   "source": [
    "def count_phish_legit_attack(s_examples,succeed_examples,attack_examples,df):\n",
    "    count_phish = 0\n",
    "    count_legit = 0\n",
    "    s_phish = []\n",
    "    a_phish = []\n",
    "    s_legit = []\n",
    "    a_legit = []\n",
    "    indexes = []\n",
    "    lst = df['text'].tolist()\n",
    "    label_lst = df['label'].tolist()\n",
    "    for i in range(len(s_examples)):\n",
    "        #print(i)\n",
    "        #indexes.append(lst.index(s_examples[i].replace('\\n', '')))\n",
    "        index = lst.index(s_examples[i].replace('\\n', ''))\n",
    "        if df.iloc[index]['label'] == 1:\n",
    "            count_phish += 1\n",
    "            s_phish.append(succeed_examples[i])\n",
    "            a_phish.append(attack_examples[i])\n",
    "        else:\n",
    "            count_legit += 1\n",
    "            s_legit.append(succeed_examples[i])\n",
    "            a_legit.append(attack_examples[i])\n",
    "                          \n",
    "    print('Phishing: ' + str(count_phish) + ' Legitimate: ' + str(count_legit))\n",
    "    return s_phish, a_phish, s_legit, a_legit "
   ]
  },
  {
   "cell_type": "markdown",
   "metadata": {},
   "source": [
    "### Textfooler"
   ]
  },
  {
   "cell_type": "code",
   "execution_count": 35,
   "metadata": {},
   "outputs": [
    {
     "name": "stdout",
     "output_type": "stream",
     "text": [
      "Phishing: 52 Legitimate: 60\n"
     ]
    }
   ],
   "source": [
    "#albert\n",
    "t_s_phish, t_a_phish, t_s_legit, t_a_legit = count_phish_legit_attack(t_s,t_succeeded,t_attack,df_test)"
   ]
  },
  {
   "cell_type": "code",
   "execution_count": 28,
   "metadata": {},
   "outputs": [
    {
     "name": "stdout",
     "output_type": "stream",
     "text": [
      "Phishing: 45 Legitimate: 103\n"
     ]
    }
   ],
   "source": [
    "#roberta\n",
    "t_s_phish, t_a_phish, t_s_legit, t_a_legit = count_phish_legit_attack(t_r_s,t_r_succeeded,t_r_attack,df_test)"
   ]
  },
  {
   "cell_type": "markdown",
   "metadata": {},
   "source": [
    "### PWWS"
   ]
  },
  {
   "cell_type": "code",
   "execution_count": 36,
   "metadata": {},
   "outputs": [
    {
     "name": "stdout",
     "output_type": "stream",
     "text": [
      "Phishing: 52 Legitimate: 18\n"
     ]
    }
   ],
   "source": [
    "#albert\n",
    "p_s_phish, p_a_phish, p_s_legit, p_a_legit = count_phish_legit_attack(p_s,p_succeeded,p_attack,df_test)"
   ]
  },
  {
   "cell_type": "code",
   "execution_count": 29,
   "metadata": {},
   "outputs": [
    {
     "name": "stdout",
     "output_type": "stream",
     "text": [
      "Phishing: 38 Legitimate: 44\n"
     ]
    }
   ],
   "source": [
    "#roberta\n",
    "p_s_phish, p_a_phish, p_s_legit, p_a_legit = count_phish_legit_attack(p_r_s,p_r_succeeded,p_r_attack,df_test)"
   ]
  },
  {
   "cell_type": "markdown",
   "metadata": {},
   "source": [
    "### DeepWordBug"
   ]
  },
  {
   "cell_type": "code",
   "execution_count": 37,
   "metadata": {},
   "outputs": [
    {
     "name": "stdout",
     "output_type": "stream",
     "text": [
      "Phishing: 52 Legitimate: 14\n"
     ]
    }
   ],
   "source": [
    "#albert\n",
    "d_s_phish, d_a_phish, d_s_legit, d_a_legit = count_phish_legit_attack(d_s,d_succeeded,d_attack,df_test)"
   ]
  },
  {
   "cell_type": "code",
   "execution_count": 30,
   "metadata": {},
   "outputs": [
    {
     "name": "stdout",
     "output_type": "stream",
     "text": [
      "Phishing: 43 Legitimate: 13\n"
     ]
    }
   ],
   "source": [
    "#roberta\n",
    "d_s_phish, d_a_phish, d_s_legit, d_a_legit = count_phish_legit_attack(d_r_s,d_r_succeeded,d_r_attack,df_test)"
   ]
  },
  {
   "cell_type": "markdown",
   "metadata": {},
   "source": [
    "### BAE"
   ]
  },
  {
   "cell_type": "code",
   "execution_count": 38,
   "metadata": {},
   "outputs": [
    {
     "name": "stdout",
     "output_type": "stream",
     "text": [
      "Phishing: 7 Legitimate: 20\n"
     ]
    }
   ],
   "source": [
    "#albert\n",
    "b_s_phish, b_a_phish, b_s_legit, b_a_legit = count_phish_legit_attack(b_s,b_succeeded,b_attack,df_test)"
   ]
  },
  {
   "cell_type": "code",
   "execution_count": 31,
   "metadata": {},
   "outputs": [
    {
     "name": "stdout",
     "output_type": "stream",
     "text": [
      "Phishing: 6 Legitimate: 46\n"
     ]
    }
   ],
   "source": [
    "#roberta\n",
    "b_s_phish, b_a_phish, b_s_legit, b_a_legit = count_phish_legit_attack(b_r_s,b_r_succeeded,b_r_attack,df_test)"
   ]
  },
  {
   "cell_type": "markdown",
   "metadata": {},
   "source": [
    "### Find the intersection between different attack results"
   ]
  },
  {
   "cell_type": "markdown",
   "metadata": {},
   "source": [
    "### ALBERT"
   ]
  },
  {
   "cell_type": "code",
   "execution_count": 27,
   "metadata": {},
   "outputs": [
    {
     "name": "stdout",
     "output_type": "stream",
     "text": [
      "Intersection between textfooler and pwws\n",
      "69\n",
      "phishing\n",
      "52\n",
      "legit\n",
      "17\n",
      "Intersection between textfooler and deepwordbug\n",
      "64\n",
      "phishing\n",
      "51\n",
      "legit\n",
      "13\n",
      "Intersection between textfooler and bae\n",
      "20\n",
      "phishing\n",
      "7\n",
      "legit\n",
      "13\n",
      "Intersection between pwws and deepwordbug\n",
      "59\n",
      "phishing\n",
      "51\n",
      "legit\n",
      "8\n",
      "Intersection between pwws and bae\n",
      "13\n",
      "phishing\n",
      "7\n",
      "legit\n",
      "6\n",
      "Intersection between deepwordbug and bae\n",
      "12\n",
      "phishing\n",
      "7\n",
      "legit\n",
      "5\n",
      "************************************\n",
      "Intersection between textfooler, pwws and deepwordbug\n",
      "59\n",
      "phishing\n",
      "51\n",
      "legit\n",
      "5\n",
      "Intersection between textfooler, pwws and bae\n",
      "13\n",
      "phishing\n",
      "7\n",
      "legit\n",
      "13\n",
      "Intersection between textfooler, deepwordbug and bae\n",
      "12\n",
      "phishing\n",
      "7\n",
      "legit\n",
      "5\n",
      "Intersection between pwws, deepwordbug and bae\n",
      "13\n",
      "phishing\n",
      "7\n",
      "legit\n",
      "4\n",
      "************************************\n",
      "Intersection between textfooler, pwws, deepwordbug and bae\n",
      "11\n",
      "phishing\n",
      "7\n",
      "legit\n",
      "5\n"
     ]
    }
   ],
   "source": [
    "print('Intersection between textfooler and pwws')\n",
    "count_t_p, lst_t_p = comparing(t_s,p_s)\n",
    "print(count_t_p)\n",
    "print('phishing')\n",
    "count_t_p_phish, lst_t_p_phish = comparing(clean_up_list(t_s_phish),clean_up_list(p_s_phish))\n",
    "print(count_t_p_phish)\n",
    "print('legit')\n",
    "count_t_p_legit, lst_t_p_legit = comparing(clean_up_list(t_s_legit),clean_up_list(p_s_legit))\n",
    "print(count_t_p_legit)\n",
    "\n",
    "print('Intersection between textfooler and deepwordbug')\n",
    "count_t_d, lst_t_d = comparing(t_s,d_s)\n",
    "print(count_t_d)\n",
    "print('phishing')\n",
    "count_t_d_phish, lst_t_d_phish = comparing(clean_up_list(t_s_phish),clean_up_list(d_s_phish))\n",
    "print(count_t_d_phish)\n",
    "print('legit')\n",
    "count_t_d_legit, lst_t_d_legit = comparing(clean_up_list(t_s_legit),clean_up_list(d_s_legit))\n",
    "print(count_t_d_legit)\n",
    "\n",
    "print('Intersection between textfooler and bae')\n",
    "count_t_b, lst_t_b = comparing(t_s,b_s)\n",
    "print(count_t_b)\n",
    "print('phishing')\n",
    "count_t_b_phish, lst_t_b_phish = comparing(clean_up_list(t_s_phish),clean_up_list(b_s_phish))\n",
    "print(count_t_b_phish)\n",
    "print('legit')\n",
    "count_t_b_legit, lst_t_p_legit = comparing(clean_up_list(t_s_legit),clean_up_list(b_s_legit))\n",
    "print(count_t_b_legit)\n",
    "\n",
    "print('Intersection between pwws and deepwordbug')\n",
    "count_p_d, lst_p_d = comparing(p_s,d_s)\n",
    "print(count_p_d)\n",
    "\n",
    "print('phishing')\n",
    "count_p_d_phish, lst_p_d_phish = comparing(clean_up_list(p_s_phish),clean_up_list(d_s_phish))\n",
    "print(count_p_d_phish)\n",
    "print('legit')\n",
    "count_p_d_legit, lst_p_d_legit = comparing(clean_up_list(p_s_legit),clean_up_list(d_s_legit))\n",
    "print(count_p_d_legit)\n",
    "\n",
    "print('Intersection between pwws and bae')\n",
    "count_p_b, lst_p_d = comparing(p_s,b_s)\n",
    "print(count_p_b)\n",
    "\n",
    "print('phishing')\n",
    "count_p_b_phish, lst_p_b_phish = comparing(clean_up_list(p_s_phish),clean_up_list(b_s_phish))\n",
    "print(count_p_b_phish)\n",
    "print('legit')\n",
    "count_p_b_legit, lst_p_b_legit = comparing(clean_up_list(p_s_legit),clean_up_list(b_s_legit))\n",
    "print(count_p_b_legit)\n",
    "\n",
    "print('Intersection between deepwordbug and bae')\n",
    "count_d_b, lst_d_d = comparing(d_s,b_s)\n",
    "print(count_d_b)\n",
    "\n",
    "print('phishing')\n",
    "count_d_b_phish, lst_d_b_phish = comparing(clean_up_list(d_s_phish),clean_up_list(b_s_phish))\n",
    "print(count_d_b_phish)\n",
    "print('legit')\n",
    "count_d_b_legit, lst_d_b_legit = comparing(clean_up_list(d_s_legit),clean_up_list(b_s_legit))\n",
    "print(count_d_b_legit)\n",
    "\n",
    "print('************************************')\n",
    "print('Intersection between textfooler, pwws and deepwordbug')\n",
    "count_t_p_d, lst_t_p_d = comparing(d_s,lst_t_p)\n",
    "print(count_t_p_d)\n",
    "\n",
    "print('phishing')\n",
    "count_t_p_d_phish, lst_t_p_d_phish = comparing(clean_up_list(d_s_phish),lst_t_p_phish)\n",
    "print(count_t_p_d_phish)\n",
    "print('legit')\n",
    "count_t_p_d_legit, lst_t_p_d_legit = comparing(clean_up_list(d_s_legit),lst_t_p_legit)\n",
    "print(count_t_p_d_legit)\n",
    "\n",
    "print('Intersection between textfooler, pwws and bae')\n",
    "count_t_p_b, lst_t_p_b = comparing(b_s,lst_t_p)\n",
    "print(count_t_p_b)\n",
    "print('phishing')\n",
    "count_t_p_b_phish, lst_t_p_d_phish = comparing(clean_up_list(b_s_phish),lst_t_p_phish)\n",
    "print(count_t_p_b_phish)\n",
    "print('legit')\n",
    "count_t_p_b_legit, lst_t_p_b_legit = comparing(clean_up_list(b_s_legit),lst_t_p_legit)\n",
    "print(count_t_p_b_legit)\n",
    "\n",
    "\n",
    "print('Intersection between textfooler, deepwordbug and bae')\n",
    "count_t_d_b, lst_t_d_b = comparing(b_s,lst_t_d)\n",
    "print(count_t_d_b)\n",
    "print('phishing')\n",
    "count_t_d_b_phish, lst_t_d_b_phish = comparing(clean_up_list(b_s_phish),lst_t_d_phish)\n",
    "print(count_t_d_b_phish)\n",
    "print('legit')\n",
    "count_t_d_b_legit, lst_t_d_b_legit = comparing(clean_up_list(b_s_legit),lst_t_d_legit)\n",
    "print(count_t_d_b_legit)\n",
    "\n",
    "\n",
    "\n",
    "\n",
    "print('Intersection between pwws, deepwordbug and bae')\n",
    "count_p_d_b, lst_p_d_b = comparing(b_s,lst_p_d)\n",
    "print(count_p_d_b)\n",
    "print('phishing')\n",
    "count_p_d_b_phish, lst_p_d_b_phish = comparing(clean_up_list(b_s_phish),lst_p_d_phish)\n",
    "print(count_p_d_b_phish)\n",
    "print('legit')\n",
    "count_p_d_b_legit, lst_p_d_b_legit = comparing(clean_up_list(b_s_legit),lst_p_d_legit)\n",
    "print(count_p_d_b_legit)\n",
    "\n",
    "print('************************************')\n",
    "print('Intersection between textfooler, pwws, deepwordbug and bae')\n",
    "count_t_p_d_b, lst_t_p_d_b = comparing(b_s,lst_t_p_d)\n",
    "print(count_t_p_d_b)\n",
    "print('phishing')\n",
    "count_t_p_d_b_phish, lst_t_p_d_b_phish = comparing(clean_up_list(b_s_phish),lst_t_p_d_phish)\n",
    "print(count_t_p_d_b_phish)\n",
    "print('legit')\n",
    "count_t_p_d_b_legit, lst_t_p_d_b_legit = comparing(clean_up_list(b_s_legit),lst_t_p_d_legit)\n",
    "print(count_t_p_d_b_legit)\n"
   ]
  },
  {
   "cell_type": "markdown",
   "metadata": {},
   "source": [
    "### ROBERTA"
   ]
  },
  {
   "cell_type": "code",
   "execution_count": 32,
   "metadata": {},
   "outputs": [
    {
     "name": "stdout",
     "output_type": "stream",
     "text": [
      "Intersection between textfooler and pwws\n",
      "phishing\n",
      "37\n",
      "legit\n",
      "41\n",
      "Intersection between textfooler and deepwordbug\n",
      "phishing\n",
      "41\n",
      "legit\n",
      "14\n",
      "Intersection between textfooler and bae\n",
      "phishing\n",
      "6\n",
      "legit\n",
      "18\n",
      "Intersection between pwws and deepwordbug\n",
      "49\n",
      "phishing\n",
      "36\n",
      "legit\n",
      "13\n",
      "Intersection between pwws and bae\n",
      "phishing\n",
      "6\n",
      "legit\n",
      "13\n",
      "Intersection between deepwordbug and bae\n",
      "phishing\n",
      "6\n",
      "legit\n",
      "8\n",
      "************************************\n",
      "Intersection between textfooler, pwws and deepwordbug\n",
      "phishing\n",
      "35\n",
      "legit\n",
      "8\n",
      "Intersection between textfooler, pwws and bae\n",
      "phishing\n",
      "6\n",
      "legit\n",
      "18\n",
      "Intersection between textfooler, deepwordbug and bae\n",
      "phishing\n",
      "6\n",
      "legit\n",
      "8\n",
      "Intersection between pwws, deepwordbug and bae\n",
      "phishing\n",
      "6\n",
      "legit\n",
      "8\n",
      "************************************\n",
      "Intersection between textfooler, pwws, deepwordbug and bae\n",
      "phishing\n",
      "6\n",
      "legit\n",
      "8\n"
     ]
    }
   ],
   "source": [
    "print('Intersection between textfooler and pwws')\n",
    "count_t_p, lst_t_p = comparing(t_r_s,p_r_s)\n",
    "\n",
    "print('phishing')\n",
    "count_t_p_phish, lst_t_p_phish = comparing(clean_up_list(t_s_phish),clean_up_list(p_s_phish))\n",
    "print(count_t_p_phish)\n",
    "print('legit')\n",
    "count_t_p_legit, lst_t_p_legit = comparing(clean_up_list(t_s_legit),clean_up_list(p_s_legit))\n",
    "print(count_t_p_legit)\n",
    "\n",
    "print('Intersection between textfooler and deepwordbug')\n",
    "count_t_d, lst_t_d = comparing(t_r_s,d_r_s)\n",
    "\n",
    "print('phishing')\n",
    "count_t_d_phish, lst_t_d_phish = comparing(clean_up_list(t_s_phish),clean_up_list(d_s_phish))\n",
    "print(count_t_d_phish)\n",
    "print('legit')\n",
    "count_t_d_legit, lst_t_d_legit = comparing(clean_up_list(t_s_legit),clean_up_list(d_s_legit))\n",
    "print(count_t_d_legit)\n",
    "\n",
    "print('Intersection between textfooler and bae')\n",
    "count_t_b, lst_t_b = comparing(t_r_s,b_r_s)\n",
    "\n",
    "print('phishing')\n",
    "count_t_b_phish, lst_t_b_phish = comparing(clean_up_list(t_s_phish),clean_up_list(b_s_phish))\n",
    "print(count_t_b_phish)\n",
    "print('legit')\n",
    "count_t_b_legit, lst_t_p_legit = comparing(clean_up_list(t_s_legit),clean_up_list(b_s_legit))\n",
    "print(count_t_b_legit)\n",
    "\n",
    "print('Intersection between pwws and deepwordbug')\n",
    "count_p_d, lst_p_d = comparing(p_r_s,d_r_s)\n",
    "print(count_p_d)\n",
    "\n",
    "print('phishing')\n",
    "count_p_d_phish, lst_p_d_phish = comparing(clean_up_list(p_s_phish),clean_up_list(d_s_phish))\n",
    "print(count_p_d_phish)\n",
    "print('legit')\n",
    "count_p_d_legit, lst_p_d_legit = comparing(clean_up_list(p_s_legit),clean_up_list(d_s_legit))\n",
    "print(count_p_d_legit)\n",
    "\n",
    "print('Intersection between pwws and bae')\n",
    "count_p_b, lst_p_d = comparing(p_r_s,b_r_s)\n",
    "\n",
    "\n",
    "print('phishing')\n",
    "count_p_b_phish, lst_p_b_phish = comparing(clean_up_list(p_s_phish),clean_up_list(b_s_phish))\n",
    "print(count_p_b_phish)\n",
    "print('legit')\n",
    "count_p_b_legit, lst_p_b_legit = comparing(clean_up_list(p_s_legit),clean_up_list(b_s_legit))\n",
    "print(count_p_b_legit)\n",
    "\n",
    "print('Intersection between deepwordbug and bae')\n",
    "count_d_b, lst_d_d = comparing(d_r_s,b_r_s)\n",
    "\n",
    "\n",
    "print('phishing')\n",
    "count_d_b_phish, lst_d_b_phish = comparing(clean_up_list(d_s_phish),clean_up_list(b_s_phish))\n",
    "print(count_d_b_phish)\n",
    "print('legit')\n",
    "count_d_b_legit, lst_d_b_legit = comparing(clean_up_list(d_s_legit),clean_up_list(b_s_legit))\n",
    "print(count_d_b_legit)\n",
    "\n",
    "print('************************************')\n",
    "print('Intersection between textfooler, pwws and deepwordbug')\n",
    "count_t_p_d, lst_t_p_d = comparing(d_r_s,lst_t_p)\n",
    "\n",
    "\n",
    "print('phishing')\n",
    "count_t_p_d_phish, lst_t_p_d_phish = comparing(clean_up_list(d_s_phish),lst_t_p_phish)\n",
    "print(count_t_p_d_phish)\n",
    "print('legit')\n",
    "count_t_p_d_legit, lst_t_p_d_legit = comparing(clean_up_list(d_s_legit),lst_t_p_legit)\n",
    "print(count_t_p_d_legit)\n",
    "\n",
    "print('Intersection between textfooler, pwws and bae')\n",
    "count_t_p_b, lst_t_p_b = comparing(b_r_s,lst_t_p)\n",
    "\n",
    "print('phishing')\n",
    "count_t_p_b_phish, lst_t_p_d_phish = comparing(clean_up_list(b_s_phish),lst_t_p_phish)\n",
    "print(count_t_p_b_phish)\n",
    "print('legit')\n",
    "count_t_p_b_legit, lst_t_p_b_legit = comparing(clean_up_list(b_s_legit),lst_t_p_legit)\n",
    "print(count_t_p_b_legit)\n",
    "\n",
    "\n",
    "print('Intersection between textfooler, deepwordbug and bae')\n",
    "count_t_d_b, lst_t_d_b = comparing(b_r_s,lst_t_d)\n",
    "\n",
    "print('phishing')\n",
    "count_t_d_b_phish, lst_t_d_b_phish = comparing(clean_up_list(b_s_phish),lst_t_d_phish)\n",
    "print(count_t_d_b_phish)\n",
    "print('legit')\n",
    "count_t_d_b_legit, lst_t_d_b_legit = comparing(clean_up_list(b_s_legit),lst_t_d_legit)\n",
    "print(count_t_d_b_legit)\n",
    "\n",
    "print('Intersection between pwws, deepwordbug and bae')\n",
    "count_p_d_b, lst_p_d_b = comparing(b_r_s,lst_p_d)\n",
    "\n",
    "print('phishing')\n",
    "count_p_d_b_phish, lst_p_d_b_phish = comparing(clean_up_list(b_s_phish),lst_p_d_phish)\n",
    "print(count_p_d_b_phish)\n",
    "print('legit')\n",
    "count_p_d_b_legit, lst_p_d_b_legit = comparing(clean_up_list(b_s_legit),lst_p_d_legit)\n",
    "print(count_p_d_b_legit)\n",
    "\n",
    "print('************************************')\n",
    "print('Intersection between textfooler, pwws, deepwordbug and bae')\n",
    "count_t_p_d_b, lst_t_p_d_b = comparing(b_r_s,lst_t_p_d)\n",
    "\n",
    "print('phishing')\n",
    "count_t_p_d_b_phish, lst_t_p_d_b_phish = comparing(clean_up_list(b_s_phish),lst_t_p_d_phish)\n",
    "print(count_t_p_d_b_phish)\n",
    "print('legit')\n",
    "count_t_p_d_b_legit, lst_t_p_d_b_legit = comparing(clean_up_list(b_s_legit),lst_t_p_d_legit)\n",
    "print(count_t_p_d_b_legit)"
   ]
  },
  {
   "cell_type": "markdown",
   "metadata": {},
   "source": [
    "### Make a list of of purtubed words and their original words"
   ]
  },
  {
   "cell_type": "code",
   "execution_count": 40,
   "metadata": {},
   "outputs": [],
   "source": [
    "def original_purturbed_word_file(succeeded_examples, attack_examples, attack_name):\n",
    "\n",
    "    indexs = list(range(0,len(succeeded_examples)))\n",
    "    original_words = extract_purturb_words(succeeded_examples, indexs)\n",
    "    purturbed_words = extract_purturb_words(attack_examples, indexs)\n",
    "\n",
    "    original_words_lst = []\n",
    "    purturbed_words_lst = []\n",
    "\n",
    "    for i in range(len(original_words)):\n",
    "        for j in range(len(original_words[i])):\n",
    "            original_words_lst.append(original_words[i][j])\n",
    "            purturbed_words_lst.append(purturbed_words[i][j])\n",
    "    \n",
    "    words_df = pd.DataFrame(\n",
    "    {'Original Word': original_words_lst,\n",
    "     'Purturbed Word': purturbed_words_lst\n",
    "    })\n",
    "    words_df.to_csv(attack_name + '.csv')\n",
    "    return words_df\n"
   ]
  },
  {
   "cell_type": "markdown",
   "metadata": {},
   "source": [
    "### Compare word2vec values of original and puturbed words"
   ]
  },
  {
   "cell_type": "code",
   "execution_count": 41,
   "metadata": {},
   "outputs": [],
   "source": [
    "def word2vec_stat_original_puturbed_words(df):\n",
    "    sim_lst = []\n",
    "    norm_lst = []\n",
    "    for i in range(df.shape[0]):\n",
    "        if (df['Original Word'].iloc[i] in model.vocab) and (df['Purturbed Word'].iloc[i] in model.vocab):\n",
    "            sim_lst.append(model.wv.similarity(df['Original Word'].iloc[i],df['Purturbed Word'].iloc[i]))\n",
    "            norm_lst.append(np.linalg.norm(model[df['Original Word'].iloc[i]])-np.linalg.norm(model[df['Purturbed Word'].iloc[i]]))\n",
    "            \n",
    "    print('Mean Sim: ' + str(np.mean(sim_lst)))\n",
    "    print('STD Sim: ' + str(np.std(sim_lst)))\n",
    "    print('Range Sim: ' + str(np.max(sim_lst)-np.min(sim_lst)))\n",
    "    \n",
    "    \n",
    "    print('Mean norm: ' + str(np.mean(norm_lst)))\n",
    "    print('STD norm: ' + str(np.std(norm_lst)))\n",
    "    print('Range norm: ' + str(np.max(norm_lst)-np.min(norm_lst)))"
   ]
  },
  {
   "cell_type": "code",
   "execution_count": 120,
   "metadata": {},
   "outputs": [],
   "source": [
    "# indexs = list(range(0,len(p_succeeded_examples)))\n",
    "# original_words = extract_purturb_words(p_succeeded_examples, indexs)\n",
    "# purturbed_words = extract_purturb_words(p_attack_examples, indexs)"
   ]
  },
  {
   "cell_type": "markdown",
   "metadata": {},
   "source": [
    "### Extract original and puturbed words for phish and legit seperately "
   ]
  },
  {
   "cell_type": "code",
   "execution_count": 323,
   "metadata": {},
   "outputs": [],
   "source": [
    "#t_s_phish, t_a_phish, t_s_legit, t_a_legit\n",
    "df_phish_t = original_purturbed_word_file(t_s_phish, t_a_phish, 'phish_textfooler')\n",
    "df_legit_t = original_purturbed_word_file(t_s_legit, t_a_legit, 'legit_textfooler')\n",
    "df_phish_p = original_purturbed_word_file(p_s_phish, p_a_phish, 'phish_pwws')\n",
    "df_legit_p = original_purturbed_word_file(p_s_legit, p_a_legit, 'legit_pwws')\n",
    "df_phish_d = original_purturbed_word_file(d_s_phish, d_a_phish, 'phish_deepwordbug')\n",
    "df_legit_d = original_purturbed_word_file(d_s_legit, d_a_legit, 'legit_deepwordbug')\n",
    "df_phish_b = original_purturbed_word_file(b_s_phish, b_a_phish, 'phish_bae')\n",
    "df_legit_b = original_purturbed_word_file(b_s_legit, b_a_legit, 'legit_bae')"
   ]
  },
  {
   "cell_type": "code",
   "execution_count": 324,
   "metadata": {},
   "outputs": [
    {
     "name": "stdout",
     "output_type": "stream",
     "text": [
      "****************\n",
      "Textfooler Phish\n"
     ]
    },
    {
     "name": "stderr",
     "output_type": "stream",
     "text": [
      "<ipython-input-322-be005d0ff23b>:6: DeprecationWarning: Call to deprecated `wv` (Attribute will be removed in 4.0.0, use self instead).\n",
      "  sim_lst.append(model.wv.similarity(df['Original Word'].iloc[i],df['Purturbed Word'].iloc[i]))\n"
     ]
    },
    {
     "name": "stdout",
     "output_type": "stream",
     "text": [
      "Mean Sim: 0.20937654\n",
      "STD Sim: 0.14644863\n",
      "Range Sim: 0.8784333\n",
      "Mean norm: -0.106889755\n",
      "STD norm: 0.72783375\n",
      "Range norm: 5.3613234\n",
      "****************\n",
      "Textfooler Legitimate\n",
      "Mean Sim: 0.2954237\n",
      "STD Sim: 0.19404508\n",
      "Range Sim: 1.0027864\n",
      "Mean norm: -0.30123067\n",
      "STD norm: 0.6654041\n",
      "Range norm: 6.301003\n",
      "****************\n",
      "PWWS Phish\n",
      "Mean Sim: 0.12213121\n",
      "STD Sim: 0.104614444\n",
      "Range Sim: 0.6358504\n",
      "Mean norm: -0.1373815\n",
      "STD norm: 0.79808044\n",
      "Range norm: 4.273055\n",
      "****************\n",
      "PWWS Legitimate\n",
      "Mean Sim: 0.20150189\n",
      "STD Sim: 0.16462833\n",
      "Range Sim: 0.83361083\n",
      "Mean norm: -0.26859355\n",
      "STD norm: 0.6585989\n",
      "Range norm: 3.7630296\n",
      "****************\n",
      "BAE Phish\n",
      "Mean Sim: 0.19261009\n",
      "STD Sim: 0.12859797\n",
      "Range Sim: 0.43897578\n",
      "Mean norm: 0.39007956\n",
      "STD norm: 0.9232971\n",
      "Range norm: 4.327286\n",
      "****************\n",
      "BAE Legitimate\n",
      "Mean Sim: 0.1769959\n",
      "STD Sim: 0.18676053\n",
      "Range Sim: 0.79170364\n",
      "Mean norm: 0.20140167\n",
      "STD norm: 0.94235045\n",
      "Range norm: 5.672743\n"
     ]
    }
   ],
   "source": [
    "print('****************')\n",
    "print('Textfooler Phish')\n",
    "word2vec_stat_original_puturbed_words(df_phish_t)\n",
    "print('****************')\n",
    "print('Textfooler Legitimate')\n",
    "word2vec_stat_original_puturbed_words(df_legit_t)\n",
    "print('****************')\n",
    "print('PWWS Phish')\n",
    "word2vec_stat_original_puturbed_words(df_phish_p)\n",
    "print('****************')\n",
    "print('PWWS Legitimate')\n",
    "word2vec_stat_original_puturbed_words(df_legit_p)\n",
    "\n",
    "print('****************')\n",
    "print('BAE Phish')\n",
    "word2vec_stat_original_puturbed_words(df_phish_b)\n",
    "print('****************')\n",
    "print('BAE Legitimate')\n",
    "word2vec_stat_original_puturbed_words(df_legit_b)\n"
   ]
  },
  {
   "cell_type": "markdown",
   "metadata": {},
   "source": [
    "### Find POS tag of purturbed words in different attack exampls"
   ]
  },
  {
   "cell_type": "code",
   "execution_count": 15,
   "metadata": {},
   "outputs": [],
   "source": [
    "def extract_pos_tags(texts):\n",
    "    pos_tags = []\n",
    "    for text in texts:\n",
    "        text = word_tokenize(text)\n",
    "        pos_tags.append(nltk.pos_tag(text))\n",
    "    return pos_tags\n",
    "\n",
    "def purturbed_words_pos_tags(attack_examples):\n",
    "    purturbed_pos_tag_2 = []\n",
    "    word_lst2 = []\n",
    "    final_pos_tag_lst = []\n",
    "    \n",
    "    indexs = list(range(0,len(attack_examples)))\n",
    "    purturbed_words = extract_purturb_words(attack_examples, indexs)\n",
    "    p_pos_tags = extract_pos_tags(clean_up_list(attack_examples))\n",
    "    \n",
    "    for i in range(len(p_pos_tags)):\n",
    "        word_lst1 = []\n",
    "        purturbed_pos_tag_1 = []\n",
    "        for j in range(len(p_pos_tags[i])):\n",
    "            if p_pos_tags[i][j][0] in purturbed_words[i]:\n",
    "                word_lst1.append(p_pos_tags[i][j][0])\n",
    "                purturbed_pos_tag_1.append(p_pos_tags[i][j][1])\n",
    "        \n",
    "        word_lst2.append(word_lst1) \n",
    "        purturbed_pos_tag_2.append(purturbed_pos_tag_1)\n",
    "    \n",
    "    \n",
    "    for i in range(len(purturbed_words)):\n",
    "        for j in range(len(purturbed_words[i])):\n",
    "            if purturbed_words[i][j] in word_lst2[i]:\n",
    "                index = word_lst2[i].index(purturbed_words[i][j])\n",
    "                final_pos_tag_lst.append(purturbed_pos_tag_2[i][index])\n",
    "            \n",
    "    return word_lst2, purturbed_pos_tag_2, final_pos_tag_lst\n",
    "        \n",
    "\n",
    "def pos_tag_evaluation(succeeded,attack):\n",
    "    indexs = list(range(0,len(succeeded)))\n",
    "    original_words = extract_purturb_words(succeeded, indexs)\n",
    "    purturbed_words = extract_purturb_words(attack, indexs)\n",
    "    s_pos_tags = extract_pos_tags(clean_up_list(succeeded))\n",
    "    a_pos_tags = extract_pos_tags(clean_up_list(attack))\n",
    "    count_true = 0\n",
    "    count_all = 0\n",
    "\n",
    "\n",
    "    for j in range(len(clean_up_list(attack))):\n",
    "        a = word_tokenize(clean_up_list(attack)[j])\n",
    "        for i in range(len(purturbed_words[j])):\n",
    "            if purturbed_words[j][i] in a:\n",
    "                k = a.index(purturbed_words[j][i])\n",
    "                if s_pos_tags[j][k][1] == a_pos_tags[j][k][1]:\n",
    "                    count_true += 1\n",
    "                    count_all += 1\n",
    "                else:\n",
    "                    count_all += 1\n",
    "                   \n",
    "\n",
    "    return (count_true/count_all)         \n"
   ]
  },
  {
   "cell_type": "code",
   "execution_count": 45,
   "metadata": {},
   "outputs": [
    {
     "name": "stdout",
     "output_type": "stream",
     "text": [
      "0.6618521665250637\n"
     ]
    }
   ],
   "source": [
    "print(pos_tag_evaluation(t_succeeded, t_attack))"
   ]
  },
  {
   "cell_type": "code",
   "execution_count": 263,
   "metadata": {},
   "outputs": [
    {
     "name": "stdout",
     "output_type": "stream",
     "text": [
      "0.504297994269341\n"
     ]
    }
   ],
   "source": [
    "print(pos_tag_evaluation(p_succeeded, p_attack))"
   ]
  },
  {
   "cell_type": "code",
   "execution_count": 264,
   "metadata": {},
   "outputs": [
    {
     "name": "stdout",
     "output_type": "stream",
     "text": [
      "0.6882494004796164\n"
     ]
    }
   ],
   "source": [
    "print(pos_tag_evaluation(d_succeeded, d_attack))"
   ]
  },
  {
   "cell_type": "markdown",
   "metadata": {},
   "source": [
    "### Evaluate original and puturbed words sysnset"
   ]
  },
  {
   "cell_type": "code",
   "execution_count": 346,
   "metadata": {
    "scrolled": true
   },
   "outputs": [],
   "source": [
    "def synset_evaluation(succeeded,attack):\n",
    "    count = 0\n",
    "    count_all = 0\n",
    "    indexs = list(range(0,len(succeeded)))\n",
    "    original_words = extract_purturb_words(succeeded, indexs)\n",
    "    purturbed_words = extract_purturb_words(attack, indexs)\n",
    "\n",
    "    for i in range(len(original_words)):\n",
    "        for j in range(len(original_words[i])):\n",
    "            o_ss = set(wn.synsets(original_words[i][j]))\n",
    "            p_ss = set(wn.synsets(purturbed_words[i][j]))\n",
    "            #print(o_ss)\n",
    "            #print(p_ss)\n",
    "            if o_ss.intersection(p_ss):\n",
    "                #print(o_ss.intersection(p_ss))\n",
    "                count += 1\n",
    "                count_all += 1\n",
    "            else:\n",
    "                count_all += 1\n",
    "                \n",
    "    return count/count_all"
   ]
  },
  {
   "cell_type": "code",
   "execution_count": 336,
   "metadata": {},
   "outputs": [
    {
     "name": "stdout",
     "output_type": "stream",
     "text": [
      "0.13226621735467564\n"
     ]
    }
   ],
   "source": [
    "print(synset_evaluation(t_succeeded, t_attack))"
   ]
  },
  {
   "cell_type": "code",
   "execution_count": 347,
   "metadata": {},
   "outputs": [
    {
     "name": "stdout",
     "output_type": "stream",
     "text": [
      "1.0\n"
     ]
    }
   ],
   "source": [
    "print(synset_evaluation(p_succeeded, p_attack))"
   ]
  },
  {
   "cell_type": "code",
   "execution_count": 349,
   "metadata": {},
   "outputs": [
    {
     "name": "stdout",
     "output_type": "stream",
     "text": [
      "0.058823529411764705\n"
     ]
    }
   ],
   "source": [
    "print(synset_evaluation(b_succeeded, b_attack))"
   ]
  },
  {
   "cell_type": "markdown",
   "metadata": {},
   "source": [
    "### Calculate perturbed word POS-Tag percentage"
   ]
  },
  {
   "cell_type": "code",
   "execution_count": 17,
   "metadata": {},
   "outputs": [],
   "source": [
    "def count_pos_tags(pos_indexes, pos_lst):\n",
    "    result = []\n",
    "    for item in pos_indexes:\n",
    "        result.append(pos_lst.count(item))\n",
    "    return result\n",
    "\n",
    "\n",
    "def pos_percentage(succeeded_examples,f_pos):\n",
    "    a = extract_pos_tags(clean_up_list(succeeded_examples))\n",
    "    l = []\n",
    "    for i in range(len(a)):\n",
    "        for j in range(len(a[i])):\n",
    "            l.append(a[i][j][1])\n",
    "\n",
    "    t = count_pos_tags(pos_indexes, l)\n",
    "    print(t)\n",
    "    l_t = count_pos_tags(pos_indexes, f_pos)\n",
    "\n",
    "    c = []\n",
    "    for i in range(len(l_t)):\n",
    "        if(t[i] == 0):\n",
    "            c.append(0)\n",
    "        else:\n",
    "            c.append((l_t[i]/t[i])*100)\n",
    "    return c"
   ]
  },
  {
   "cell_type": "code",
   "execution_count": 18,
   "metadata": {
    "scrolled": true
   },
   "outputs": [],
   "source": [
    "t_w, t_p, t_f_pos = purturbed_words_pos_tags(t_succeeded_examples)  \n",
    "\n",
    "pos_indexes = np.unique(t_f_pos)"
   ]
  },
  {
   "cell_type": "code",
   "execution_count": 19,
   "metadata": {},
   "outputs": [],
   "source": [
    "p_w, p_p, p_f_pos = purturbed_words_pos_tags(p_succeeded_examples)"
   ]
  },
  {
   "cell_type": "code",
   "execution_count": 20,
   "metadata": {},
   "outputs": [],
   "source": [
    "d_w, d_p, d_f_pos = purturbed_words_pos_tags(d_succeeded_examples)"
   ]
  },
  {
   "cell_type": "code",
   "execution_count": 21,
   "metadata": {},
   "outputs": [],
   "source": [
    "b_w, b_p, b_f_pos = purturbed_words_pos_tags(b_succeeded_examples)"
   ]
  },
  {
   "cell_type": "markdown",
   "metadata": {},
   "source": [
    "### POS Tags Distribution Among Different Text Attack Techniques"
   ]
  },
  {
   "cell_type": "code",
   "execution_count": 37,
   "metadata": {
    "scrolled": true
   },
   "outputs": [
    {
     "data": {
      "text/plain": [
       "Text(0, 0.5, 'POS Counts')"
      ]
     },
     "execution_count": 37,
     "metadata": {},
     "output_type": "execute_result"
    },
    {
     "data": {
      "image/png": "[encoded data removed]",
      "text/plain": [
       "<Figure size 1080x720 with 1 Axes>"
      ]
     },
     "metadata": {
      "needs_background": "light"
     },
     "output_type": "display_data"
    }
   ],
   "source": [
    "plotdata = pd.DataFrame({\n",
    "    \"Textfooler\":count_pos_tags(pos_indexes, t_f_pos),\n",
    "    \"PWWS\":count_pos_tags(pos_indexes, p_f_pos),\n",
    "    \"DeepWordBuG\":count_pos_tags(pos_indexes, d_f_pos),\n",
    "    \"BAE\":count_pos_tags(pos_indexes, b_f_pos)\n",
    "    }, \n",
    "    index=pos_indexes\n",
    ")\n",
    "plotdata.plot(kind=\"bar\", figsize=(15, 10), fontsize=17)\n",
    "plt.xticks(rotation=0, horizontalalignment=\"center\")\n",
    "plt.title(\"POS Tags Distribution Among Different Text Attack Techniques\", fontsize=20)\n",
    "plt.legend(fontsize=20)\n",
    "plt.xlabel(\"POS Tags\", fontsize=20)\n",
    "plt.ylabel(\"POS Counts\", fontsize=20)"
   ]
  },
  {
   "cell_type": "markdown",
   "metadata": {},
   "source": [
    "### POS Tags % Distribution Among Different Text Attack Techniques"
   ]
  },
  {
   "cell_type": "code",
   "execution_count": 51,
   "metadata": {},
   "outputs": [
    {
     "name": "stdout",
     "output_type": "stream",
     "text": [
      "[93, 130, 62, 2, 2, 164, 195, 4, 31, 68, 43, 87, 10, 24, 24, 50, 24]\n",
      "[52, 74, 43, 0, 2, 98, 103, 4, 17, 34, 24, 56, 5, 10, 18, 27, 16]\n",
      "[40, 52, 27, 0, 1, 70, 83, 3, 15, 19, 15, 40, 3, 6, 15, 15, 13]\n",
      "[17, 22, 10, 0, 0, 24, 27, 2, 5, 9, 4, 9, 2, 2, 2, 7, 2]\n"
     ]
    },
    {
     "data": {
      "text/plain": [
       "Text(0, 0.5, 'POS Counts %')"
      ]
     },
     "execution_count": 51,
     "metadata": {},
     "output_type": "execute_result"
    },
    {
     "data": {
      "image/png": "[encoded data removed]",
      "text/plain": [
       "<Figure size 1080x720 with 1 Axes>"
      ]
     },
     "metadata": {
      "needs_background": "light"
     },
     "output_type": "display_data"
    }
   ],
   "source": [
    "plotdata = pd.DataFrame({\n",
    "    \"Textfooler\":pos_percentage(t_succeeded_examples,t_f_pos),\n",
    "    \"PWWS\":pos_percentage(p_succeeded_examples,p_f_pos),\n",
    "    \"DeepWordBuG\":pos_percentage(d_succeeded_examples, d_f_pos),\n",
    "    \"BAE\":pos_percentage(b_succeeded_examples, b_f_pos)\n",
    "    }, \n",
    "    index=pos_indexes\n",
    ")\n",
    "plotdata.plot(kind=\"bar\", figsize=(15, 10))\n",
    "plt.xticks(rotation=0, horizontalalignment=\"center\")\n",
    "plt.title(\"POS Tags % Distribution Among Different Text Attack Techniques\", fontsize=20)\n",
    "plt.xlabel(\"POS Tags\", fontsize=20)\n",
    "plt.ylabel(\"POS Counts %\", fontsize=20)"
   ]
  },
  {
   "cell_type": "markdown",
   "metadata": {},
   "source": [
    "### Succeed and Failed Text Attack Examples' Statistics"
   ]
  },
  {
   "cell_type": "code",
   "execution_count": 26,
   "metadata": {},
   "outputs": [],
   "source": [
    "import textstat"
   ]
  },
  {
   "cell_type": "code",
   "execution_count": 94,
   "metadata": {},
   "outputs": [],
   "source": [
    "def lecxicon_count(texts):\n",
    "    lecxicon_count_list = []\n",
    "    for text in texts:\n",
    "        lecxicon_count_list.append(textstat.lexicon_count(text, removepunct=True))\n",
    "    return lecxicon_count_list\n",
    "\n",
    "def sentence_count(texts):\n",
    "    sentence_count_list = []\n",
    "    for text in texts: \n",
    "        sentence_count_list.append(textstat.sentence_count(text))\n",
    "    return sentence_count_list\n",
    "\n",
    "def polysyllab_count(texts):\n",
    "    polysyllab_count_list = []\n",
    "    for text in texts:\n",
    "        polysyllab_count_list.append(textstat.polysyllabcount(text))\n",
    "    return polysyllab_count_list\n",
    "\n",
    "def monosyllab_count(texts):\n",
    "    monosyllab_count_list = []\n",
    "    for text in texts:\n",
    "        monosyllab_count_list.append(textstat.monosyllabcount(text))\n",
    "    return monosyllab_count_list\n",
    "\n",
    "def flesch_reading_ease(texts):\n",
    "    flesch_reading_ease_list = []\n",
    "    for text in texts:\n",
    "        flesch_reading_ease_list.append(textstat.flesch_reading_ease(text))\n",
    "    return flesch_reading_ease_list\n",
    "\n",
    "def gunning_fog(texts):\n",
    "    gunning_fog_list = []\n",
    "    for text in texts:\n",
    "        gunning_fog_list.append(textstat.gunning_fog(text))\n",
    "        \n",
    "    return gunning_fog_list\n",
    "\n",
    "def smog_index(texts):\n",
    "    smog_index_list = []\n",
    "    for text in texts:\n",
    "        smog_index_list.append(textstat.smog_index(text))\n",
    "        \n",
    "    return smog_index_list\n",
    "\n",
    "def difficult_words(texts):\n",
    "    difficult_words_list = []\n",
    "    for text in texts:\n",
    "        difficult_words_list.append(textstat.difficult_words(text))\n",
    "        \n",
    "    return difficult_words_list\n",
    "\n",
    "def mean_std_list(lst):\n",
    "    return np.mean(lst), np.std(lst)\n",
    "\n",
    "def print_stat_result(succeed, failed):\n",
    "    print('lecxicon count mean and std of succeed examples', mean_std_list(lecxicon_count(succeed)))\n",
    "    print('lecxicon count mean and std of failed examples', mean_std_list(lecxicon_count(failed)))\n",
    "    print('*********************')\n",
    "    print('sentence count mean and std of succeed examples', mean_std_list(sentence_count(succeed)))\n",
    "    print('sentence count mean and std of failed examples', mean_std_list(sentence_count(failed)))\n",
    "    print('*********************')\n",
    "    print('polysyllab count mean and std of succeed examples', mean_std_list(polysyllab_count(succeed)))\n",
    "    print('polysyllab count mean and std of failed examples', mean_std_list(polysyllab_count(failed)))\n",
    "    print('*********************')\n",
    "    print('monosyllab count mean and std of succeed examples', mean_std_list(monosyllab_count(succeed)))\n",
    "    print('monosyllab count mean and std of failed examples', mean_std_list(monosyllab_count(failed)))\n",
    "    print('*********************')\n",
    "    print('flesch reading ease mean and std of succeed examples', mean_std_list(flesch_reading_ease(succeed)))\n",
    "    print('flesch reading ease mean and std of failed examples', mean_std_list(flesch_reading_ease(failed)))\n",
    "    print('*********************')\n",
    "    print('gunning fog mean and std of succeed examples', mean_std_list(gunning_fog(succeed)))\n",
    "    print('gunning fog mean and std of failed examples', mean_std_list(gunning_fog(failed)))\n",
    "    print('*********************')\n",
    "    print('smog index mean and std of succeed examples', mean_std_list(smog_index(succeed)))\n",
    "    print('smog index ease and std of failed examples', mean_std_list(smog_index(failed)))\n",
    "    print('*********************')\n",
    "    print('difficult words mean and std of succeed examples', mean_std_list(difficult_words(succeed)))\n",
    "    print('difficult words mean and std of failed examples', mean_std_list(difficult_words(failed)))\n",
    "    print('*********************')\n",
    "    "
   ]
  },
  {
   "cell_type": "markdown",
   "metadata": {},
   "source": [
    "### Textfooler Statistic Results"
   ]
  },
  {
   "cell_type": "code",
   "execution_count": 95,
   "metadata": {},
   "outputs": [
    {
     "name": "stdout",
     "output_type": "stream",
     "text": [
      "lecxicon count mean and std of succeed examples (59.1, 42.24914200312239)\n",
      "lecxicon count mean and std of failed examples (194.8125, 412.3907156371855)\n",
      "*********************\n",
      "sentence count mean and std of succeed examples (1.25, 0.4330127018922193)\n",
      "sentence count mean and std of failed examples (2.5125, 3.065916461679933)\n",
      "*********************\n",
      "polysyllab count mean and std of succeed examples (6.0, 5.531726674375733)\n",
      "polysyllab count mean and std of failed examples (26.7625, 80.37945069325865)\n",
      "*********************\n",
      "monosyllab count mean and std of succeed examples (40.75, 31.9372431496521)\n",
      "monosyllab count mean and std of failed examples (132.3375, 259.16181932096015)\n",
      "*********************\n",
      "flesch reading ease mean and std of succeed examples (31.326, 39.294707709817615)\n",
      "flesch reading ease mean and std of failed examples (5.147125000000001, 105.37630279377036)\n",
      "*********************\n",
      "gunning fog mean and std of succeed examples (23.033499999999997, 15.579750728108584)\n",
      "gunning fog mean and std of failed examples (32.768125, 40.525052501315464)\n",
      "*********************\n",
      "smog index mean and std of succeed examples (0.0, 0.0)\n",
      "smog index ease and std of failed examples (4.39875, 8.99204500864514)\n",
      "*********************\n",
      "difficult words mean and std of succeed examples (10.95, 7.351700483561609)\n",
      "difficult words mean and std of failed examples (32.75, 59.22742185846012)\n",
      "*********************\n"
     ]
    }
   ],
   "source": [
    "print_stat_result(t_s_result,t_failed_examples)"
   ]
  },
  {
   "cell_type": "markdown",
   "metadata": {},
   "source": [
    "### DeepWordBug Statistic Results"
   ]
  },
  {
   "cell_type": "code",
   "execution_count": 96,
   "metadata": {},
   "outputs": [
    {
     "name": "stdout",
     "output_type": "stream",
     "text": [
      "lecxicon count mean and std of succeed examples (48.4, 28.810414783546587)\n",
      "lecxicon count mean and std of failed examples (180.92222222222222, 391.1424073652794)\n",
      "*********************\n",
      "sentence count mean and std of succeed examples (1.5, 0.6708203932499369)\n",
      "sentence count mean and std of failed examples (2.3444444444444446, 2.9256000756202365)\n",
      "*********************\n",
      "polysyllab count mean and std of succeed examples (6.1, 6.80367547726962)\n",
      "polysyllab count mean and std of failed examples (24.444444444444443, 76.07643979155455)\n",
      "*********************\n",
      "monosyllab count mean and std of succeed examples (31.5, 18.76832437912346)\n",
      "monosyllab count mean and std of failed examples (123.18888888888888, 246.04913215067182)\n",
      "*********************\n",
      "flesch reading ease mean and std of succeed examples (40.19799999999999, 28.500764130107108)\n",
      "flesch reading ease mean and std of failed examples (7.0701111111111095, 100.67439172891811)\n",
      "*********************\n",
      "gunning fog mean and std of succeed examples (17.672, 9.217490764844843)\n",
      "gunning fog mean and std of failed examples (32.282222222222224, 38.72731180325033)\n",
      "*********************\n",
      "smog index mean and std of succeed examples (0.78, 2.34)\n",
      "smog index ease and std of failed examples (3.8233333333333337, 8.589412733773544)\n",
      "*********************\n",
      "difficult words mean and std of succeed examples (9.9, 6.5642973729105245)\n",
      "difficult words mean and std of failed examples (30.444444444444443, 56.28165501615979)\n",
      "*********************\n"
     ]
    }
   ],
   "source": [
    "print_stat_result(d_s_result,d_failed_examples)"
   ]
  },
  {
   "cell_type": "markdown",
   "metadata": {},
   "source": [
    "### PWWS Statistic Results"
   ]
  },
  {
   "cell_type": "code",
   "execution_count": 97,
   "metadata": {},
   "outputs": [
    {
     "name": "stdout",
     "output_type": "stream",
     "text": [
      "lecxicon count mean and std of succeed examples (45.666666666666664, 31.25522178594945)\n",
      "lecxicon count mean and std of failed examples (189.2, 400.85713459154147)\n",
      "*********************\n",
      "sentence count mean and std of succeed examples (1.2, 0.4000000000000001)\n",
      "sentence count mean and std of failed examples (2.447058823529412, 2.988235294117647)\n",
      "*********************\n",
      "polysyllab count mean and std of succeed examples (5.333333333333333, 6.0736223860962)\n",
      "polysyllab count mean and std of failed examples (25.658823529411766, 78.10679761653293)\n",
      "*********************\n",
      "monosyllab count mean and std of succeed examples (31.066666666666666, 22.25748313613998)\n",
      "monosyllab count mean and std of failed examples (128.65882352941176, 252.02556139926742)\n",
      "*********************\n",
      "flesch reading ease mean and std of succeed examples (42.302666666666674, 30.692917416817117)\n",
      "flesch reading ease mean and std of failed examples (4.750000000000002, 102.78871070994016)\n",
      "*********************\n",
      "gunning fog mean and std of succeed examples (18.356666666666666, 10.872817277759962)\n",
      "gunning fog mean and std of failed examples (33.020823529411764, 39.59176525228937)\n",
      "*********************\n",
      "smog index mean and std of succeed examples (0.0, 0.0)\n",
      "smog index ease and std of failed examples (4.14, 8.784748816255698)\n",
      "*********************\n",
      "difficult words mean and std of succeed examples (8.266666666666667, 6.546924638501823)\n",
      "difficult words mean and std of failed examples (31.941176470588236, 57.5506637036756)\n",
      "*********************\n"
     ]
    }
   ],
   "source": [
    "print_stat_result(p_s_result,p_failed_examples)"
   ]
  },
  {
   "cell_type": "markdown",
   "metadata": {},
   "source": [
    "### BAE Statistic Results"
   ]
  },
  {
   "cell_type": "code",
   "execution_count": 98,
   "metadata": {},
   "outputs": [
    {
     "name": "stdout",
     "output_type": "stream",
     "text": [
      "lecxicon count mean and std of succeed examples (33.4, 42.80467264213102)\n",
      "lecxicon count mean and std of failed examples (174.73684210526315, 381.57052767480315)\n",
      "*********************\n",
      "sentence count mean and std of succeed examples (1.2, 0.4)\n",
      "sentence count mean and std of failed examples (2.3157894736842106, 2.8553298561212888)\n",
      "*********************\n",
      "polysyllab count mean and std of succeed examples (6.2, 8.997777503361595)\n",
      "polysyllab count mean and std of failed examples (23.473684210526315, 74.16593658536571)\n",
      "*********************\n",
      "monosyllab count mean and std of succeed examples (22.0, 28.52367437761131)\n",
      "monosyllab count mean and std of failed examples (118.86315789473684, 240.15708063578177)\n",
      "*********************\n",
      "flesch reading ease mean and std of succeed examples (47.962, 25.877485503812)\n",
      "flesch reading ease mean and std of failed examples (8.405052631578945, 98.3762508019051)\n",
      "*********************\n",
      "gunning fog mean and std of succeed examples (12.67, 7.865059440334828)\n",
      "gunning fog mean and std of failed examples (31.776526315789475, 37.79582852973734)\n",
      "*********************\n",
      "smog index mean and std of succeed examples (0.0, 0.0)\n",
      "smog index ease and std of failed examples (3.70421052631579, 8.406112009340193)\n",
      "*********************\n",
      "difficult words mean and std of succeed examples (5.8, 5.706137047074842)\n",
      "difficult words mean and std of failed examples (29.57894736842105, 54.91305643754516)\n",
      "*********************\n"
     ]
    }
   ],
   "source": [
    "print_stat_result(b_s_result,b_failed_examples)"
   ]
  },
  {
   "cell_type": "markdown",
   "metadata": {},
   "source": [
    "### Statistical Analysis of Failed Attack Examples"
   ]
  },
  {
   "cell_type": "code",
   "execution_count": 36,
   "metadata": {
    "scrolled": false
   },
   "outputs": [
    {
     "data": {
      "text/plain": [
       "Text(0, 0.5, 'Mean Value')"
      ]
     },
     "execution_count": 36,
     "metadata": {},
     "output_type": "execute_result"
    },
    {
     "data": {
      "image/png": "[encoded data removed]",
      "text/plain": [
       "<Figure size 1080x720 with 1 Axes>"
      ]
     },
     "metadata": {
      "needs_background": "light"
     },
     "output_type": "display_data"
    }
   ],
   "source": [
    "Textfooler = [194.82, 2.51, 132.33,26.76,32.75, 32.28]\n",
    "PWWS = [174.73, 2.31, 118.86, 23.47, 31.94, 31.77]\n",
    "DeepWordBug = [189.20,2.44,128.65, 24.44,31.94, 33.02]\n",
    "BAE = [199.51,2.55,135.53,27.38,33.50,33.30]\n",
    "\n",
    "index = ['Lexicon', 'Sentence', 'Mono-Syll','Poly-Syll','Difficult-Word','Gunning-Fog']\n",
    "df = pd.DataFrame({'Textfooler': Textfooler,\n",
    "                  'PWWS': PWWS,\n",
    "               'DeepWordBug':DeepWordBug,\n",
    "               'BAE':BAE},index=index)\n",
    "#ax = df.plot.bar(rot=0)\n",
    "\n",
    "df.plot(kind=\"bar\", figsize=(15, 10), fontsize=20)\n",
    "plt.xticks(rotation=0, horizontalalignment=\"center\")\n",
    "# plotdata.plot(kind=\"bar\", figsize=(15, 10))\n",
    "# plt.title(\"POS Tags Distribution Among Different Text Attack Techniques\")\n",
    "plt.legend(fontsize=20)\n",
    "plt.xlabel(\"Counts\", fontsize=20)\n",
    "plt.ylabel(\"Mean Value\", fontsize=20)"
   ]
  },
  {
   "cell_type": "markdown",
   "metadata": {},
   "source": [
    "### Statistical Analysis of Successful Attack Examples"
   ]
  },
  {
   "cell_type": "code",
   "execution_count": 35,
   "metadata": {},
   "outputs": [
    {
     "data": {
      "text/plain": [
       "Text(0, 0.5, 'Mean Value')"
      ]
     },
     "execution_count": 35,
     "metadata": {},
     "output_type": "execute_result"
    },
    {
     "data": {
      "image/png": "[encoded data removed]",
      "text/plain": [
       "<Figure size 1080x720 with 1 Axes>"
      ]
     },
     "metadata": {
      "needs_background": "light"
     },
     "output_type": "display_data"
    }
   ],
   "source": [
    "Textfooler = [59.1,1.25, 40.75, 6.00, 10.95, 17.67]\n",
    "PWWS = [33.46,1.20,22.00,6.20,8.20,12.67]\n",
    "DeepWordBug = [45.60,1.20,31.06, 5.30,8.20, 18.35]\n",
    "BAE = [48.00,1.30,31.66,8.60,7.30,13.30]\n",
    "\n",
    "index = ['Lexicon', 'Sentence', 'Mono-Syll','Poly-Syll','Difficult-Word','Gunning-Fog']\n",
    "df = pd.DataFrame({'Textfooler': Textfooler,\n",
    "                  'PWWS': PWWS,\n",
    "               'DeepWordBug':DeepWordBug,\n",
    "               'BAE':BAE},index=index)\n",
    "#ax = df.plot.bar(rot=0)\n",
    "\n",
    "df.plot(kind=\"bar\", figsize=(15, 10), fontsize=20)\n",
    "plt.xticks(rotation=0, horizontalalignment=\"center\")\n",
    "# plotdata.plot(kind=\"bar\", figsize=(15, 10))\n",
    "# plt.title(\"POS Tags Distribution Among Different Text Attack Techniques\")\n",
    "plt.legend(fontsize=20)\n",
    "plt.xlabel(\"Counts\", fontsize=20)\n",
    "plt.ylabel(\"Mean Value\", fontsize=20)"
   ]
  },
  {
   "cell_type": "code",
   "execution_count": null,
   "metadata": {},
   "outputs": [],
   "source": []
  }
 ],
 "metadata": {
  "kernelspec": {
   "display_name": "Python 3",
   "language": "python",
   "name": "python3"
  },
  "language_info": {
   "codemirror_mode": {
    "name": "ipython",
    "version": 3
   },
   "file_extension": ".py",
   "mimetype": "text/x-python",
   "name": "python",
   "nbconvert_exporter": "python",
   "pygments_lexer": "ipython3",
   "version": "3.8.3"
  }
 },
 "nbformat": 4,
 "nbformat_minor": 4
}
